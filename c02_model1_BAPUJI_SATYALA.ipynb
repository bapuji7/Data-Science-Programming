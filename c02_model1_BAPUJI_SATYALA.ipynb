{
 "cells": [
  {
   "cell_type": "markdown",
   "id": "ac3c40a5",
   "metadata": {},
   "source": [
    " # WE02-Regression\n",
    " # Bapuji Satyala\n",
    " # U61600601"
   ]
  },
  {
   "cell_type": "markdown",
   "id": "66d01c8a-f0cd-42af-aff9-8ba0bbd3c47e",
   "metadata": {
    "slideshow": {
     "slide_type": "slide"
    },
    "tags": []
   },
   "source": [
    " Implementing the Linear Regression Model, and fitting a liner model using SGDRegressor and Ridge Regression by testing the three versions of the SGD Model by changing the alpha values and by comparing the values of them with the reguar regressor"
   ]
  },
  {
   "cell_type": "markdown",
   "id": "049ea964-ba9d-46aa-af88-d13550f27638",
   "metadata": {
    "slideshow": {
     "slide_type": "slide"
    },
    "tags": []
   },
   "source": [
    "## Step 1: Import the libraries we will use in this notebook and setting the seed to 1 to ensure that the results are same."
   ]
  },
  {
   "cell_type": "code",
   "execution_count": 1,
   "id": "cca96620-674f-43be-9633-3546127c263b",
   "metadata": {
    "slideshow": {
     "slide_type": "fragment"
    },
    "tags": []
   },
   "outputs": [],
   "source": [
    "import matplotlib.pyplot as plt\n",
    "import numpy as np\n",
    "import pandas as pd\n",
    "from sklearn.linear_model import LinearRegression\n",
    "from sklearn.metrics import mean_squared_error\n",
    "from sklearn.model_selection import train_test_split\n",
    "from sklearn.linear_model import SGDRegressor \n",
    "\n",
    "np.random.seed(1) "
   ]
  },
  {
   "cell_type": "markdown",
   "id": "31b63237-2a6b-40be-a7c9-9fd854b52339",
   "metadata": {},
   "source": [
    "## Step 2: Load the given data that we will model "
   ]
  },
  {
   "cell_type": "markdown",
   "id": "f01b0c8f",
   "metadata": {},
   "source": [
    "The Below CSV file have been generated in the C02_Model_data_gen_ note book.\n",
    "checking values within the data frame by using the head() where we are looking at the top three rows of the data frame."
   ]
  },
  {
   "cell_type": "code",
   "execution_count": 2,
   "id": "7815e222-9aae-4b39-999e-689dcea5aeb8",
   "metadata": {},
   "outputs": [
    {
     "data": {
      "text/html": [
       "<div>\n",
       "<style scoped>\n",
       "    .dataframe tbody tr th:only-of-type {\n",
       "        vertical-align: middle;\n",
       "    }\n",
       "\n",
       "    .dataframe tbody tr th {\n",
       "        vertical-align: top;\n",
       "    }\n",
       "\n",
       "    .dataframe thead th {\n",
       "        text-align: right;\n",
       "    }\n",
       "</style>\n",
       "<table border=\"1\" class=\"dataframe\">\n",
       "  <thead>\n",
       "    <tr style=\"text-align: right;\">\n",
       "      <th></th>\n",
       "      <th>input</th>\n",
       "      <th>target</th>\n",
       "    </tr>\n",
       "  </thead>\n",
       "  <tbody>\n",
       "    <tr>\n",
       "      <th>0</th>\n",
       "      <td>16.24</td>\n",
       "      <td>500.00</td>\n",
       "    </tr>\n",
       "    <tr>\n",
       "      <th>1</th>\n",
       "      <td>-6.12</td>\n",
       "      <td>-409.91</td>\n",
       "    </tr>\n",
       "    <tr>\n",
       "      <th>2</th>\n",
       "      <td>-5.28</td>\n",
       "      <td>-90.24</td>\n",
       "    </tr>\n",
       "  </tbody>\n",
       "</table>\n",
       "</div>"
      ],
      "text/plain": [
       "   input  target\n",
       "0  16.24  500.00\n",
       "1  -6.12 -409.91\n",
       "2  -5.28  -90.24"
      ]
     },
     "execution_count": 2,
     "metadata": {},
     "output_type": "execute_result"
    }
   ],
   "source": [
    "df = pd.read_csv('c02_dataset_1.csv')\n",
    "\n",
    "df.head(3)"
   ]
  },
  {
   "cell_type": "markdown",
   "id": "17c781c4",
   "metadata": {},
   "source": [
    "Here we are looking at the stastics of the columns of the data frame by usning the describe()method"
   ]
  },
  {
   "cell_type": "code",
   "execution_count": 3,
   "id": "f0763c54",
   "metadata": {},
   "outputs": [
    {
     "data": {
      "text/html": [
       "<div>\n",
       "<style scoped>\n",
       "    .dataframe tbody tr th:only-of-type {\n",
       "        vertical-align: middle;\n",
       "    }\n",
       "\n",
       "    .dataframe tbody tr th {\n",
       "        vertical-align: top;\n",
       "    }\n",
       "\n",
       "    .dataframe thead th {\n",
       "        text-align: right;\n",
       "    }\n",
       "</style>\n",
       "<table border=\"1\" class=\"dataframe\">\n",
       "  <thead>\n",
       "    <tr style=\"text-align: right;\">\n",
       "      <th></th>\n",
       "      <th>input</th>\n",
       "      <th>target</th>\n",
       "    </tr>\n",
       "  </thead>\n",
       "  <tbody>\n",
       "    <tr>\n",
       "      <th>count</th>\n",
       "      <td>1000.000000</td>\n",
       "      <td>1000.000000</td>\n",
       "    </tr>\n",
       "    <tr>\n",
       "      <th>mean</th>\n",
       "      <td>0.388160</td>\n",
       "      <td>34.571500</td>\n",
       "    </tr>\n",
       "    <tr>\n",
       "      <th>std</th>\n",
       "      <td>9.814919</td>\n",
       "      <td>318.722016</td>\n",
       "    </tr>\n",
       "    <tr>\n",
       "      <th>min</th>\n",
       "      <td>-30.540000</td>\n",
       "      <td>-933.340000</td>\n",
       "    </tr>\n",
       "    <tr>\n",
       "      <th>25%</th>\n",
       "      <td>-6.000000</td>\n",
       "      <td>-164.275000</td>\n",
       "    </tr>\n",
       "    <tr>\n",
       "      <th>50%</th>\n",
       "      <td>0.410000</td>\n",
       "      <td>29.425000</td>\n",
       "    </tr>\n",
       "    <tr>\n",
       "      <th>75%</th>\n",
       "      <td>7.040000</td>\n",
       "      <td>250.010000</td>\n",
       "    </tr>\n",
       "    <tr>\n",
       "      <th>max</th>\n",
       "      <td>39.590000</td>\n",
       "      <td>1248.215000</td>\n",
       "    </tr>\n",
       "  </tbody>\n",
       "</table>\n",
       "</div>"
      ],
      "text/plain": [
       "             input       target\n",
       "count  1000.000000  1000.000000\n",
       "mean      0.388160    34.571500\n",
       "std       9.814919   318.722016\n",
       "min     -30.540000  -933.340000\n",
       "25%      -6.000000  -164.275000\n",
       "50%       0.410000    29.425000\n",
       "75%       7.040000   250.010000\n",
       "max      39.590000  1248.215000"
      ]
     },
     "execution_count": 3,
     "metadata": {},
     "output_type": "execute_result"
    }
   ],
   "source": [
    "df.describe()"
   ]
  },
  {
   "cell_type": "markdown",
   "id": "da72a683-7346-4719-a391-df74dc12e636",
   "metadata": {},
   "source": [
    "Seperate out the input m(X) and the target (y)"
   ]
  },
  {
   "cell_type": "code",
   "execution_count": 4,
   "id": "d684c6ea-96f6-49db-9f35-c4588d83033f",
   "metadata": {
    "slideshow": {
     "slide_type": "subslide"
    },
    "tags": []
   },
   "outputs": [],
   "source": [
    "X=df[['input']]\n",
    "y=df[['target']]\n"
   ]
  },
  {
   "cell_type": "markdown",
   "id": "2251b80d-af86-4eb1-87b3-4852081028c3",
   "metadata": {},
   "source": [
    "## Step 3: Explore the given data\n",
    "\n",
    "Often we will do much more than this, but at least look at things using a scatterplot"
   ]
  },
  {
   "cell_type": "code",
   "execution_count": 5,
   "id": "8ba59a2e-a02a-4ea4-a73a-1ac6ba1d0056",
   "metadata": {},
   "outputs": [
    {
     "data": {
      "image/png": "[encoded data removed]",
      "text/plain": [
       "<Figure size 640x480 with 1 Axes>"
      ]
     },
     "metadata": {},
     "output_type": "display_data"
    }
   ],
   "source": [
    "fig = plt.figure()\n",
    "ax = fig.add_subplot()\n",
    "\n",
    "ax.scatter(X, y, color='red')\n",
    "\n",
    "ax.set_xlabel('input')\n",
    "ax.set_ylabel('target')\n",
    "plt.tight_layout()\n",
    "plt.show()"
   ]
  },
  {
   "cell_type": "markdown",
   "id": "b7c68dc7",
   "metadata": {},
   "source": [
    "## Step 4: Splitting the data using train test split"
   ]
  },
  {
   "cell_type": "markdown",
   "id": "03f85e25",
   "metadata": {},
   "source": [
    "The 'train_test_split'  is to divide the dataset into training and testing sets. It separates the features ('X_train' and 'X_test') and the target variable ('y_train' and 'y_test') with a 20% test size, i have considered the 80% of training set as the total number of observations are quite less"
   ]
  },
  {
   "cell_type": "code",
   "execution_count": 6,
   "id": "34906f20",
   "metadata": {},
   "outputs": [],
   "source": [
    "X_train,X_test,y_train,y_test = train_test_split(X,y,test_size=0.2,random_state=1)"
   ]
  },
  {
   "cell_type": "markdown",
   "id": "6545c4b0-4a61-4343-b7cf-db7f746b5d3c",
   "metadata": {},
   "source": [
    "## Step 5: Fitting the model\n",
    "\n",
    "Fit the linear regression model to the dataset"
   ]
  },
  {
   "cell_type": "code",
   "execution_count": 7,
   "id": "8f566ef6-b1b2-4091-b9fb-f33c27832c5f",
   "metadata": {},
   "outputs": [],
   "source": [
    "lin_reg=LinearRegression()\n",
    "_ = lin_reg.fit(X_train,y_train) "
   ]
  },
  {
   "cell_type": "markdown",
   "id": "b45e77cb-607a-4ef4-87ae-8fde787ed7ad",
   "metadata": {},
   "source": [
    "## Step 6: Analyze the linear regression model's performance"
   ]
  },
  {
   "cell_type": "markdown",
   "id": "ce57d2bf-91cd-4a8b-9383-621f0b0d1f68",
   "metadata": {},
   "source": [
    "Visualize the linear regression model results"
   ]
  },
  {
   "cell_type": "code",
   "execution_count": 8,
   "id": "847d4c77-85d5-4d8e-a939-6724e34413de",
   "metadata": {},
   "outputs": [
    {
     "data": {
      "image/png": "[encoded data removed]",
      "text/plain": [
       "<Figure size 640x480 with 1 Axes>"
      ]
     },
     "metadata": {},
     "output_type": "display_data"
    }
   ],
   "source": [
    "fig = plt.figure()\n",
    "ax = fig.add_subplot()\n",
    "\n",
    "ax.scatter(X_train, y_train, color='red')\n",
    "ax.scatter(X_test, lin_reg.predict(X_test), color='blue')\n",
    "\n",
    "ax.set_title('Linear Regression')\n",
    "ax.set_xlabel('input')\n",
    "ax.set_ylabel('target')\n",
    "plt.tight_layout()\n",
    "plt.show()"
   ]
  },
  {
   "cell_type": "code",
   "execution_count": 9,
   "id": "0fbed7d8",
   "metadata": {},
   "outputs": [],
   "source": [
    "b0 = lin_reg.intercept_[0]\n",
    "b1 = lin_reg.coef_[0][0]\n",
    "r2 = lin_reg.score(X_test, y_test)"
   ]
  },
  {
   "cell_type": "markdown",
   "id": "3119300c-f6c4-41f9-87fd-99915f171fdb",
   "metadata": {},
   "source": [
    "... using fstring formatting, we can display these values as follows..."
   ]
  },
  {
   "cell_type": "markdown",
   "id": "f8faa457",
   "metadata": {},
   "source": [
    "The Root Mean Square Error for the Linear Regression has been calculated"
   ]
  },
  {
   "cell_type": "code",
   "execution_count": 10,
   "id": "2af1b220-0199-40aa-adc3-aecd7a9bb36d",
   "metadata": {},
   "outputs": [
    {
     "name": "stdout",
     "output_type": "stream",
     "text": [
      "Y = 21.74 + 30.64x\n",
      "R^2: 0.893\n",
      "RMSE: 102.51\n"
     ]
    }
   ],
   "source": [
    "print(f\"Y = {b0:.2f} + {b1:.2f}x\")\n",
    "print(f\"R^2: {lin_reg.score(X_test, y_test):.3f}\") \n",
    "print(f\"RMSE: {mean_squared_error(y_test, lin_reg.predict(X_test))**0.5:.2f}\")\n",
    "# for more on fstrings see here...\n",
    "# https://www.freecodecamp.org/news/python-f-strings-tutorial-how-to-use-f-strings-for-string-formatting/"
   ]
  },
  {
   "cell_type": "markdown",
   "id": "dfe8f6f5",
   "metadata": {},
   "source": [
    "The Root Mean Square Error for the Linear Regression is 102.51"
   ]
  },
  {
   "cell_type": "markdown",
   "id": "6268b430",
   "metadata": {},
   "source": [
    " SGD regressor algorithm will use the Stochastic gradient descent for the optimization,which is an iterative optimaztion algorithm that updates the parameters of the model in small batches of data.SGD is faster and better for larger datasets where as the gradient descent is more efficeint for smaller data sets.The SGD Regressor offers us the parameters that gives us flexibility to choose different combinations of penality and loss functions."
   ]
  },
  {
   "cell_type": "markdown",
   "id": "54d79bd4",
   "metadata": {},
   "source": [
    "### Step 7: Applying Linear model using SGD Regressor there by fitting the model by considering Alpha - 0.01"
   ]
  },
  {
   "cell_type": "markdown",
   "id": "d6f91dec",
   "metadata": {},
   "source": [
    "Implementing and fitting the SGD linear regressor model by considering the maximum iterations as 100 and the eta will be controlling the step size of the each iteration which is set to 0.01.The Alpha value is the main parameter as it controls the strength of regularization and the penality is set to NONE which will specify the type of regularization to be applied."
   ]
  },
  {
   "cell_type": "code",
   "execution_count": 11,
   "id": "2b20204e",
   "metadata": {},
   "outputs": [
    {
     "name": "stdout",
     "output_type": "stream",
     "text": [
      "Number of iterations = 22\n"
     ]
    }
   ],
   "source": [
    "sgd_reg = SGDRegressor(max_iter=100, penalty=None, eta0=0.01,alpha=0.01,random_state = 1) \n",
    "sgd_reg.fit(X_train, np.ravel(y_train))\n",
    "\n",
    "print(f\"Number of iterations = {sgd_reg.n_iter_}\")\n",
    "\n"
   ]
  },
  {
   "cell_type": "markdown",
   "id": "42fc2709",
   "metadata": {},
   "source": [
    "The number of iterations are the number the optimization algorithm took to converge where have set it to max as 100 the present model took 22 iterations to converge."
   ]
  },
  {
   "cell_type": "markdown",
   "id": "8dbac441",
   "metadata": {},
   "source": [
    "Predicting the target values there by calculating the Root Mean Square error value and printing the value of it "
   ]
  },
  {
   "cell_type": "code",
   "execution_count": 12,
   "id": "0301fad5",
   "metadata": {
    "scrolled": true
   },
   "outputs": [
    {
     "name": "stdout",
     "output_type": "stream",
     "text": [
      "SGD  RMSE: 113.289\n"
     ]
    }
   ],
   "source": [
    "SGD_test_pred = sgd_reg.predict(X_test)\n",
    "SGD_test_rmse = np.sqrt(mean_squared_error(y_test, SGD_test_pred))\n",
    "print(f\"SGD  RMSE: {SGD_test_rmse:.3f}\")"
   ]
  },
  {
   "cell_type": "markdown",
   "id": "007bd783",
   "metadata": {},
   "source": [
    "The Root Mean Square value is 113.289 for the Linear model Using the SGD Regresor."
   ]
  },
  {
   "cell_type": "markdown",
   "id": "eda429e2",
   "metadata": {},
   "source": [
    "### Step 8 : Applying Linear model using L2 and fitting the SGD Regressor with Penality as L2 (RIDGE REGRESSOR) by considering Aplha - 0.70"
   ]
  },
  {
   "cell_type": "markdown",
   "id": "04e0220f",
   "metadata": {},
   "source": [
    "By setting the penality to L2 we are specifying the regularization where L2 means Ridge regression. this L2 adds a penality term to the loss function which is in proportion to the squares of the magnitude of coefficients, which helps in the prevention of overfitting of the model.we are considering the maximum number of iterations as 100 and alpha value is set to 0.70 which is  regularization strength and the eta will be controlling the step size of the each iteration which is set to 0.01."
   ]
  },
  {
   "cell_type": "code",
   "execution_count": 13,
   "id": "2afee7a9",
   "metadata": {},
   "outputs": [
    {
     "name": "stdout",
     "output_type": "stream",
     "text": [
      "Number of iterations = 15\n"
     ]
    }
   ],
   "source": [
    "sgd_reg_l2 = SGDRegressor(max_iter=100, penalty='l2', alpha = 0.70, eta0=0.01,random_state=1)\n",
    "_ = sgd_reg_l2.fit(X_train, np.ravel(y_train))\n",
    "\n",
    "print(f\"Number of iterations = {sgd_reg_l2.n_iter_}\")"
   ]
  },
  {
   "cell_type": "markdown",
   "id": "8cc08ca4",
   "metadata": {},
   "source": [
    "The number of iterations are the number the optimization algorithm took to converge where have set it to max as 100 the present model took 15 iterations to converge."
   ]
  },
  {
   "cell_type": "markdown",
   "id": "3702321a",
   "metadata": {},
   "source": [
    "Predicting the target values there by calculating the Root Mean Square error value and printing the value of it."
   ]
  },
  {
   "cell_type": "code",
   "execution_count": 14,
   "id": "c7fdee90",
   "metadata": {},
   "outputs": [
    {
     "name": "stdout",
     "output_type": "stream",
     "text": [
      "SGD with l2  RMSE: 102.470\n"
     ]
    }
   ],
   "source": [
    "\n",
    "SGD_test_pred_l2 = sgd_reg_l2.predict(X_test)\n",
    "SGD_test_rmse_l2 = np.sqrt(mean_squared_error(y_test, SGD_test_pred_l2))\n",
    "print(f\"SGD with l2  RMSE: {SGD_test_rmse_l2:.3f}\")"
   ]
  },
  {
   "cell_type": "markdown",
   "id": "61244ed6",
   "metadata": {},
   "source": [
    "The Root Mean Square value is 102.470 for the Linear model Using the SGD Regresor with L2 "
   ]
  },
  {
   "cell_type": "markdown",
   "id": "513875b4",
   "metadata": {},
   "source": [
    "### Step 9 : Applying Linear model using L1 and fitting the SGD Regressor with Penality as L1 (Lasso Regression) by considering Aplha - 1"
   ]
  },
  {
   "cell_type": "markdown",
   "id": "0abeefdd",
   "metadata": {},
   "source": [
    "By setting the penality to L1 we are specifying the regularization where L1 means Lasso regression. this L1 adds a penality term to the loss function which is in proportion to the absolute values of the coefficients, which helps in the prevention of overfitting of the model.we are conidering the maximum number of iterations as 100 and alpha value is set to 1 which is the regularization strength and the eta will be controlling the step size of the each iteration which is set to 0.01."
   ]
  },
  {
   "cell_type": "code",
   "execution_count": 15,
   "id": "7a54d9ee",
   "metadata": {
    "scrolled": true
   },
   "outputs": [
    {
     "name": "stdout",
     "output_type": "stream",
     "text": [
      "Number of iterations = 22\n"
     ]
    }
   ],
   "source": [
    "sgd_reg_l1 = SGDRegressor(max_iter=100, penalty='l1', alpha = 1, eta0=0.01,random_state=1)\n",
    "_ = sgd_reg_l1.fit(X_train, np.ravel(y_train))\n",
    "print(f\"Number of iterations = {sgd_reg_l1.n_iter_}\")\n"
   ]
  },
  {
   "cell_type": "markdown",
   "id": "3a27c858",
   "metadata": {},
   "source": [
    "The number of iterations are the number the optimization algorithm took to converge where have set it to max as 100 the present model took 22 iterations to converge."
   ]
  },
  {
   "cell_type": "markdown",
   "id": "012ff9a8",
   "metadata": {},
   "source": [
    "Predicting the target values there by calculating the Root Mean Square error value and printing the value of it "
   ]
  },
  {
   "cell_type": "code",
   "execution_count": 16,
   "id": "8d6b5dca",
   "metadata": {},
   "outputs": [
    {
     "name": "stdout",
     "output_type": "stream",
     "text": [
      "SGD with l1  RMSE: 113.328\n"
     ]
    }
   ],
   "source": [
    "SGD_test_pred_l1 = sgd_reg_l1.predict(X_test)\n",
    "SGD_test_rmse_l1 = np.sqrt(mean_squared_error(y_test, SGD_test_pred_l1))\n",
    "\n",
    "\n",
    "print(f\"SGD with l1  RMSE: {SGD_test_rmse_l1:.3f}\")"
   ]
  },
  {
   "cell_type": "markdown",
   "id": "9796b850",
   "metadata": {},
   "source": [
    "The Root Mean Square value is 113.328 for the Linear model Using the SGD Regresor with L1"
   ]
  },
  {
   "cell_type": "markdown",
   "id": "35d9e773",
   "metadata": {},
   "source": [
    "### SUMMARY"
   ]
  },
  {
   "cell_type": "markdown",
   "id": "7e18a8dc",
   "metadata": {},
   "source": [
    "- The Root Mean Square value of regular Linear Regression is 102.51\n",
    "- The Root Mean Square value of Linear Regression using SGDRegressor is 113.289 when cosidered the alpha value as 0.01\n",
    "- The Root Mean Square value of Linear Regression using SGDRegressor(L2- Ridge Regressor) is 102.470 when cosidered the alpha value as 0.70\n",
    "- The Root Mean Square value of Linear Regression using SGDRegressor(L1 - Laso Regressor) is 113.328 when cosidered the alpha value as 1\n",
    "\n",
    "By choosing the different values of alpha will considerabily affect the RMSE in a regularized linear regression models.As we know the Alpha values plays cruicial part when it comes to regularized models ie L1(Lasso) and L2(Ridge) as it controls the balance between fitting the model preventing the overfit. When used the Stochastic gradient descent with these models there by adjusting the alpha value one can achieve the fine tuning of the regularization applied. As the higher the alpha value considered ie in the Laso regressor it imposed higher regularization on the model there by reducing the risk of overfitting where the RMSE is considerably increased.whereas when the alpha value has been reduced it relaxes the regularization constraits which will allow the model to fit the data more closely there by reducing the RMSE. \n",
    "\n",
    "When compared to the Regular Linear regresion wit SGD regressor models the value of RMSE is quite low because in linear models there might be chances of over fitting.Also there might be other constraint like the data set size as we know that linear regression will compute the coefficients faster and give accurate results where as the SGD might still perform well as the entire data set can be processed in the memory.I have observed that when  the Alpha value is considered as  0.70 for the Ridge regression the Rmse value tends to be lower but the rmse for the alpha 1 for the Lasso regression tends to have higher number which might be a sign of under fit. When compared with the regular linear regression the rmse value is 102.51 where the Ridge regression regularization is in close proximity with lesser RMSE value."
   ]
  },
  {
   "cell_type": "code",
   "execution_count": null,
   "id": "ad08db80",
   "metadata": {},
   "outputs": [],
   "source": []
  }
 ],
 "metadata": {
  "kernelspec": {
   "display_name": "Python 3 (ipykernel)",
   "language": "python",
   "name": "python3"
  },
  "language_info": {
   "codemirror_mode": {
    "name": "ipython",
    "version": 3
   },
   "file_extension": ".py",
   "mimetype": "text/x-python",
   "name": "python",
   "nbconvert_exporter": "python",
   "pygments_lexer": "ipython3",
   "version": "3.11.4"
  }
 },
 "nbformat": 4,
 "nbformat_minor": 5
}
