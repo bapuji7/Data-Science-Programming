{
 "cells": [
  {
   "cell_type": "markdown",
   "id": "e9beb9ef",
   "metadata": {},
   "source": [
    "# WE04 DecisonTrees\n",
    "# Bapuji Satyala \n",
    "# U61600601"
   ]
  },
  {
   "cell_type": "markdown",
   "id": "42869fd2",
   "metadata": {},
   "source": [
    "In this Notebook we have cosidered a dataset from the UCI repository, where this dataset has 2139 observations with 24 features and 1 target, where our target variable is Binary column. This is a Classification Problem where  we are predicting if the patient have died within a certain window of time or not with diagnosed as AIDS\n",
    "\n",
    "The link for the dataset : https://archive.ics.uci.edu/dataset/890/aids+clinical+trials+group+study+175"
   ]
  },
  {
   "cell_type": "markdown",
   "id": "df90075e",
   "metadata": {},
   "source": [
    "## Importing the required libraries that we will be using in this note book."
   ]
  },
  {
   "cell_type": "code",
   "execution_count": 1,
   "id": "7f0e3a77",
   "metadata": {},
   "outputs": [],
   "source": [
    "import numpy as np\n",
    "import pandas as pd\n",
    "from sklearn.model_selection import train_test_split\n",
    "from sklearn.tree import DecisionTreeClassifier\n",
    "from sklearn.compose import ColumnTransformer\n",
    "from sklearn.pipeline import Pipeline\n",
    "from sklearn.preprocessing import StandardScaler\n",
    "from sklearn.dummy import DummyClassifier\n",
    "from sklearn.metrics import accuracy_score,f1_score, precision_score, recall_score\n",
    "from ucimlrepo import fetch_ucirepo\n",
    "from sklearn.preprocessing import FunctionTransformer\n",
    "from sklearn.model_selection import GridSearchCV\n",
    "np.random.seed(1)"
   ]
  },
  {
   "cell_type": "markdown",
   "id": "0f737ef7",
   "metadata": {},
   "source": [
    "To import the data we need to install the ucimlrepo as the dataset is Present in that repo, commented the below statement as the repo is already installed."
   ]
  },
  {
   "cell_type": "code",
   "execution_count": 2,
   "id": "7483bbbb",
   "metadata": {},
   "outputs": [],
   "source": [
    "#pip install ucimlrepo"
   ]
  },
  {
   "cell_type": "markdown",
   "id": "4a4b2698",
   "metadata": {},
   "source": [
    "Fetching the dataset from the repo and the id number of the dataset is 890 and we are saving the data set to the dataframe df "
   ]
  },
  {
   "cell_type": "code",
   "execution_count": 3,
   "id": "f8b64b4e",
   "metadata": {},
   "outputs": [],
   "source": [
    "AD = fetch_ucirepo(id=890) \n",
    "df = AD.data.original \n"
   ]
  },
  {
   "cell_type": "markdown",
   "id": "66bd01ae",
   "metadata": {},
   "source": [
    "Now we are looking at the top 5 observations of the dataframe which contain all the features and the target"
   ]
  },
  {
   "cell_type": "code",
   "execution_count": 4,
   "id": "34d4d3ba",
   "metadata": {
    "scrolled": true
   },
   "outputs": [
    {
     "data": {
      "text/html": [
       "<div>\n",
       "<style scoped>\n",
       "    .dataframe tbody tr th:only-of-type {\n",
       "        vertical-align: middle;\n",
       "    }\n",
       "\n",
       "    .dataframe tbody tr th {\n",
       "        vertical-align: top;\n",
       "    }\n",
       "\n",
       "    .dataframe thead th {\n",
       "        text-align: right;\n",
       "    }\n",
       "</style>\n",
       "<table border=\"1\" class=\"dataframe\">\n",
       "  <thead>\n",
       "    <tr style=\"text-align: right;\">\n",
       "      <th></th>\n",
       "      <th>pidnum</th>\n",
       "      <th>cid</th>\n",
       "      <th>time</th>\n",
       "      <th>trt</th>\n",
       "      <th>age</th>\n",
       "      <th>wtkg</th>\n",
       "      <th>hemo</th>\n",
       "      <th>homo</th>\n",
       "      <th>drugs</th>\n",
       "      <th>karnof</th>\n",
       "      <th>...</th>\n",
       "      <th>gender</th>\n",
       "      <th>str2</th>\n",
       "      <th>strat</th>\n",
       "      <th>symptom</th>\n",
       "      <th>treat</th>\n",
       "      <th>offtrt</th>\n",
       "      <th>cd40</th>\n",
       "      <th>cd420</th>\n",
       "      <th>cd80</th>\n",
       "      <th>cd820</th>\n",
       "    </tr>\n",
       "  </thead>\n",
       "  <tbody>\n",
       "    <tr>\n",
       "      <th>0</th>\n",
       "      <td>10056</td>\n",
       "      <td>0</td>\n",
       "      <td>948</td>\n",
       "      <td>2</td>\n",
       "      <td>48</td>\n",
       "      <td>89.8128</td>\n",
       "      <td>0</td>\n",
       "      <td>0</td>\n",
       "      <td>0</td>\n",
       "      <td>100</td>\n",
       "      <td>...</td>\n",
       "      <td>0</td>\n",
       "      <td>0</td>\n",
       "      <td>1</td>\n",
       "      <td>0</td>\n",
       "      <td>1</td>\n",
       "      <td>0</td>\n",
       "      <td>422</td>\n",
       "      <td>477</td>\n",
       "      <td>566</td>\n",
       "      <td>324</td>\n",
       "    </tr>\n",
       "    <tr>\n",
       "      <th>1</th>\n",
       "      <td>10059</td>\n",
       "      <td>1</td>\n",
       "      <td>1002</td>\n",
       "      <td>3</td>\n",
       "      <td>61</td>\n",
       "      <td>49.4424</td>\n",
       "      <td>0</td>\n",
       "      <td>0</td>\n",
       "      <td>0</td>\n",
       "      <td>90</td>\n",
       "      <td>...</td>\n",
       "      <td>0</td>\n",
       "      <td>1</td>\n",
       "      <td>3</td>\n",
       "      <td>0</td>\n",
       "      <td>1</td>\n",
       "      <td>0</td>\n",
       "      <td>162</td>\n",
       "      <td>218</td>\n",
       "      <td>392</td>\n",
       "      <td>564</td>\n",
       "    </tr>\n",
       "    <tr>\n",
       "      <th>2</th>\n",
       "      <td>10089</td>\n",
       "      <td>0</td>\n",
       "      <td>961</td>\n",
       "      <td>3</td>\n",
       "      <td>45</td>\n",
       "      <td>88.4520</td>\n",
       "      <td>0</td>\n",
       "      <td>1</td>\n",
       "      <td>1</td>\n",
       "      <td>90</td>\n",
       "      <td>...</td>\n",
       "      <td>1</td>\n",
       "      <td>1</td>\n",
       "      <td>3</td>\n",
       "      <td>0</td>\n",
       "      <td>1</td>\n",
       "      <td>1</td>\n",
       "      <td>326</td>\n",
       "      <td>274</td>\n",
       "      <td>2063</td>\n",
       "      <td>1893</td>\n",
       "    </tr>\n",
       "    <tr>\n",
       "      <th>3</th>\n",
       "      <td>10093</td>\n",
       "      <td>0</td>\n",
       "      <td>1166</td>\n",
       "      <td>3</td>\n",
       "      <td>47</td>\n",
       "      <td>85.2768</td>\n",
       "      <td>0</td>\n",
       "      <td>1</td>\n",
       "      <td>0</td>\n",
       "      <td>100</td>\n",
       "      <td>...</td>\n",
       "      <td>1</td>\n",
       "      <td>1</td>\n",
       "      <td>3</td>\n",
       "      <td>0</td>\n",
       "      <td>1</td>\n",
       "      <td>0</td>\n",
       "      <td>287</td>\n",
       "      <td>394</td>\n",
       "      <td>1590</td>\n",
       "      <td>966</td>\n",
       "    </tr>\n",
       "    <tr>\n",
       "      <th>4</th>\n",
       "      <td>10124</td>\n",
       "      <td>0</td>\n",
       "      <td>1090</td>\n",
       "      <td>0</td>\n",
       "      <td>43</td>\n",
       "      <td>66.6792</td>\n",
       "      <td>0</td>\n",
       "      <td>1</td>\n",
       "      <td>0</td>\n",
       "      <td>100</td>\n",
       "      <td>...</td>\n",
       "      <td>1</td>\n",
       "      <td>1</td>\n",
       "      <td>3</td>\n",
       "      <td>0</td>\n",
       "      <td>0</td>\n",
       "      <td>0</td>\n",
       "      <td>504</td>\n",
       "      <td>353</td>\n",
       "      <td>870</td>\n",
       "      <td>782</td>\n",
       "    </tr>\n",
       "  </tbody>\n",
       "</table>\n",
       "<p>5 rows × 25 columns</p>\n",
       "</div>"
      ],
      "text/plain": [
       "   pidnum  cid  time  trt  age     wtkg  hemo  homo  drugs  karnof  ...  \\\n",
       "0   10056    0   948    2   48  89.8128     0     0      0     100  ...   \n",
       "1   10059    1  1002    3   61  49.4424     0     0      0      90  ...   \n",
       "2   10089    0   961    3   45  88.4520     0     1      1      90  ...   \n",
       "3   10093    0  1166    3   47  85.2768     0     1      0     100  ...   \n",
       "4   10124    0  1090    0   43  66.6792     0     1      0     100  ...   \n",
       "\n",
       "   gender  str2  strat  symptom  treat  offtrt  cd40  cd420  cd80  cd820  \n",
       "0       0     0      1        0      1       0   422    477   566    324  \n",
       "1       0     1      3        0      1       0   162    218   392    564  \n",
       "2       1     1      3        0      1       1   326    274  2063   1893  \n",
       "3       1     1      3        0      1       0   287    394  1590    966  \n",
       "4       1     1      3        0      0       0   504    353   870    782  \n",
       "\n",
       "[5 rows x 25 columns]"
      ]
     },
     "execution_count": 4,
     "metadata": {},
     "output_type": "execute_result"
    }
   ],
   "source": [
    "df.head()"
   ]
  },
  {
   "cell_type": "markdown",
   "id": "c8464cae",
   "metadata": {},
   "source": [
    "We are looking at the number of rows and columns in the data frame.The dataframe contains 2139 observations and 25 columns "
   ]
  },
  {
   "cell_type": "code",
   "execution_count": 5,
   "id": "c188a873",
   "metadata": {},
   "outputs": [
    {
     "data": {
      "text/plain": [
       "(2139, 25)"
      ]
     },
     "execution_count": 5,
     "metadata": {},
     "output_type": "execute_result"
    }
   ],
   "source": [
    "df.shape"
   ]
  },
  {
   "cell_type": "markdown",
   "id": "63b09af8",
   "metadata": {},
   "source": [
    "Checking if there are any null values in the data frame and additing them to get more clear understanding on data if there are any nulls in the data frame or not"
   ]
  },
  {
   "cell_type": "code",
   "execution_count": 6,
   "id": "a0f04f81",
   "metadata": {},
   "outputs": [
    {
     "data": {
      "text/plain": [
       "pidnum     0\n",
       "cid        0\n",
       "time       0\n",
       "trt        0\n",
       "age        0\n",
       "wtkg       0\n",
       "hemo       0\n",
       "homo       0\n",
       "drugs      0\n",
       "karnof     0\n",
       "oprior     0\n",
       "z30        0\n",
       "zprior     0\n",
       "preanti    0\n",
       "race       0\n",
       "gender     0\n",
       "str2       0\n",
       "strat      0\n",
       "symptom    0\n",
       "treat      0\n",
       "offtrt     0\n",
       "cd40       0\n",
       "cd420      0\n",
       "cd80       0\n",
       "cd820      0\n",
       "dtype: int64"
      ]
     },
     "execution_count": 6,
     "metadata": {},
     "output_type": "execute_result"
    }
   ],
   "source": [
    "df.isna().sum()"
   ]
  },
  {
   "cell_type": "markdown",
   "id": "1d044845",
   "metadata": {},
   "source": [
    "Lets look at the details of the data frame and their data types and the counts of non null values"
   ]
  },
  {
   "cell_type": "code",
   "execution_count": 7,
   "id": "bf62b1fe",
   "metadata": {},
   "outputs": [
    {
     "name": "stdout",
     "output_type": "stream",
     "text": [
      "<class 'pandas.core.frame.DataFrame'>\n",
      "RangeIndex: 2139 entries, 0 to 2138\n",
      "Data columns (total 25 columns):\n",
      " #   Column   Non-Null Count  Dtype  \n",
      "---  ------   --------------  -----  \n",
      " 0   pidnum   2139 non-null   int64  \n",
      " 1   cid      2139 non-null   int64  \n",
      " 2   time     2139 non-null   int64  \n",
      " 3   trt      2139 non-null   int64  \n",
      " 4   age      2139 non-null   int64  \n",
      " 5   wtkg     2139 non-null   float64\n",
      " 6   hemo     2139 non-null   int64  \n",
      " 7   homo     2139 non-null   int64  \n",
      " 8   drugs    2139 non-null   int64  \n",
      " 9   karnof   2139 non-null   int64  \n",
      " 10  oprior   2139 non-null   int64  \n",
      " 11  z30      2139 non-null   int64  \n",
      " 12  zprior   2139 non-null   int64  \n",
      " 13  preanti  2139 non-null   int64  \n",
      " 14  race     2139 non-null   int64  \n",
      " 15  gender   2139 non-null   int64  \n",
      " 16  str2     2139 non-null   int64  \n",
      " 17  strat    2139 non-null   int64  \n",
      " 18  symptom  2139 non-null   int64  \n",
      " 19  treat    2139 non-null   int64  \n",
      " 20  offtrt   2139 non-null   int64  \n",
      " 21  cd40     2139 non-null   int64  \n",
      " 22  cd420    2139 non-null   int64  \n",
      " 23  cd80     2139 non-null   int64  \n",
      " 24  cd820    2139 non-null   int64  \n",
      "dtypes: float64(1), int64(24)\n",
      "memory usage: 417.9 KB\n"
     ]
    }
   ],
   "source": [
    "df.info()"
   ]
  },
  {
   "cell_type": "markdown",
   "id": "ed012925",
   "metadata": {},
   "source": [
    "We are looking at the statstics of the data in the dataframe, from the below we can see the minimum values, maximum values and the mean and standard deviadtion in each column of the data frame "
   ]
  },
  {
   "cell_type": "code",
   "execution_count": 8,
   "id": "31822fd1",
   "metadata": {},
   "outputs": [
    {
     "data": {
      "text/html": [
       "<div>\n",
       "<style scoped>\n",
       "    .dataframe tbody tr th:only-of-type {\n",
       "        vertical-align: middle;\n",
       "    }\n",
       "\n",
       "    .dataframe tbody tr th {\n",
       "        vertical-align: top;\n",
       "    }\n",
       "\n",
       "    .dataframe thead th {\n",
       "        text-align: right;\n",
       "    }\n",
       "</style>\n",
       "<table border=\"1\" class=\"dataframe\">\n",
       "  <thead>\n",
       "    <tr style=\"text-align: right;\">\n",
       "      <th></th>\n",
       "      <th>pidnum</th>\n",
       "      <th>cid</th>\n",
       "      <th>time</th>\n",
       "      <th>trt</th>\n",
       "      <th>age</th>\n",
       "      <th>wtkg</th>\n",
       "      <th>hemo</th>\n",
       "      <th>homo</th>\n",
       "      <th>drugs</th>\n",
       "      <th>karnof</th>\n",
       "      <th>...</th>\n",
       "      <th>gender</th>\n",
       "      <th>str2</th>\n",
       "      <th>strat</th>\n",
       "      <th>symptom</th>\n",
       "      <th>treat</th>\n",
       "      <th>offtrt</th>\n",
       "      <th>cd40</th>\n",
       "      <th>cd420</th>\n",
       "      <th>cd80</th>\n",
       "      <th>cd820</th>\n",
       "    </tr>\n",
       "  </thead>\n",
       "  <tbody>\n",
       "    <tr>\n",
       "      <th>count</th>\n",
       "      <td>2139.000000</td>\n",
       "      <td>2139.000000</td>\n",
       "      <td>2139.000000</td>\n",
       "      <td>2139.000000</td>\n",
       "      <td>2139.000000</td>\n",
       "      <td>2139.000000</td>\n",
       "      <td>2139.000000</td>\n",
       "      <td>2139.000000</td>\n",
       "      <td>2139.000000</td>\n",
       "      <td>2139.000000</td>\n",
       "      <td>...</td>\n",
       "      <td>2139.000000</td>\n",
       "      <td>2139.000000</td>\n",
       "      <td>2139.000000</td>\n",
       "      <td>2139.000000</td>\n",
       "      <td>2139.000000</td>\n",
       "      <td>2139.000000</td>\n",
       "      <td>2139.000000</td>\n",
       "      <td>2139.000000</td>\n",
       "      <td>2139.000000</td>\n",
       "      <td>2139.000000</td>\n",
       "    </tr>\n",
       "    <tr>\n",
       "      <th>mean</th>\n",
       "      <td>248778.252454</td>\n",
       "      <td>0.243572</td>\n",
       "      <td>879.098177</td>\n",
       "      <td>1.520804</td>\n",
       "      <td>35.248247</td>\n",
       "      <td>75.125311</td>\n",
       "      <td>0.084151</td>\n",
       "      <td>0.661057</td>\n",
       "      <td>0.131370</td>\n",
       "      <td>95.446470</td>\n",
       "      <td>...</td>\n",
       "      <td>0.827957</td>\n",
       "      <td>0.585788</td>\n",
       "      <td>1.979897</td>\n",
       "      <td>0.172978</td>\n",
       "      <td>0.751286</td>\n",
       "      <td>0.362786</td>\n",
       "      <td>350.501169</td>\n",
       "      <td>371.307153</td>\n",
       "      <td>986.627396</td>\n",
       "      <td>935.369799</td>\n",
       "    </tr>\n",
       "    <tr>\n",
       "      <th>std</th>\n",
       "      <td>234237.289399</td>\n",
       "      <td>0.429338</td>\n",
       "      <td>292.274324</td>\n",
       "      <td>1.127890</td>\n",
       "      <td>8.709026</td>\n",
       "      <td>13.263164</td>\n",
       "      <td>0.277680</td>\n",
       "      <td>0.473461</td>\n",
       "      <td>0.337883</td>\n",
       "      <td>5.900985</td>\n",
       "      <td>...</td>\n",
       "      <td>0.377506</td>\n",
       "      <td>0.492701</td>\n",
       "      <td>0.899053</td>\n",
       "      <td>0.378317</td>\n",
       "      <td>0.432369</td>\n",
       "      <td>0.480916</td>\n",
       "      <td>118.573863</td>\n",
       "      <td>144.634909</td>\n",
       "      <td>480.197750</td>\n",
       "      <td>444.976051</td>\n",
       "    </tr>\n",
       "    <tr>\n",
       "      <th>min</th>\n",
       "      <td>10056.000000</td>\n",
       "      <td>0.000000</td>\n",
       "      <td>14.000000</td>\n",
       "      <td>0.000000</td>\n",
       "      <td>12.000000</td>\n",
       "      <td>31.000000</td>\n",
       "      <td>0.000000</td>\n",
       "      <td>0.000000</td>\n",
       "      <td>0.000000</td>\n",
       "      <td>70.000000</td>\n",
       "      <td>...</td>\n",
       "      <td>0.000000</td>\n",
       "      <td>0.000000</td>\n",
       "      <td>1.000000</td>\n",
       "      <td>0.000000</td>\n",
       "      <td>0.000000</td>\n",
       "      <td>0.000000</td>\n",
       "      <td>0.000000</td>\n",
       "      <td>49.000000</td>\n",
       "      <td>40.000000</td>\n",
       "      <td>124.000000</td>\n",
       "    </tr>\n",
       "    <tr>\n",
       "      <th>25%</th>\n",
       "      <td>81446.500000</td>\n",
       "      <td>0.000000</td>\n",
       "      <td>727.000000</td>\n",
       "      <td>1.000000</td>\n",
       "      <td>29.000000</td>\n",
       "      <td>66.679200</td>\n",
       "      <td>0.000000</td>\n",
       "      <td>0.000000</td>\n",
       "      <td>0.000000</td>\n",
       "      <td>90.000000</td>\n",
       "      <td>...</td>\n",
       "      <td>1.000000</td>\n",
       "      <td>0.000000</td>\n",
       "      <td>1.000000</td>\n",
       "      <td>0.000000</td>\n",
       "      <td>1.000000</td>\n",
       "      <td>0.000000</td>\n",
       "      <td>263.500000</td>\n",
       "      <td>269.000000</td>\n",
       "      <td>654.000000</td>\n",
       "      <td>631.500000</td>\n",
       "    </tr>\n",
       "    <tr>\n",
       "      <th>50%</th>\n",
       "      <td>190566.000000</td>\n",
       "      <td>0.000000</td>\n",
       "      <td>997.000000</td>\n",
       "      <td>2.000000</td>\n",
       "      <td>34.000000</td>\n",
       "      <td>74.390400</td>\n",
       "      <td>0.000000</td>\n",
       "      <td>1.000000</td>\n",
       "      <td>0.000000</td>\n",
       "      <td>100.000000</td>\n",
       "      <td>...</td>\n",
       "      <td>1.000000</td>\n",
       "      <td>1.000000</td>\n",
       "      <td>2.000000</td>\n",
       "      <td>0.000000</td>\n",
       "      <td>1.000000</td>\n",
       "      <td>0.000000</td>\n",
       "      <td>340.000000</td>\n",
       "      <td>353.000000</td>\n",
       "      <td>893.000000</td>\n",
       "      <td>865.000000</td>\n",
       "    </tr>\n",
       "    <tr>\n",
       "      <th>75%</th>\n",
       "      <td>280277.000000</td>\n",
       "      <td>0.000000</td>\n",
       "      <td>1091.000000</td>\n",
       "      <td>3.000000</td>\n",
       "      <td>40.000000</td>\n",
       "      <td>82.555200</td>\n",
       "      <td>0.000000</td>\n",
       "      <td>1.000000</td>\n",
       "      <td>0.000000</td>\n",
       "      <td>100.000000</td>\n",
       "      <td>...</td>\n",
       "      <td>1.000000</td>\n",
       "      <td>1.000000</td>\n",
       "      <td>3.000000</td>\n",
       "      <td>0.000000</td>\n",
       "      <td>1.000000</td>\n",
       "      <td>1.000000</td>\n",
       "      <td>423.000000</td>\n",
       "      <td>460.000000</td>\n",
       "      <td>1207.000000</td>\n",
       "      <td>1146.500000</td>\n",
       "    </tr>\n",
       "    <tr>\n",
       "      <th>max</th>\n",
       "      <td>990077.000000</td>\n",
       "      <td>1.000000</td>\n",
       "      <td>1231.000000</td>\n",
       "      <td>3.000000</td>\n",
       "      <td>70.000000</td>\n",
       "      <td>159.939360</td>\n",
       "      <td>1.000000</td>\n",
       "      <td>1.000000</td>\n",
       "      <td>1.000000</td>\n",
       "      <td>100.000000</td>\n",
       "      <td>...</td>\n",
       "      <td>1.000000</td>\n",
       "      <td>1.000000</td>\n",
       "      <td>3.000000</td>\n",
       "      <td>1.000000</td>\n",
       "      <td>1.000000</td>\n",
       "      <td>1.000000</td>\n",
       "      <td>1199.000000</td>\n",
       "      <td>1119.000000</td>\n",
       "      <td>5011.000000</td>\n",
       "      <td>6035.000000</td>\n",
       "    </tr>\n",
       "  </tbody>\n",
       "</table>\n",
       "<p>8 rows × 25 columns</p>\n",
       "</div>"
      ],
      "text/plain": [
       "              pidnum          cid         time          trt          age  \\\n",
       "count    2139.000000  2139.000000  2139.000000  2139.000000  2139.000000   \n",
       "mean   248778.252454     0.243572   879.098177     1.520804    35.248247   \n",
       "std    234237.289399     0.429338   292.274324     1.127890     8.709026   \n",
       "min     10056.000000     0.000000    14.000000     0.000000    12.000000   \n",
       "25%     81446.500000     0.000000   727.000000     1.000000    29.000000   \n",
       "50%    190566.000000     0.000000   997.000000     2.000000    34.000000   \n",
       "75%    280277.000000     0.000000  1091.000000     3.000000    40.000000   \n",
       "max    990077.000000     1.000000  1231.000000     3.000000    70.000000   \n",
       "\n",
       "              wtkg         hemo         homo        drugs       karnof  ...  \\\n",
       "count  2139.000000  2139.000000  2139.000000  2139.000000  2139.000000  ...   \n",
       "mean     75.125311     0.084151     0.661057     0.131370    95.446470  ...   \n",
       "std      13.263164     0.277680     0.473461     0.337883     5.900985  ...   \n",
       "min      31.000000     0.000000     0.000000     0.000000    70.000000  ...   \n",
       "25%      66.679200     0.000000     0.000000     0.000000    90.000000  ...   \n",
       "50%      74.390400     0.000000     1.000000     0.000000   100.000000  ...   \n",
       "75%      82.555200     0.000000     1.000000     0.000000   100.000000  ...   \n",
       "max     159.939360     1.000000     1.000000     1.000000   100.000000  ...   \n",
       "\n",
       "            gender         str2        strat      symptom        treat  \\\n",
       "count  2139.000000  2139.000000  2139.000000  2139.000000  2139.000000   \n",
       "mean      0.827957     0.585788     1.979897     0.172978     0.751286   \n",
       "std       0.377506     0.492701     0.899053     0.378317     0.432369   \n",
       "min       0.000000     0.000000     1.000000     0.000000     0.000000   \n",
       "25%       1.000000     0.000000     1.000000     0.000000     1.000000   \n",
       "50%       1.000000     1.000000     2.000000     0.000000     1.000000   \n",
       "75%       1.000000     1.000000     3.000000     0.000000     1.000000   \n",
       "max       1.000000     1.000000     3.000000     1.000000     1.000000   \n",
       "\n",
       "            offtrt         cd40        cd420         cd80        cd820  \n",
       "count  2139.000000  2139.000000  2139.000000  2139.000000  2139.000000  \n",
       "mean      0.362786   350.501169   371.307153   986.627396   935.369799  \n",
       "std       0.480916   118.573863   144.634909   480.197750   444.976051  \n",
       "min       0.000000     0.000000    49.000000    40.000000   124.000000  \n",
       "25%       0.000000   263.500000   269.000000   654.000000   631.500000  \n",
       "50%       0.000000   340.000000   353.000000   893.000000   865.000000  \n",
       "75%       1.000000   423.000000   460.000000  1207.000000  1146.500000  \n",
       "max       1.000000  1199.000000  1119.000000  5011.000000  6035.000000  \n",
       "\n",
       "[8 rows x 25 columns]"
      ]
     },
     "execution_count": 8,
     "metadata": {},
     "output_type": "execute_result"
    }
   ],
   "source": [
    "df.describe()"
   ]
  },
  {
   "cell_type": "markdown",
   "id": "1b8e14a1",
   "metadata": {},
   "source": [
    "### Step 2: Dropping the  variables that are not relavant to our analysis "
   ]
  },
  {
   "cell_type": "markdown",
   "id": "6cef7682",
   "metadata": {},
   "source": [
    "The race column do hold data for the patients if they are White or Non-White which is not relavant to our analysis, so we are dropping the column from our data frame."
   ]
  },
  {
   "cell_type": "code",
   "execution_count": 9,
   "id": "22a0a2a2",
   "metadata": {},
   "outputs": [],
   "source": [
    "df.drop('race', axis=1, inplace=True)"
   ]
  },
  {
   "cell_type": "markdown",
   "id": "9f0fe3ff",
   "metadata": {},
   "source": [
    "Lets look at the number of columns after dropping the race column from the dataframe"
   ]
  },
  {
   "cell_type": "code",
   "execution_count": 10,
   "id": "69de821f",
   "metadata": {},
   "outputs": [
    {
     "data": {
      "text/plain": [
       "(2139, 24)"
      ]
     },
     "execution_count": 10,
     "metadata": {},
     "output_type": "execute_result"
    }
   ],
   "source": [
    "df.shape"
   ]
  },
  {
   "cell_type": "markdown",
   "id": "eb19a30c",
   "metadata": {},
   "source": [
    "### Step 3: Splitting the data into Train set and the Test set  where our target column is still not seperated."
   ]
  },
  {
   "cell_type": "markdown",
   "id": "7ad72607",
   "metadata": {},
   "source": [
    "We are splitting the dataset into test and train sets by splitting the data into 70 % of Train data and 30% as the test data"
   ]
  },
  {
   "cell_type": "code",
   "execution_count": 11,
   "id": "75d9c5ec",
   "metadata": {},
   "outputs": [],
   "source": [
    "train_set, test_set = train_test_split(df, test_size=0.3)"
   ]
  },
  {
   "cell_type": "markdown",
   "id": "1ab4b7e0",
   "metadata": {},
   "source": [
    "### Step 4: Checking for the Missing Values in the dataset"
   ]
  },
  {
   "cell_type": "code",
   "execution_count": 12,
   "id": "90fe12b7",
   "metadata": {},
   "outputs": [
    {
     "data": {
      "text/plain": [
       "pidnum     0\n",
       "cid        0\n",
       "time       0\n",
       "trt        0\n",
       "age        0\n",
       "wtkg       0\n",
       "hemo       0\n",
       "homo       0\n",
       "drugs      0\n",
       "karnof     0\n",
       "oprior     0\n",
       "z30        0\n",
       "zprior     0\n",
       "preanti    0\n",
       "gender     0\n",
       "str2       0\n",
       "strat      0\n",
       "symptom    0\n",
       "treat      0\n",
       "offtrt     0\n",
       "cd40       0\n",
       "cd420      0\n",
       "cd80       0\n",
       "cd820      0\n",
       "dtype: int64"
      ]
     },
     "execution_count": 12,
     "metadata": {},
     "output_type": "execute_result"
    }
   ],
   "source": [
    "train_set.isna().sum()"
   ]
  },
  {
   "cell_type": "markdown",
   "id": "415e808e",
   "metadata": {},
   "source": [
    "Here we can see that there are no missing values in the train dataset which has 70% of the data"
   ]
  },
  {
   "cell_type": "code",
   "execution_count": 13,
   "id": "5833b0ee",
   "metadata": {},
   "outputs": [
    {
     "data": {
      "text/plain": [
       "pidnum     0\n",
       "cid        0\n",
       "time       0\n",
       "trt        0\n",
       "age        0\n",
       "wtkg       0\n",
       "hemo       0\n",
       "homo       0\n",
       "drugs      0\n",
       "karnof     0\n",
       "oprior     0\n",
       "z30        0\n",
       "zprior     0\n",
       "preanti    0\n",
       "gender     0\n",
       "str2       0\n",
       "strat      0\n",
       "symptom    0\n",
       "treat      0\n",
       "offtrt     0\n",
       "cd40       0\n",
       "cd420      0\n",
       "cd80       0\n",
       "cd820      0\n",
       "dtype: int64"
      ]
     },
     "execution_count": 13,
     "metadata": {},
     "output_type": "execute_result"
    }
   ],
   "source": [
    "test_set.isna().sum()"
   ]
  },
  {
   "cell_type": "markdown",
   "id": "2200c0b5",
   "metadata": {},
   "source": [
    "Here we can see that there are no missing values in the test dataset which has 30% of the data"
   ]
  },
  {
   "cell_type": "markdown",
   "id": "449f7a00",
   "metadata": {},
   "source": [
    "Seperating the target variable as we are transforming the datasets and we dont want to transform the target which is cid and we are seperating the each sets(Train,Test) into the train_y,test_y and train_inputs,test_inputs"
   ]
  },
  {
   "cell_type": "code",
   "execution_count": 14,
   "id": "beba6613",
   "metadata": {},
   "outputs": [],
   "source": [
    "train_y = train_set['cid']\n",
    "test_y = test_set['cid']\n",
    "\n",
    "train_inputs = train_set.drop(['cid'], axis=1)\n",
    "test_inputs = test_set.drop(['cid'], axis=1)\n"
   ]
  },
  {
   "cell_type": "markdown",
   "id": "7b61a4ae",
   "metadata": {},
   "source": [
    "### Step 5: Feature Engineering a new column"
   ]
  },
  {
   "cell_type": "markdown",
   "id": "26735760",
   "metadata": {},
   "source": [
    "Here we are deriving a new column called the Elder based on the existing column age where we are considering it as 0 if the age is greater than or equal to 65 if the age is lesser than 65 we are considering it as 1. We are duplicating the dataframe to maintain the original structure as we are introducing a new column."
   ]
  },
  {
   "cell_type": "code",
   "execution_count": 15,
   "id": "7bf5e5ff",
   "metadata": {},
   "outputs": [],
   "source": [
    "def new_col(df):\n",
    "    \n",
    "    df1 = df.copy()\n",
    "    \n",
    "    df1['Elder'] = df1['age'].apply(lambda x: '0' if x >= 65 else '1' )\n",
    "    \n",
    "    return df1[['Elder']]\n"
   ]
  },
  {
   "cell_type": "markdown",
   "id": "cc2f2521",
   "metadata": {},
   "source": [
    "We are calling the new_col function we have created on the train_set"
   ]
  },
  {
   "cell_type": "code",
   "execution_count": 16,
   "id": "cbd5e10a",
   "metadata": {},
   "outputs": [
    {
     "data": {
      "text/html": [
       "<div>\n",
       "<style scoped>\n",
       "    .dataframe tbody tr th:only-of-type {\n",
       "        vertical-align: middle;\n",
       "    }\n",
       "\n",
       "    .dataframe tbody tr th {\n",
       "        vertical-align: top;\n",
       "    }\n",
       "\n",
       "    .dataframe thead th {\n",
       "        text-align: right;\n",
       "    }\n",
       "</style>\n",
       "<table border=\"1\" class=\"dataframe\">\n",
       "  <thead>\n",
       "    <tr style=\"text-align: right;\">\n",
       "      <th></th>\n",
       "      <th>Elder</th>\n",
       "    </tr>\n",
       "  </thead>\n",
       "  <tbody>\n",
       "    <tr>\n",
       "      <th>19</th>\n",
       "      <td>1</td>\n",
       "    </tr>\n",
       "    <tr>\n",
       "      <th>622</th>\n",
       "      <td>1</td>\n",
       "    </tr>\n",
       "    <tr>\n",
       "      <th>1975</th>\n",
       "      <td>1</td>\n",
       "    </tr>\n",
       "    <tr>\n",
       "      <th>250</th>\n",
       "      <td>1</td>\n",
       "    </tr>\n",
       "    <tr>\n",
       "      <th>2042</th>\n",
       "      <td>1</td>\n",
       "    </tr>\n",
       "    <tr>\n",
       "      <th>...</th>\n",
       "      <td>...</td>\n",
       "    </tr>\n",
       "    <tr>\n",
       "      <th>960</th>\n",
       "      <td>1</td>\n",
       "    </tr>\n",
       "    <tr>\n",
       "      <th>905</th>\n",
       "      <td>1</td>\n",
       "    </tr>\n",
       "    <tr>\n",
       "      <th>1096</th>\n",
       "      <td>1</td>\n",
       "    </tr>\n",
       "    <tr>\n",
       "      <th>235</th>\n",
       "      <td>1</td>\n",
       "    </tr>\n",
       "    <tr>\n",
       "      <th>1061</th>\n",
       "      <td>1</td>\n",
       "    </tr>\n",
       "  </tbody>\n",
       "</table>\n",
       "<p>1497 rows × 1 columns</p>\n",
       "</div>"
      ],
      "text/plain": [
       "     Elder\n",
       "19       1\n",
       "622      1\n",
       "1975     1\n",
       "250      1\n",
       "2042     1\n",
       "...    ...\n",
       "960      1\n",
       "905      1\n",
       "1096     1\n",
       "235      1\n",
       "1061     1\n",
       "\n",
       "[1497 rows x 1 columns]"
      ]
     },
     "execution_count": 16,
     "metadata": {},
     "output_type": "execute_result"
    }
   ],
   "source": [
    "new_col(train_set)\n"
   ]
  },
  {
   "cell_type": "markdown",
   "id": "e8806f11",
   "metadata": {},
   "source": [
    "### Step 6: Identifying the Types of columns "
   ]
  },
  {
   "cell_type": "markdown",
   "id": "20868657",
   "metadata": {},
   "source": [
    "We are displaying the type of train_inputs, here we can see that all the the variables are of numeric type."
   ]
  },
  {
   "cell_type": "code",
   "execution_count": 17,
   "id": "dfc35708",
   "metadata": {},
   "outputs": [
    {
     "data": {
      "text/plain": [
       "pidnum       int64\n",
       "time         int64\n",
       "trt          int64\n",
       "age          int64\n",
       "wtkg       float64\n",
       "hemo         int64\n",
       "homo         int64\n",
       "drugs        int64\n",
       "karnof       int64\n",
       "oprior       int64\n",
       "z30          int64\n",
       "zprior       int64\n",
       "preanti      int64\n",
       "gender       int64\n",
       "str2         int64\n",
       "strat        int64\n",
       "symptom      int64\n",
       "treat        int64\n",
       "offtrt       int64\n",
       "cd40         int64\n",
       "cd420        int64\n",
       "cd80         int64\n",
       "cd820        int64\n",
       "dtype: object"
      ]
     },
     "execution_count": 17,
     "metadata": {},
     "output_type": "execute_result"
    }
   ],
   "source": [
    "train_inputs.dtypes"
   ]
  },
  {
   "cell_type": "markdown",
   "id": "7a12e545",
   "metadata": {},
   "source": [
    "We are identifying the numeric columns in the train_input set by using the select_dtypes method"
   ]
  },
  {
   "cell_type": "code",
   "execution_count": 18,
   "id": "5292e318",
   "metadata": {},
   "outputs": [],
   "source": [
    "numeric_columns = train_inputs.select_dtypes(include=[np.number]).columns.to_list()"
   ]
  },
  {
   "cell_type": "markdown",
   "id": "b04db2cc",
   "metadata": {},
   "source": [
    "Identifying the binary columns"
   ]
  },
  {
   "cell_type": "code",
   "execution_count": 19,
   "id": "9f81c5b4",
   "metadata": {},
   "outputs": [],
   "source": [
    "binary_columns = ['hemo', 'homo','drugs','oprior','z30','zprior','gender','str2','symptom','treat','offtrt']"
   ]
  },
  {
   "cell_type": "markdown",
   "id": "3a69a95f",
   "metadata": {},
   "source": [
    "We are identifying the binary columns in the numeric columns and removing them from the numeric columns as the binary columns will be read as the numerics, hence we are removing them from the numeric columns "
   ]
  },
  {
   "cell_type": "code",
   "execution_count": 20,
   "id": "9d7fa493",
   "metadata": {},
   "outputs": [],
   "source": [
    "for col in binary_columns:\n",
    "    numeric_columns.remove(col)"
   ]
  },
  {
   "cell_type": "markdown",
   "id": "abbfe74a",
   "metadata": {},
   "source": [
    "Displaying the numeric Columns after removing the binary columns "
   ]
  },
  {
   "cell_type": "code",
   "execution_count": 21,
   "id": "9eb2945c",
   "metadata": {},
   "outputs": [
    {
     "data": {
      "text/plain": [
       "['pidnum',\n",
       " 'time',\n",
       " 'trt',\n",
       " 'age',\n",
       " 'wtkg',\n",
       " 'karnof',\n",
       " 'preanti',\n",
       " 'strat',\n",
       " 'cd40',\n",
       " 'cd420',\n",
       " 'cd80',\n",
       " 'cd820']"
      ]
     },
     "execution_count": 21,
     "metadata": {},
     "output_type": "execute_result"
    }
   ],
   "source": [
    "numeric_columns"
   ]
  },
  {
   "cell_type": "markdown",
   "id": "2286a42d",
   "metadata": {},
   "source": [
    "Displaying the binary columns "
   ]
  },
  {
   "cell_type": "code",
   "execution_count": 22,
   "id": "7edf1d5c",
   "metadata": {},
   "outputs": [
    {
     "data": {
      "text/plain": [
       "['hemo',\n",
       " 'homo',\n",
       " 'drugs',\n",
       " 'oprior',\n",
       " 'z30',\n",
       " 'zprior',\n",
       " 'gender',\n",
       " 'str2',\n",
       " 'symptom',\n",
       " 'treat',\n",
       " 'offtrt']"
      ]
     },
     "execution_count": 22,
     "metadata": {},
     "output_type": "execute_result"
    }
   ],
   "source": [
    "binary_columns "
   ]
  },
  {
   "cell_type": "code",
   "execution_count": 23,
   "id": "1399adc7",
   "metadata": {},
   "outputs": [],
   "source": [
    "new_cols = ['age']"
   ]
  },
  {
   "cell_type": "markdown",
   "id": "ba759308",
   "metadata": {},
   "source": [
    "### Step 7: Creating Transformer Pipelines for each type columns \n"
   ]
  },
  {
   "cell_type": "markdown",
   "id": "e03ac36a",
   "metadata": {},
   "source": [
    "The Pipelines are used to flexibilly chain the preprocessing steps such as the scaling, encoding and also the model evaluations can also be done, this benefits in preventing from data leakage  and the code reusability can also be done as these objects(estimator objects) are modular.The Transformers implement the fitting and transorm methods. In The below we are using the Standard scaler to scale the values. Here we are creating pipeline for the binary transformer where we do have single step for standardizing the binary columns where we will be further using this pipeline to the data and scale the binary columns, we have not cosidered the categorical transformer as we dont have any categorical columns in our dataset."
   ]
  },
  {
   "cell_type": "code",
   "execution_count": 24,
   "id": "65abf0dd",
   "metadata": {},
   "outputs": [],
   "source": [
    "numeric_transformer = Pipeline(steps=[\n",
    "                ('scaler', StandardScaler())])"
   ]
  },
  {
   "cell_type": "code",
   "execution_count": 25,
   "id": "40ced559",
   "metadata": {},
   "outputs": [],
   "source": [
    "binary_transformer = Pipeline(steps=[('scaler', StandardScaler())])"
   ]
  },
  {
   "cell_type": "markdown",
   "id": "6b4b8328",
   "metadata": {},
   "source": [
    "We are ingesting the new column which we have created during feature engineering the functional transformer does this custom function and we are also scaling the column by using the standardscaler"
   ]
  },
  {
   "cell_type": "code",
   "execution_count": 26,
   "id": "6b144a47",
   "metadata": {},
   "outputs": [],
   "source": [
    "my_new_column = Pipeline(steps=[('my_new_column', FunctionTransformer(new_col)),\n",
    "                                 ('scaler', StandardScaler())])"
   ]
  },
  {
   "cell_type": "markdown",
   "id": "63525a8e",
   "metadata": {},
   "source": [
    "### Step 8: Combining all the Transformer Pipelines we have created"
   ]
  },
  {
   "cell_type": "markdown",
   "id": "009a1cb7",
   "metadata": {},
   "source": [
    "The ColumnTransformer will be used when the dataset consists of differnt types of data types.we will apply all the transformations to different columns in the dataset,in the below code we are applying binary transformation, numeric transformation to the data set.The remainder is set to 'passthrough' which means if there are any columns that were not transformed will be included in the output by not performing any transformation."
   ]
  },
  {
   "cell_type": "code",
   "execution_count": 27,
   "id": "ffddc8a4",
   "metadata": {},
   "outputs": [
    {
     "data": {
      "text/html": [
       "<style>#sk-container-id-1 {color: black;}#sk-container-id-1 pre{padding: 0;}#sk-container-id-1 div.sk-toggleable {background-color: white;}#sk-container-id-1 label.sk-toggleable__label {cursor: pointer;display: block;width: 100%;margin-bottom: 0;padding: 0.3em;box-sizing: border-box;text-align: center;}#sk-container-id-1 label.sk-toggleable__label-arrow:before {content: \"▸\";float: left;margin-right: 0.25em;color: #696969;}#sk-container-id-1 label.sk-toggleable__label-arrow:hover:before {color: black;}#sk-container-id-1 div.sk-estimator:hover label.sk-toggleable__label-arrow:before {color: black;}#sk-container-id-1 div.sk-toggleable__content {max-height: 0;max-width: 0;overflow: hidden;text-align: left;background-color: #f0f8ff;}#sk-container-id-1 div.sk-toggleable__content pre {margin: 0.2em;color: black;border-radius: 0.25em;background-color: #f0f8ff;}#sk-container-id-1 input.sk-toggleable__control:checked~div.sk-toggleable__content {max-height: 200px;max-width: 100%;overflow: auto;}#sk-container-id-1 input.sk-toggleable__control:checked~label.sk-toggleable__label-arrow:before {content: \"▾\";}#sk-container-id-1 div.sk-estimator input.sk-toggleable__control:checked~label.sk-toggleable__label {background-color: #d4ebff;}#sk-container-id-1 div.sk-label input.sk-toggleable__control:checked~label.sk-toggleable__label {background-color: #d4ebff;}#sk-container-id-1 input.sk-hidden--visually {border: 0;clip: rect(1px 1px 1px 1px);clip: rect(1px, 1px, 1px, 1px);height: 1px;margin: -1px;overflow: hidden;padding: 0;position: absolute;width: 1px;}#sk-container-id-1 div.sk-estimator {font-family: monospace;background-color: #f0f8ff;border: 1px dotted black;border-radius: 0.25em;box-sizing: border-box;margin-bottom: 0.5em;}#sk-container-id-1 div.sk-estimator:hover {background-color: #d4ebff;}#sk-container-id-1 div.sk-parallel-item::after {content: \"\";width: 100%;border-bottom: 1px solid gray;flex-grow: 1;}#sk-container-id-1 div.sk-label:hover label.sk-toggleable__label {background-color: #d4ebff;}#sk-container-id-1 div.sk-serial::before {content: \"\";position: absolute;border-left: 1px solid gray;box-sizing: border-box;top: 0;bottom: 0;left: 50%;z-index: 0;}#sk-container-id-1 div.sk-serial {display: flex;flex-direction: column;align-items: center;background-color: white;padding-right: 0.2em;padding-left: 0.2em;position: relative;}#sk-container-id-1 div.sk-item {position: relative;z-index: 1;}#sk-container-id-1 div.sk-parallel {display: flex;align-items: stretch;justify-content: center;background-color: white;position: relative;}#sk-container-id-1 div.sk-item::before, #sk-container-id-1 div.sk-parallel-item::before {content: \"\";position: absolute;border-left: 1px solid gray;box-sizing: border-box;top: 0;bottom: 0;left: 50%;z-index: -1;}#sk-container-id-1 div.sk-parallel-item {display: flex;flex-direction: column;z-index: 1;position: relative;background-color: white;}#sk-container-id-1 div.sk-parallel-item:first-child::after {align-self: flex-end;width: 50%;}#sk-container-id-1 div.sk-parallel-item:last-child::after {align-self: flex-start;width: 50%;}#sk-container-id-1 div.sk-parallel-item:only-child::after {width: 0;}#sk-container-id-1 div.sk-dashed-wrapped {border: 1px dashed gray;margin: 0 0.4em 0.5em 0.4em;box-sizing: border-box;padding-bottom: 0.4em;background-color: white;}#sk-container-id-1 div.sk-label label {font-family: monospace;font-weight: bold;display: inline-block;line-height: 1.2em;}#sk-container-id-1 div.sk-label-container {text-align: center;}#sk-container-id-1 div.sk-container {/* jupyter's `normalize.less` sets `[hidden] { display: none; }` but bootstrap.min.css set `[hidden] { display: none !important; }` so we also need the `!important` here to be able to override the default hidden behavior on the sphinx rendered scikit-learn.org. See: https://github.com/scikit-learn/scikit-learn/issues/21755 */display: inline-block !important;position: relative;}#sk-container-id-1 div.sk-text-repr-fallback {display: none;}</style><div id=\"sk-container-id-1\" class=\"sk-top-container\"><div class=\"sk-text-repr-fallback\"><pre>ColumnTransformer(remainder=&#x27;passthrough&#x27;,\n",
       "                  transformers=[(&#x27;num&#x27;,\n",
       "                                 Pipeline(steps=[(&#x27;scaler&#x27;, StandardScaler())]),\n",
       "                                 [&#x27;pidnum&#x27;, &#x27;time&#x27;, &#x27;trt&#x27;, &#x27;age&#x27;, &#x27;wtkg&#x27;,\n",
       "                                  &#x27;karnof&#x27;, &#x27;preanti&#x27;, &#x27;strat&#x27;, &#x27;cd40&#x27;, &#x27;cd420&#x27;,\n",
       "                                  &#x27;cd80&#x27;, &#x27;cd820&#x27;]),\n",
       "                                (&#x27;binary&#x27;,\n",
       "                                 Pipeline(steps=[(&#x27;scaler&#x27;, StandardScaler())]),\n",
       "                                 [&#x27;hemo&#x27;, &#x27;homo&#x27;, &#x27;drugs&#x27;, &#x27;oprior&#x27;, &#x27;z30&#x27;,\n",
       "                                  &#x27;zprior&#x27;, &#x27;gender&#x27;, &#x27;str2&#x27;, &#x27;symptom&#x27;,\n",
       "                                  &#x27;treat&#x27;, &#x27;offtrt&#x27;]),\n",
       "                                (&#x27;trans&#x27;,\n",
       "                                 Pipeline(steps=[(&#x27;my_new_column&#x27;,\n",
       "                                                  FunctionTransformer(func=&lt;function new_col at 0x0000025389359260&gt;)),\n",
       "                                                 (&#x27;scaler&#x27;, StandardScaler())]),\n",
       "                                 [&#x27;age&#x27;])])</pre><b>In a Jupyter environment, please rerun this cell to show the HTML representation or trust the notebook. <br />On GitHub, the HTML representation is unable to render, please try loading this page with nbviewer.org.</b></div><div class=\"sk-container\" hidden><div class=\"sk-item sk-dashed-wrapped\"><div class=\"sk-label-container\"><div class=\"sk-label sk-toggleable\"><input class=\"sk-toggleable__control sk-hidden--visually\" id=\"sk-estimator-id-1\" type=\"checkbox\" ><label for=\"sk-estimator-id-1\" class=\"sk-toggleable__label sk-toggleable__label-arrow\">ColumnTransformer</label><div class=\"sk-toggleable__content\"><pre>ColumnTransformer(remainder=&#x27;passthrough&#x27;,\n",
       "                  transformers=[(&#x27;num&#x27;,\n",
       "                                 Pipeline(steps=[(&#x27;scaler&#x27;, StandardScaler())]),\n",
       "                                 [&#x27;pidnum&#x27;, &#x27;time&#x27;, &#x27;trt&#x27;, &#x27;age&#x27;, &#x27;wtkg&#x27;,\n",
       "                                  &#x27;karnof&#x27;, &#x27;preanti&#x27;, &#x27;strat&#x27;, &#x27;cd40&#x27;, &#x27;cd420&#x27;,\n",
       "                                  &#x27;cd80&#x27;, &#x27;cd820&#x27;]),\n",
       "                                (&#x27;binary&#x27;,\n",
       "                                 Pipeline(steps=[(&#x27;scaler&#x27;, StandardScaler())]),\n",
       "                                 [&#x27;hemo&#x27;, &#x27;homo&#x27;, &#x27;drugs&#x27;, &#x27;oprior&#x27;, &#x27;z30&#x27;,\n",
       "                                  &#x27;zprior&#x27;, &#x27;gender&#x27;, &#x27;str2&#x27;, &#x27;symptom&#x27;,\n",
       "                                  &#x27;treat&#x27;, &#x27;offtrt&#x27;]),\n",
       "                                (&#x27;trans&#x27;,\n",
       "                                 Pipeline(steps=[(&#x27;my_new_column&#x27;,\n",
       "                                                  FunctionTransformer(func=&lt;function new_col at 0x0000025389359260&gt;)),\n",
       "                                                 (&#x27;scaler&#x27;, StandardScaler())]),\n",
       "                                 [&#x27;age&#x27;])])</pre></div></div></div><div class=\"sk-parallel\"><div class=\"sk-parallel-item\"><div class=\"sk-item\"><div class=\"sk-label-container\"><div class=\"sk-label sk-toggleable\"><input class=\"sk-toggleable__control sk-hidden--visually\" id=\"sk-estimator-id-2\" type=\"checkbox\" ><label for=\"sk-estimator-id-2\" class=\"sk-toggleable__label sk-toggleable__label-arrow\">num</label><div class=\"sk-toggleable__content\"><pre>[&#x27;pidnum&#x27;, &#x27;time&#x27;, &#x27;trt&#x27;, &#x27;age&#x27;, &#x27;wtkg&#x27;, &#x27;karnof&#x27;, &#x27;preanti&#x27;, &#x27;strat&#x27;, &#x27;cd40&#x27;, &#x27;cd420&#x27;, &#x27;cd80&#x27;, &#x27;cd820&#x27;]</pre></div></div></div><div class=\"sk-serial\"><div class=\"sk-item\"><div class=\"sk-serial\"><div class=\"sk-item\"><div class=\"sk-estimator sk-toggleable\"><input class=\"sk-toggleable__control sk-hidden--visually\" id=\"sk-estimator-id-3\" type=\"checkbox\" ><label for=\"sk-estimator-id-3\" class=\"sk-toggleable__label sk-toggleable__label-arrow\">StandardScaler</label><div class=\"sk-toggleable__content\"><pre>StandardScaler()</pre></div></div></div></div></div></div></div></div><div class=\"sk-parallel-item\"><div class=\"sk-item\"><div class=\"sk-label-container\"><div class=\"sk-label sk-toggleable\"><input class=\"sk-toggleable__control sk-hidden--visually\" id=\"sk-estimator-id-4\" type=\"checkbox\" ><label for=\"sk-estimator-id-4\" class=\"sk-toggleable__label sk-toggleable__label-arrow\">binary</label><div class=\"sk-toggleable__content\"><pre>[&#x27;hemo&#x27;, &#x27;homo&#x27;, &#x27;drugs&#x27;, &#x27;oprior&#x27;, &#x27;z30&#x27;, &#x27;zprior&#x27;, &#x27;gender&#x27;, &#x27;str2&#x27;, &#x27;symptom&#x27;, &#x27;treat&#x27;, &#x27;offtrt&#x27;]</pre></div></div></div><div class=\"sk-serial\"><div class=\"sk-item\"><div class=\"sk-serial\"><div class=\"sk-item\"><div class=\"sk-estimator sk-toggleable\"><input class=\"sk-toggleable__control sk-hidden--visually\" id=\"sk-estimator-id-5\" type=\"checkbox\" ><label for=\"sk-estimator-id-5\" class=\"sk-toggleable__label sk-toggleable__label-arrow\">StandardScaler</label><div class=\"sk-toggleable__content\"><pre>StandardScaler()</pre></div></div></div></div></div></div></div></div><div class=\"sk-parallel-item\"><div class=\"sk-item\"><div class=\"sk-label-container\"><div class=\"sk-label sk-toggleable\"><input class=\"sk-toggleable__control sk-hidden--visually\" id=\"sk-estimator-id-6\" type=\"checkbox\" ><label for=\"sk-estimator-id-6\" class=\"sk-toggleable__label sk-toggleable__label-arrow\">trans</label><div class=\"sk-toggleable__content\"><pre>[&#x27;age&#x27;]</pre></div></div></div><div class=\"sk-serial\"><div class=\"sk-item\"><div class=\"sk-serial\"><div class=\"sk-item\"><div class=\"sk-estimator sk-toggleable\"><input class=\"sk-toggleable__control sk-hidden--visually\" id=\"sk-estimator-id-7\" type=\"checkbox\" ><label for=\"sk-estimator-id-7\" class=\"sk-toggleable__label sk-toggleable__label-arrow\">FunctionTransformer</label><div class=\"sk-toggleable__content\"><pre>FunctionTransformer(func=&lt;function new_col at 0x0000025389359260&gt;)</pre></div></div></div><div class=\"sk-item\"><div class=\"sk-estimator sk-toggleable\"><input class=\"sk-toggleable__control sk-hidden--visually\" id=\"sk-estimator-id-8\" type=\"checkbox\" ><label for=\"sk-estimator-id-8\" class=\"sk-toggleable__label sk-toggleable__label-arrow\">StandardScaler</label><div class=\"sk-toggleable__content\"><pre>StandardScaler()</pre></div></div></div></div></div></div></div></div><div class=\"sk-parallel-item\"><div class=\"sk-item\"><div class=\"sk-label-container\"><div class=\"sk-label sk-toggleable\"><input class=\"sk-toggleable__control sk-hidden--visually\" id=\"sk-estimator-id-9\" type=\"checkbox\" ><label for=\"sk-estimator-id-9\" class=\"sk-toggleable__label sk-toggleable__label-arrow\">remainder</label><div class=\"sk-toggleable__content\"><pre></pre></div></div></div><div class=\"sk-serial\"><div class=\"sk-item\"><div class=\"sk-estimator sk-toggleable\"><input class=\"sk-toggleable__control sk-hidden--visually\" id=\"sk-estimator-id-10\" type=\"checkbox\" ><label for=\"sk-estimator-id-10\" class=\"sk-toggleable__label sk-toggleable__label-arrow\">passthrough</label><div class=\"sk-toggleable__content\"><pre>passthrough</pre></div></div></div></div></div></div></div></div></div></div>"
      ],
      "text/plain": [
       "ColumnTransformer(remainder='passthrough',\n",
       "                  transformers=[('num',\n",
       "                                 Pipeline(steps=[('scaler', StandardScaler())]),\n",
       "                                 ['pidnum', 'time', 'trt', 'age', 'wtkg',\n",
       "                                  'karnof', 'preanti', 'strat', 'cd40', 'cd420',\n",
       "                                  'cd80', 'cd820']),\n",
       "                                ('binary',\n",
       "                                 Pipeline(steps=[('scaler', StandardScaler())]),\n",
       "                                 ['hemo', 'homo', 'drugs', 'oprior', 'z30',\n",
       "                                  'zprior', 'gender', 'str2', 'symptom',\n",
       "                                  'treat', 'offtrt']),\n",
       "                                ('trans',\n",
       "                                 Pipeline(steps=[('my_new_column',\n",
       "                                                  FunctionTransformer(func=<function new_col at 0x0000025389359260>)),\n",
       "                                                 ('scaler', StandardScaler())]),\n",
       "                                 ['age'])])"
      ]
     },
     "execution_count": 27,
     "metadata": {},
     "output_type": "execute_result"
    }
   ],
   "source": [
    "preprocessor = ColumnTransformer([\n",
    "        ('num', numeric_transformer, numeric_columns),\n",
    "        ('binary', binary_transformer, binary_columns),\n",
    "        ('trans', my_new_column, new_cols)],\n",
    "        remainder='passthrough')\n",
    "preprocessor"
   ]
  },
  {
   "cell_type": "markdown",
   "id": "5aa81b5f",
   "metadata": {},
   "source": [
    "### Step 9:Fitting and transforming the combined Pipeline for the Train data \n",
    "\n"
   ]
  },
  {
   "cell_type": "markdown",
   "id": "0a5d82f7",
   "metadata": {},
   "source": [
    "The Preprocessor is a object of the column transformer which is assigned in the above step where we are fitting and transforming the training input data. Before applying any transformations the transformer needs to learn from the training data.once the transformer fitted the data then the transform will be used to transform the data.Here we are doing the fit and transform in single operation."
   ]
  },
  {
   "cell_type": "code",
   "execution_count": 28,
   "id": "4f1d64f5",
   "metadata": {},
   "outputs": [],
   "source": [
    "train_x = preprocessor.fit_transform(train_inputs)\n"
   ]
  },
  {
   "cell_type": "markdown",
   "id": "ccf17152",
   "metadata": {},
   "source": [
    "Lets look at the shape of the train_x after ingesting the new column as we have seen before the features were 23(after removing the irrevelant column for the analysis) and after feature engineering we have included the new column so the shape has been changed to 24"
   ]
  },
  {
   "cell_type": "code",
   "execution_count": 29,
   "id": "1fa836e6",
   "metadata": {},
   "outputs": [
    {
     "data": {
      "text/plain": [
       "(1497, 24)"
      ]
     },
     "execution_count": 29,
     "metadata": {},
     "output_type": "execute_result"
    }
   ],
   "source": [
    "train_x.shape"
   ]
  },
  {
   "cell_type": "markdown",
   "id": "9559897f",
   "metadata": {},
   "source": [
    "### Step 10: Fitting the combined Pipeline for the Test data \n",
    "\n"
   ]
  },
  {
   "cell_type": "markdown",
   "id": "faada483",
   "metadata": {},
   "source": [
    "Here we are transforming the test_inputs"
   ]
  },
  {
   "cell_type": "code",
   "execution_count": 30,
   "id": "67b7c2dd",
   "metadata": {},
   "outputs": [
    {
     "data": {
      "text/plain": [
       "array([[-2.94819806e-01,  5.76502227e-01, -4.46722513e-01, ...,\n",
       "         5.84292606e-01, -7.41410440e-01,  6.34361480e-02],\n",
       "       [-3.35380452e-01,  2.12507863e-01, -1.33013546e+00, ...,\n",
       "        -1.71147126e+00,  1.34878058e+00,  6.34361480e-02],\n",
       "       [-9.66446017e-01, -2.80490336e+00, -1.33013546e+00, ...,\n",
       "        -1.71147126e+00, -7.41410440e-01,  6.34361480e-02],\n",
       "       ...,\n",
       "       [-2.75713271e-03,  8.62254812e-01, -4.46722513e-01, ...,\n",
       "         5.84292606e-01, -7.41410440e-01,  6.34361480e-02],\n",
       "       [ 8.41645332e-02,  7.29583969e-01, -1.33013546e+00, ...,\n",
       "        -1.71147126e+00, -7.41410440e-01,  6.34361480e-02],\n",
       "       [-8.44324402e-02,  7.56798501e-01,  4.36690435e-01, ...,\n",
       "         5.84292606e-01, -7.41410440e-01,  6.34361480e-02]])"
      ]
     },
     "execution_count": 30,
     "metadata": {},
     "output_type": "execute_result"
    }
   ],
   "source": [
    "test_x = preprocessor.transform(test_inputs)\n",
    "\n",
    "test_x"
   ]
  },
  {
   "cell_type": "markdown",
   "id": "7de49283",
   "metadata": {},
   "source": [
    "Lets look at the shape of the test_x after ingesting the new column as we have seen before the features were 23 and after feature engineering we have included the new column so the shape has been changed to 24"
   ]
  },
  {
   "cell_type": "code",
   "execution_count": 31,
   "id": "1ce72365",
   "metadata": {},
   "outputs": [
    {
     "data": {
      "text/plain": [
       "(642, 24)"
      ]
     },
     "execution_count": 31,
     "metadata": {},
     "output_type": "execute_result"
    }
   ],
   "source": [
    "test_x.shape"
   ]
  },
  {
   "cell_type": "markdown",
   "id": "aa20b071",
   "metadata": {},
   "source": [
    "### Step 11: Creating a baseline using the dummy classifier"
   ]
  },
  {
   "cell_type": "markdown",
   "id": "892829d2",
   "metadata": {},
   "source": [
    "The Dummy Classifier is a simple classifier which serves as baseline model to compare the performance of complex models.We are setting a reference point against the other classification models.Here we are using the most_frequent as strategy whcih means it always predict the most frequent class.We are fitting the train data into the model and calculating the accuracy of the model"
   ]
  },
  {
   "cell_type": "code",
   "execution_count": 32,
   "id": "c158c79a",
   "metadata": {},
   "outputs": [
    {
     "data": {
      "text/html": [
       "<style>#sk-container-id-2 {color: black;}#sk-container-id-2 pre{padding: 0;}#sk-container-id-2 div.sk-toggleable {background-color: white;}#sk-container-id-2 label.sk-toggleable__label {cursor: pointer;display: block;width: 100%;margin-bottom: 0;padding: 0.3em;box-sizing: border-box;text-align: center;}#sk-container-id-2 label.sk-toggleable__label-arrow:before {content: \"▸\";float: left;margin-right: 0.25em;color: #696969;}#sk-container-id-2 label.sk-toggleable__label-arrow:hover:before {color: black;}#sk-container-id-2 div.sk-estimator:hover label.sk-toggleable__label-arrow:before {color: black;}#sk-container-id-2 div.sk-toggleable__content {max-height: 0;max-width: 0;overflow: hidden;text-align: left;background-color: #f0f8ff;}#sk-container-id-2 div.sk-toggleable__content pre {margin: 0.2em;color: black;border-radius: 0.25em;background-color: #f0f8ff;}#sk-container-id-2 input.sk-toggleable__control:checked~div.sk-toggleable__content {max-height: 200px;max-width: 100%;overflow: auto;}#sk-container-id-2 input.sk-toggleable__control:checked~label.sk-toggleable__label-arrow:before {content: \"▾\";}#sk-container-id-2 div.sk-estimator input.sk-toggleable__control:checked~label.sk-toggleable__label {background-color: #d4ebff;}#sk-container-id-2 div.sk-label input.sk-toggleable__control:checked~label.sk-toggleable__label {background-color: #d4ebff;}#sk-container-id-2 input.sk-hidden--visually {border: 0;clip: rect(1px 1px 1px 1px);clip: rect(1px, 1px, 1px, 1px);height: 1px;margin: -1px;overflow: hidden;padding: 0;position: absolute;width: 1px;}#sk-container-id-2 div.sk-estimator {font-family: monospace;background-color: #f0f8ff;border: 1px dotted black;border-radius: 0.25em;box-sizing: border-box;margin-bottom: 0.5em;}#sk-container-id-2 div.sk-estimator:hover {background-color: #d4ebff;}#sk-container-id-2 div.sk-parallel-item::after {content: \"\";width: 100%;border-bottom: 1px solid gray;flex-grow: 1;}#sk-container-id-2 div.sk-label:hover label.sk-toggleable__label {background-color: #d4ebff;}#sk-container-id-2 div.sk-serial::before {content: \"\";position: absolute;border-left: 1px solid gray;box-sizing: border-box;top: 0;bottom: 0;left: 50%;z-index: 0;}#sk-container-id-2 div.sk-serial {display: flex;flex-direction: column;align-items: center;background-color: white;padding-right: 0.2em;padding-left: 0.2em;position: relative;}#sk-container-id-2 div.sk-item {position: relative;z-index: 1;}#sk-container-id-2 div.sk-parallel {display: flex;align-items: stretch;justify-content: center;background-color: white;position: relative;}#sk-container-id-2 div.sk-item::before, #sk-container-id-2 div.sk-parallel-item::before {content: \"\";position: absolute;border-left: 1px solid gray;box-sizing: border-box;top: 0;bottom: 0;left: 50%;z-index: -1;}#sk-container-id-2 div.sk-parallel-item {display: flex;flex-direction: column;z-index: 1;position: relative;background-color: white;}#sk-container-id-2 div.sk-parallel-item:first-child::after {align-self: flex-end;width: 50%;}#sk-container-id-2 div.sk-parallel-item:last-child::after {align-self: flex-start;width: 50%;}#sk-container-id-2 div.sk-parallel-item:only-child::after {width: 0;}#sk-container-id-2 div.sk-dashed-wrapped {border: 1px dashed gray;margin: 0 0.4em 0.5em 0.4em;box-sizing: border-box;padding-bottom: 0.4em;background-color: white;}#sk-container-id-2 div.sk-label label {font-family: monospace;font-weight: bold;display: inline-block;line-height: 1.2em;}#sk-container-id-2 div.sk-label-container {text-align: center;}#sk-container-id-2 div.sk-container {/* jupyter's `normalize.less` sets `[hidden] { display: none; }` but bootstrap.min.css set `[hidden] { display: none !important; }` so we also need the `!important` here to be able to override the default hidden behavior on the sphinx rendered scikit-learn.org. See: https://github.com/scikit-learn/scikit-learn/issues/21755 */display: inline-block !important;position: relative;}#sk-container-id-2 div.sk-text-repr-fallback {display: none;}</style><div id=\"sk-container-id-2\" class=\"sk-top-container\"><div class=\"sk-text-repr-fallback\"><pre>DummyClassifier(random_state=1, strategy=&#x27;most_frequent&#x27;)</pre><b>In a Jupyter environment, please rerun this cell to show the HTML representation or trust the notebook. <br />On GitHub, the HTML representation is unable to render, please try loading this page with nbviewer.org.</b></div><div class=\"sk-container\" hidden><div class=\"sk-item\"><div class=\"sk-estimator sk-toggleable\"><input class=\"sk-toggleable__control sk-hidden--visually\" id=\"sk-estimator-id-11\" type=\"checkbox\" checked><label for=\"sk-estimator-id-11\" class=\"sk-toggleable__label sk-toggleable__label-arrow\">DummyClassifier</label><div class=\"sk-toggleable__content\"><pre>DummyClassifier(random_state=1, strategy=&#x27;most_frequent&#x27;)</pre></div></div></div></div></div>"
      ],
      "text/plain": [
       "DummyClassifier(random_state=1, strategy='most_frequent')"
      ]
     },
     "execution_count": 32,
     "metadata": {},
     "output_type": "execute_result"
    }
   ],
   "source": [
    "dummy_clf = DummyClassifier(strategy=\"most_frequent\",random_state=1)\n",
    "\n",
    "dummy_clf.fit(train_x, train_y)"
   ]
  },
  {
   "cell_type": "markdown",
   "id": "77a0da18",
   "metadata": {},
   "source": [
    "Here we are predicting the test data as the DummyClassifier is already trained with most_frequent strategy, it will always predicts the most frequent class observed during the training "
   ]
  },
  {
   "cell_type": "code",
   "execution_count": 33,
   "id": "17438155",
   "metadata": {},
   "outputs": [
    {
     "name": "stdout",
     "output_type": "stream",
     "text": [
      "The Baseline Test Accuracy: 0.7570093457943925\n"
     ]
    }
   ],
   "source": [
    "dummy_test_pred = dummy_clf.predict(test_x)\n",
    "baseline_test_acc = accuracy_score(test_y, dummy_test_pred)\n",
    "print('The Baseline Test Accuracy: {}' .format(baseline_test_acc))\n",
    "\n"
   ]
  },
  {
   "cell_type": "markdown",
   "id": "2c9ad2df",
   "metadata": {},
   "source": [
    "The Baseline test accuracy is 0.7570093457943925"
   ]
  },
  {
   "cell_type": "markdown",
   "id": "aee1eeab",
   "metadata": {},
   "source": [
    "### DecisionTree Classifier "
   ]
  },
  {
   "cell_type": "markdown",
   "id": "cdcbfefa",
   "metadata": {},
   "source": [
    "The Decision Trees are one of the most popularly used algorithms due to their simplicity and effectiveness whcih is a supervised learning algorithm Predictions are made by traversing the tree from root to leaf nodes based on feature values.The DT can be used for both regressor and classification problem as our problem is Classification we are using the DecisionTreeClassifier"
   ]
  },
  {
   "cell_type": "markdown",
   "id": "8bf279d4",
   "metadata": {},
   "source": [
    "Here we are specifying the max depth of the decision tree, this factor will control the maximum number of levels in the tree, which will prevent from over fitting. Here we are fitting the decision tree classifier to the train data."
   ]
  },
  {
   "cell_type": "code",
   "execution_count": 34,
   "id": "c28af727",
   "metadata": {
    "scrolled": true
   },
   "outputs": [
    {
     "data": {
      "text/html": [
       "<style>#sk-container-id-3 {color: black;}#sk-container-id-3 pre{padding: 0;}#sk-container-id-3 div.sk-toggleable {background-color: white;}#sk-container-id-3 label.sk-toggleable__label {cursor: pointer;display: block;width: 100%;margin-bottom: 0;padding: 0.3em;box-sizing: border-box;text-align: center;}#sk-container-id-3 label.sk-toggleable__label-arrow:before {content: \"▸\";float: left;margin-right: 0.25em;color: #696969;}#sk-container-id-3 label.sk-toggleable__label-arrow:hover:before {color: black;}#sk-container-id-3 div.sk-estimator:hover label.sk-toggleable__label-arrow:before {color: black;}#sk-container-id-3 div.sk-toggleable__content {max-height: 0;max-width: 0;overflow: hidden;text-align: left;background-color: #f0f8ff;}#sk-container-id-3 div.sk-toggleable__content pre {margin: 0.2em;color: black;border-radius: 0.25em;background-color: #f0f8ff;}#sk-container-id-3 input.sk-toggleable__control:checked~div.sk-toggleable__content {max-height: 200px;max-width: 100%;overflow: auto;}#sk-container-id-3 input.sk-toggleable__control:checked~label.sk-toggleable__label-arrow:before {content: \"▾\";}#sk-container-id-3 div.sk-estimator input.sk-toggleable__control:checked~label.sk-toggleable__label {background-color: #d4ebff;}#sk-container-id-3 div.sk-label input.sk-toggleable__control:checked~label.sk-toggleable__label {background-color: #d4ebff;}#sk-container-id-3 input.sk-hidden--visually {border: 0;clip: rect(1px 1px 1px 1px);clip: rect(1px, 1px, 1px, 1px);height: 1px;margin: -1px;overflow: hidden;padding: 0;position: absolute;width: 1px;}#sk-container-id-3 div.sk-estimator {font-family: monospace;background-color: #f0f8ff;border: 1px dotted black;border-radius: 0.25em;box-sizing: border-box;margin-bottom: 0.5em;}#sk-container-id-3 div.sk-estimator:hover {background-color: #d4ebff;}#sk-container-id-3 div.sk-parallel-item::after {content: \"\";width: 100%;border-bottom: 1px solid gray;flex-grow: 1;}#sk-container-id-3 div.sk-label:hover label.sk-toggleable__label {background-color: #d4ebff;}#sk-container-id-3 div.sk-serial::before {content: \"\";position: absolute;border-left: 1px solid gray;box-sizing: border-box;top: 0;bottom: 0;left: 50%;z-index: 0;}#sk-container-id-3 div.sk-serial {display: flex;flex-direction: column;align-items: center;background-color: white;padding-right: 0.2em;padding-left: 0.2em;position: relative;}#sk-container-id-3 div.sk-item {position: relative;z-index: 1;}#sk-container-id-3 div.sk-parallel {display: flex;align-items: stretch;justify-content: center;background-color: white;position: relative;}#sk-container-id-3 div.sk-item::before, #sk-container-id-3 div.sk-parallel-item::before {content: \"\";position: absolute;border-left: 1px solid gray;box-sizing: border-box;top: 0;bottom: 0;left: 50%;z-index: -1;}#sk-container-id-3 div.sk-parallel-item {display: flex;flex-direction: column;z-index: 1;position: relative;background-color: white;}#sk-container-id-3 div.sk-parallel-item:first-child::after {align-self: flex-end;width: 50%;}#sk-container-id-3 div.sk-parallel-item:last-child::after {align-self: flex-start;width: 50%;}#sk-container-id-3 div.sk-parallel-item:only-child::after {width: 0;}#sk-container-id-3 div.sk-dashed-wrapped {border: 1px dashed gray;margin: 0 0.4em 0.5em 0.4em;box-sizing: border-box;padding-bottom: 0.4em;background-color: white;}#sk-container-id-3 div.sk-label label {font-family: monospace;font-weight: bold;display: inline-block;line-height: 1.2em;}#sk-container-id-3 div.sk-label-container {text-align: center;}#sk-container-id-3 div.sk-container {/* jupyter's `normalize.less` sets `[hidden] { display: none; }` but bootstrap.min.css set `[hidden] { display: none !important; }` so we also need the `!important` here to be able to override the default hidden behavior on the sphinx rendered scikit-learn.org. See: https://github.com/scikit-learn/scikit-learn/issues/21755 */display: inline-block !important;position: relative;}#sk-container-id-3 div.sk-text-repr-fallback {display: none;}</style><div id=\"sk-container-id-3\" class=\"sk-top-container\"><div class=\"sk-text-repr-fallback\"><pre>DecisionTreeClassifier(max_depth=5, random_state=1)</pre><b>In a Jupyter environment, please rerun this cell to show the HTML representation or trust the notebook. <br />On GitHub, the HTML representation is unable to render, please try loading this page with nbviewer.org.</b></div><div class=\"sk-container\" hidden><div class=\"sk-item\"><div class=\"sk-estimator sk-toggleable\"><input class=\"sk-toggleable__control sk-hidden--visually\" id=\"sk-estimator-id-12\" type=\"checkbox\" checked><label for=\"sk-estimator-id-12\" class=\"sk-toggleable__label sk-toggleable__label-arrow\">DecisionTreeClassifier</label><div class=\"sk-toggleable__content\"><pre>DecisionTreeClassifier(max_depth=5, random_state=1)</pre></div></div></div></div></div>"
      ],
      "text/plain": [
       "DecisionTreeClassifier(max_depth=5, random_state=1)"
      ]
     },
     "execution_count": 34,
     "metadata": {},
     "output_type": "execute_result"
    }
   ],
   "source": [
    "tree_clf = DecisionTreeClassifier(max_depth=5,random_state=1)\n",
    "\n",
    "tree_clf.fit(train_x, train_y)"
   ]
  },
  {
   "cell_type": "markdown",
   "id": "cb835689",
   "metadata": {},
   "source": [
    "Here the Model is predicting the train data there by using the trained decison tree classifier"
   ]
  },
  {
   "cell_type": "code",
   "execution_count": 35,
   "id": "4dfab6af",
   "metadata": {},
   "outputs": [
    {
     "name": "stdout",
     "output_type": "stream",
     "text": [
      "The Accuracy : 0.9205076820307281\n",
      "The F1 Score : 0.8282828282828283\n",
      "The Recall Score : 0.7863013698630137\n",
      "The Precision Score : 0.875\n"
     ]
    }
   ],
   "source": [
    "train_y_pred = tree_clf.predict(train_x)\n",
    "AC_score=accuracy_score(train_y, train_y_pred)\n",
    "F_score=f1_score(train_y, train_y_pred)\n",
    "r_score =recall_score(train_y, train_y_pred)\n",
    "p_score= precision_score(train_y, train_y_pred)\n",
    "print(\"The Accuracy :\", AC_score)\n",
    "print(\"The F1 Score :\", F_score)\n",
    "print(\"The Recall Score :\", r_score)\n",
    "print(\"The Precision Score :\", p_score)"
   ]
  },
  {
   "cell_type": "markdown",
   "id": "c3dcb44a",
   "metadata": {},
   "source": [
    "Here the Model is predicting the unseen test data there by using the trained decison tree classifier"
   ]
  },
  {
   "cell_type": "code",
   "execution_count": 36,
   "id": "1f177a96",
   "metadata": {},
   "outputs": [
    {
     "name": "stdout",
     "output_type": "stream",
     "text": [
      "The Accuracy : 0.883177570093458\n",
      "The F1 Score : 0.7457627118644068\n",
      "The Recall Score : 0.7051282051282052\n",
      "The Precision Score : 0.7913669064748201\n"
     ]
    }
   ],
   "source": [
    "\n",
    "test_y_pred = tree_clf.predict(test_x)\n",
    "\n",
    "AC_score=accuracy_score(test_y, test_y_pred)\n",
    "F_score=f1_score(test_y, test_y_pred)\n",
    "r_score =recall_score(test_y, test_y_pred)\n",
    "p_score= precision_score(test_y, test_y_pred)\n",
    "print(\"The Accuracy :\", AC_score)\n",
    "print(\"The F1 Score :\", F_score)\n",
    "print(\"The Recall Score :\", r_score)\n",
    "print(\"The Precision Score :\", p_score)"
   ]
  },
  {
   "cell_type": "markdown",
   "id": "257a3401",
   "metadata": {},
   "source": [
    "## Performing Regularization"
   ]
  },
  {
   "cell_type": "markdown",
   "id": "6e5c3886",
   "metadata": {},
   "source": [
    "Regularization is the technique to prevent the overfitting, here we have considered the min_samples_leaf as 10, setting a higher will result in few leaf nodes which will reduce the complexity of the tree and overfiting can be controled as these leaf nodes have more train instances associated with them. "
   ]
  },
  {
   "cell_type": "code",
   "execution_count": 37,
   "id": "4447a19e",
   "metadata": {},
   "outputs": [
    {
     "data": {
      "text/html": [
       "<style>#sk-container-id-4 {color: black;}#sk-container-id-4 pre{padding: 0;}#sk-container-id-4 div.sk-toggleable {background-color: white;}#sk-container-id-4 label.sk-toggleable__label {cursor: pointer;display: block;width: 100%;margin-bottom: 0;padding: 0.3em;box-sizing: border-box;text-align: center;}#sk-container-id-4 label.sk-toggleable__label-arrow:before {content: \"▸\";float: left;margin-right: 0.25em;color: #696969;}#sk-container-id-4 label.sk-toggleable__label-arrow:hover:before {color: black;}#sk-container-id-4 div.sk-estimator:hover label.sk-toggleable__label-arrow:before {color: black;}#sk-container-id-4 div.sk-toggleable__content {max-height: 0;max-width: 0;overflow: hidden;text-align: left;background-color: #f0f8ff;}#sk-container-id-4 div.sk-toggleable__content pre {margin: 0.2em;color: black;border-radius: 0.25em;background-color: #f0f8ff;}#sk-container-id-4 input.sk-toggleable__control:checked~div.sk-toggleable__content {max-height: 200px;max-width: 100%;overflow: auto;}#sk-container-id-4 input.sk-toggleable__control:checked~label.sk-toggleable__label-arrow:before {content: \"▾\";}#sk-container-id-4 div.sk-estimator input.sk-toggleable__control:checked~label.sk-toggleable__label {background-color: #d4ebff;}#sk-container-id-4 div.sk-label input.sk-toggleable__control:checked~label.sk-toggleable__label {background-color: #d4ebff;}#sk-container-id-4 input.sk-hidden--visually {border: 0;clip: rect(1px 1px 1px 1px);clip: rect(1px, 1px, 1px, 1px);height: 1px;margin: -1px;overflow: hidden;padding: 0;position: absolute;width: 1px;}#sk-container-id-4 div.sk-estimator {font-family: monospace;background-color: #f0f8ff;border: 1px dotted black;border-radius: 0.25em;box-sizing: border-box;margin-bottom: 0.5em;}#sk-container-id-4 div.sk-estimator:hover {background-color: #d4ebff;}#sk-container-id-4 div.sk-parallel-item::after {content: \"\";width: 100%;border-bottom: 1px solid gray;flex-grow: 1;}#sk-container-id-4 div.sk-label:hover label.sk-toggleable__label {background-color: #d4ebff;}#sk-container-id-4 div.sk-serial::before {content: \"\";position: absolute;border-left: 1px solid gray;box-sizing: border-box;top: 0;bottom: 0;left: 50%;z-index: 0;}#sk-container-id-4 div.sk-serial {display: flex;flex-direction: column;align-items: center;background-color: white;padding-right: 0.2em;padding-left: 0.2em;position: relative;}#sk-container-id-4 div.sk-item {position: relative;z-index: 1;}#sk-container-id-4 div.sk-parallel {display: flex;align-items: stretch;justify-content: center;background-color: white;position: relative;}#sk-container-id-4 div.sk-item::before, #sk-container-id-4 div.sk-parallel-item::before {content: \"\";position: absolute;border-left: 1px solid gray;box-sizing: border-box;top: 0;bottom: 0;left: 50%;z-index: -1;}#sk-container-id-4 div.sk-parallel-item {display: flex;flex-direction: column;z-index: 1;position: relative;background-color: white;}#sk-container-id-4 div.sk-parallel-item:first-child::after {align-self: flex-end;width: 50%;}#sk-container-id-4 div.sk-parallel-item:last-child::after {align-self: flex-start;width: 50%;}#sk-container-id-4 div.sk-parallel-item:only-child::after {width: 0;}#sk-container-id-4 div.sk-dashed-wrapped {border: 1px dashed gray;margin: 0 0.4em 0.5em 0.4em;box-sizing: border-box;padding-bottom: 0.4em;background-color: white;}#sk-container-id-4 div.sk-label label {font-family: monospace;font-weight: bold;display: inline-block;line-height: 1.2em;}#sk-container-id-4 div.sk-label-container {text-align: center;}#sk-container-id-4 div.sk-container {/* jupyter's `normalize.less` sets `[hidden] { display: none; }` but bootstrap.min.css set `[hidden] { display: none !important; }` so we also need the `!important` here to be able to override the default hidden behavior on the sphinx rendered scikit-learn.org. See: https://github.com/scikit-learn/scikit-learn/issues/21755 */display: inline-block !important;position: relative;}#sk-container-id-4 div.sk-text-repr-fallback {display: none;}</style><div id=\"sk-container-id-4\" class=\"sk-top-container\"><div class=\"sk-text-repr-fallback\"><pre>DecisionTreeClassifier(max_depth=5, min_samples_leaf=10, random_state=1)</pre><b>In a Jupyter environment, please rerun this cell to show the HTML representation or trust the notebook. <br />On GitHub, the HTML representation is unable to render, please try loading this page with nbviewer.org.</b></div><div class=\"sk-container\" hidden><div class=\"sk-item\"><div class=\"sk-estimator sk-toggleable\"><input class=\"sk-toggleable__control sk-hidden--visually\" id=\"sk-estimator-id-13\" type=\"checkbox\" checked><label for=\"sk-estimator-id-13\" class=\"sk-toggleable__label sk-toggleable__label-arrow\">DecisionTreeClassifier</label><div class=\"sk-toggleable__content\"><pre>DecisionTreeClassifier(max_depth=5, min_samples_leaf=10, random_state=1)</pre></div></div></div></div></div>"
      ],
      "text/plain": [
       "DecisionTreeClassifier(max_depth=5, min_samples_leaf=10, random_state=1)"
      ]
     },
     "execution_count": 37,
     "metadata": {},
     "output_type": "execute_result"
    }
   ],
   "source": [
    "tree_clf2 = DecisionTreeClassifier(min_samples_leaf = 10, max_depth=5,random_state=1)\n",
    "\n",
    "tree_clf2.fit(train_x, train_y)"
   ]
  },
  {
   "cell_type": "markdown",
   "id": "03b01610",
   "metadata": {},
   "source": [
    "We are evaluating the Performance of the decision tree Classifier on the training data. and Priniting the Outputs"
   ]
  },
  {
   "cell_type": "code",
   "execution_count": 38,
   "id": "dbfec44d",
   "metadata": {},
   "outputs": [
    {
     "name": "stdout",
     "output_type": "stream",
     "text": [
      "The Accuracy : 0.9084836339345357\n",
      "The F1 Score : 0.8005822416302766\n",
      "The Recall Score : 0.7534246575342466\n",
      "The Precision Score : 0.8540372670807453\n"
     ]
    }
   ],
   "source": [
    "train_y_pred = tree_clf2.predict(train_x)\n",
    "\n",
    "AC_score=accuracy_score(train_y, train_y_pred)\n",
    "F_score=f1_score(train_y, train_y_pred)\n",
    "r_score =recall_score(train_y, train_y_pred)\n",
    "p_score= precision_score(train_y, train_y_pred)\n",
    "print(\"The Accuracy :\", AC_score)\n",
    "print(\"The F1 Score :\", F_score)\n",
    "print(\"The Recall Score :\", r_score)\n",
    "print(\"The Precision Score :\", p_score)"
   ]
  },
  {
   "cell_type": "markdown",
   "id": "a965864c",
   "metadata": {},
   "source": [
    "We are evaluating the Performance of the decision tree Classifier on the test data. and Priniting the Outputs, to check how well the model predicts onn the unseen data."
   ]
  },
  {
   "cell_type": "code",
   "execution_count": 39,
   "id": "d96fc05d",
   "metadata": {},
   "outputs": [
    {
     "name": "stdout",
     "output_type": "stream",
     "text": [
      "The Accuracy : 0.8738317757009346\n",
      "The F1 Score : 0.7216494845360825\n",
      "The Recall Score : 0.6730769230769231\n",
      "The Precision Score : 0.7777777777777778\n"
     ]
    }
   ],
   "source": [
    "\n",
    "test_y_pred = tree_clf2.predict(test_x)\n",
    "\n",
    "AC_score=accuracy_score(test_y, test_y_pred)\n",
    "F_score=f1_score(test_y, test_y_pred)\n",
    "r_score =recall_score(test_y, test_y_pred)\n",
    "p_score= precision_score(test_y, test_y_pred)\n",
    "print(\"The Accuracy :\", AC_score)\n",
    "print(\"The F1 Score :\", F_score)\n",
    "print(\"The Recall Score :\", r_score)\n",
    "print(\"The Precision Score :\", p_score)"
   ]
  },
  {
   "cell_type": "markdown",
   "id": "08996ccd",
   "metadata": {},
   "source": [
    "### Step 12: Implementing Grid searchCV  and testing the parameter combinations and fitting Decision Tree Classifier "
   ]
  },
  {
   "cell_type": "markdown",
   "id": "e62834bb",
   "metadata": {},
   "source": [
    "The Hyperparameter tuning is a necessary step for optimal model performance although it is a iterative and resource-intensive process.The performance of the model can be greatly impacted by tuning these hyperparameters by determining their ideal set of values. Further in the below i have considered the GridsearchCV where the gridsearch involves will be searching for the best parameters through a predefined set of them to get the best parameters for the best effeciency of the model.The gridsearch will evaluate exhaustively all possible combinations off the hyperparameters."
   ]
  },
  {
   "cell_type": "code",
   "execution_count": 40,
   "id": "883e10ac",
   "metadata": {},
   "outputs": [
    {
     "name": "stdout",
     "output_type": "stream",
     "text": [
      "Fitting 5 folds for each of 450 candidates, totalling 2250 fits\n"
     ]
    },
    {
     "data": {
      "text/html": [
       "<style>#sk-container-id-5 {color: black;}#sk-container-id-5 pre{padding: 0;}#sk-container-id-5 div.sk-toggleable {background-color: white;}#sk-container-id-5 label.sk-toggleable__label {cursor: pointer;display: block;width: 100%;margin-bottom: 0;padding: 0.3em;box-sizing: border-box;text-align: center;}#sk-container-id-5 label.sk-toggleable__label-arrow:before {content: \"▸\";float: left;margin-right: 0.25em;color: #696969;}#sk-container-id-5 label.sk-toggleable__label-arrow:hover:before {color: black;}#sk-container-id-5 div.sk-estimator:hover label.sk-toggleable__label-arrow:before {color: black;}#sk-container-id-5 div.sk-toggleable__content {max-height: 0;max-width: 0;overflow: hidden;text-align: left;background-color: #f0f8ff;}#sk-container-id-5 div.sk-toggleable__content pre {margin: 0.2em;color: black;border-radius: 0.25em;background-color: #f0f8ff;}#sk-container-id-5 input.sk-toggleable__control:checked~div.sk-toggleable__content {max-height: 200px;max-width: 100%;overflow: auto;}#sk-container-id-5 input.sk-toggleable__control:checked~label.sk-toggleable__label-arrow:before {content: \"▾\";}#sk-container-id-5 div.sk-estimator input.sk-toggleable__control:checked~label.sk-toggleable__label {background-color: #d4ebff;}#sk-container-id-5 div.sk-label input.sk-toggleable__control:checked~label.sk-toggleable__label {background-color: #d4ebff;}#sk-container-id-5 input.sk-hidden--visually {border: 0;clip: rect(1px 1px 1px 1px);clip: rect(1px, 1px, 1px, 1px);height: 1px;margin: -1px;overflow: hidden;padding: 0;position: absolute;width: 1px;}#sk-container-id-5 div.sk-estimator {font-family: monospace;background-color: #f0f8ff;border: 1px dotted black;border-radius: 0.25em;box-sizing: border-box;margin-bottom: 0.5em;}#sk-container-id-5 div.sk-estimator:hover {background-color: #d4ebff;}#sk-container-id-5 div.sk-parallel-item::after {content: \"\";width: 100%;border-bottom: 1px solid gray;flex-grow: 1;}#sk-container-id-5 div.sk-label:hover label.sk-toggleable__label {background-color: #d4ebff;}#sk-container-id-5 div.sk-serial::before {content: \"\";position: absolute;border-left: 1px solid gray;box-sizing: border-box;top: 0;bottom: 0;left: 50%;z-index: 0;}#sk-container-id-5 div.sk-serial {display: flex;flex-direction: column;align-items: center;background-color: white;padding-right: 0.2em;padding-left: 0.2em;position: relative;}#sk-container-id-5 div.sk-item {position: relative;z-index: 1;}#sk-container-id-5 div.sk-parallel {display: flex;align-items: stretch;justify-content: center;background-color: white;position: relative;}#sk-container-id-5 div.sk-item::before, #sk-container-id-5 div.sk-parallel-item::before {content: \"\";position: absolute;border-left: 1px solid gray;box-sizing: border-box;top: 0;bottom: 0;left: 50%;z-index: -1;}#sk-container-id-5 div.sk-parallel-item {display: flex;flex-direction: column;z-index: 1;position: relative;background-color: white;}#sk-container-id-5 div.sk-parallel-item:first-child::after {align-self: flex-end;width: 50%;}#sk-container-id-5 div.sk-parallel-item:last-child::after {align-self: flex-start;width: 50%;}#sk-container-id-5 div.sk-parallel-item:only-child::after {width: 0;}#sk-container-id-5 div.sk-dashed-wrapped {border: 1px dashed gray;margin: 0 0.4em 0.5em 0.4em;box-sizing: border-box;padding-bottom: 0.4em;background-color: white;}#sk-container-id-5 div.sk-label label {font-family: monospace;font-weight: bold;display: inline-block;line-height: 1.2em;}#sk-container-id-5 div.sk-label-container {text-align: center;}#sk-container-id-5 div.sk-container {/* jupyter's `normalize.less` sets `[hidden] { display: none; }` but bootstrap.min.css set `[hidden] { display: none !important; }` so we also need the `!important` here to be able to override the default hidden behavior on the sphinx rendered scikit-learn.org. See: https://github.com/scikit-learn/scikit-learn/issues/21755 */display: inline-block !important;position: relative;}#sk-container-id-5 div.sk-text-repr-fallback {display: none;}</style><div id=\"sk-container-id-5\" class=\"sk-top-container\"><div class=\"sk-text-repr-fallback\"><pre>GridSearchCV(cv=5, estimator=DecisionTreeClassifier(random_state=1),\n",
       "             param_grid={&#x27;criterion&#x27;: [&#x27;gini&#x27;, &#x27;entropy&#x27;],\n",
       "                         &#x27;max_depth&#x27;: range(1, 16),\n",
       "                         &#x27;min_samples_leaf&#x27;: range(1, 16)},\n",
       "             scoring=&#x27;accuracy&#x27;, verbose=True)</pre><b>In a Jupyter environment, please rerun this cell to show the HTML representation or trust the notebook. <br />On GitHub, the HTML representation is unable to render, please try loading this page with nbviewer.org.</b></div><div class=\"sk-container\" hidden><div class=\"sk-item sk-dashed-wrapped\"><div class=\"sk-label-container\"><div class=\"sk-label sk-toggleable\"><input class=\"sk-toggleable__control sk-hidden--visually\" id=\"sk-estimator-id-14\" type=\"checkbox\" ><label for=\"sk-estimator-id-14\" class=\"sk-toggleable__label sk-toggleable__label-arrow\">GridSearchCV</label><div class=\"sk-toggleable__content\"><pre>GridSearchCV(cv=5, estimator=DecisionTreeClassifier(random_state=1),\n",
       "             param_grid={&#x27;criterion&#x27;: [&#x27;gini&#x27;, &#x27;entropy&#x27;],\n",
       "                         &#x27;max_depth&#x27;: range(1, 16),\n",
       "                         &#x27;min_samples_leaf&#x27;: range(1, 16)},\n",
       "             scoring=&#x27;accuracy&#x27;, verbose=True)</pre></div></div></div><div class=\"sk-parallel\"><div class=\"sk-parallel-item\"><div class=\"sk-item\"><div class=\"sk-label-container\"><div class=\"sk-label sk-toggleable\"><input class=\"sk-toggleable__control sk-hidden--visually\" id=\"sk-estimator-id-15\" type=\"checkbox\" ><label for=\"sk-estimator-id-15\" class=\"sk-toggleable__label sk-toggleable__label-arrow\">estimator: DecisionTreeClassifier</label><div class=\"sk-toggleable__content\"><pre>DecisionTreeClassifier(random_state=1)</pre></div></div></div><div class=\"sk-serial\"><div class=\"sk-item\"><div class=\"sk-estimator sk-toggleable\"><input class=\"sk-toggleable__control sk-hidden--visually\" id=\"sk-estimator-id-16\" type=\"checkbox\" ><label for=\"sk-estimator-id-16\" class=\"sk-toggleable__label sk-toggleable__label-arrow\">DecisionTreeClassifier</label><div class=\"sk-toggleable__content\"><pre>DecisionTreeClassifier(random_state=1)</pre></div></div></div></div></div></div></div></div></div></div>"
      ],
      "text/plain": [
       "GridSearchCV(cv=5, estimator=DecisionTreeClassifier(random_state=1),\n",
       "             param_grid={'criterion': ['gini', 'entropy'],\n",
       "                         'max_depth': range(1, 16),\n",
       "                         'min_samples_leaf': range(1, 16)},\n",
       "             scoring='accuracy', verbose=True)"
      ]
     },
     "execution_count": 40,
     "metadata": {},
     "output_type": "execute_result"
    }
   ],
   "source": [
    "param_grid = {\n",
    "              'max_depth' :  range(1,16),\n",
    "              'criterion' :['gini', 'entropy'],\n",
    "              'min_samples_leaf' : range(1,16)}             \n",
    "tree_class = DecisionTreeClassifier(random_state=1)\n",
    "grid_search = GridSearchCV(estimator=tree_class, param_grid=param_grid, cv=5, verbose=True,scoring='accuracy')\n",
    "grid_search.fit(train_x, train_y)"
   ]
  },
  {
   "cell_type": "markdown",
   "id": "1d7c7066",
   "metadata": {},
   "source": [
    "Here we are printing the best parameters that the grid search have evaluated that gives the best performace of the DecisionTreeClassifier"
   ]
  },
  {
   "cell_type": "code",
   "execution_count": 41,
   "id": "d78b020f",
   "metadata": {},
   "outputs": [
    {
     "name": "stdout",
     "output_type": "stream",
     "text": [
      "{'criterion': 'entropy', 'max_depth': 4, 'min_samples_leaf': 4}\n"
     ]
    }
   ],
   "source": [
    "print(grid_search.best_params_)"
   ]
  },
  {
   "cell_type": "markdown",
   "id": "75f72072",
   "metadata": {},
   "source": [
    "We are evaluating the Performance of the decision tree Classifier on the test data. and Priniting the Outputs, to check how well the model predicts on the unseen data."
   ]
  },
  {
   "cell_type": "code",
   "execution_count": 42,
   "id": "5026c8c4",
   "metadata": {},
   "outputs": [
    {
     "name": "stdout",
     "output_type": "stream",
     "text": [
      "   DecisionTree GridSearch Metric Scores   \n",
      "The Accuracy is  : 0.8582554517133957\n",
      "The F1 Score is : 0.6872852233676975\n",
      "The Recall is : 0.6410256410256411\n",
      "The Precision is : 0.7407407407407407\n"
     ]
    }
   ],
   "source": [
    "pred_y = grid_search.predict(test_x)\n",
    "print(\"   DecisionTree GridSearch Metric Scores   \")\n",
    "accuracy = accuracy_score(test_y, pred_y)\n",
    "print(\"The Accuracy is  :\", accuracy)\n",
    "f1 = f1_score(test_y, pred_y)\n",
    "print(\"The F1 Score is :\", f1)\n",
    "recall = recall_score(test_y, pred_y)\n",
    "print(\"The Recall is :\", recall)\n",
    "precision = precision_score(test_y, pred_y)\n",
    "print(\"The Precision is :\", precision)\n"
   ]
  },
  {
   "cell_type": "markdown",
   "id": "6bb965fc",
   "metadata": {},
   "source": [
    "### Summary"
   ]
  },
  {
   "cell_type": "markdown",
   "id": "c052e6e5",
   "metadata": {},
   "source": [
    "I have Considered a dataset from the UCI repository which holds the data of the patients that are diagnosed with AIDS, by comnsidering the two types of treatments that patients have recieved and the task is to predict whether each patient died within certain window or not.The dataset consisted of 24 features and one target where our target is the censory indicator which inidicates that the patient have died or not, it is a classification problem, i have dropped the variables that are not relavant to the analysis and splitted the data into 70% of the train set and the 30% as the test set and the preporocessing of the data there by feature engineered a new column 'Elder' based on the existing column there by considering condition if the age of patient is greater or lesser than 65.Based on the type of the data the pipelines are built to perfrom specified steps such as scaling and used the function transformer to ingest the newly feature engineered column and by scaling the values within it.A baseline model (dummy classfier) was fit to compare and evaluate the Performance of the Decisiontree classifer by using the Gridsearch hyperparameter tuning. The baseline has been set to 0.757 as the Dummy classifer achieved accuracy as the 0.757.The scores that are mentioned in the below are the scores of the models that have predicted the test data which is unseen by the model.\n",
    "\n",
    "The Metric scores of the models are as follows:\n",
    "\n",
    "### Decision Tree Classification Model\n",
    "\n",
    "- The Accuracy  : 0.883177570093458\n",
    "- The F1 Score  : 0.7457627118644068\n",
    "- The Recall Score : 0.7051282051282052\n",
    "- The Precision Score : 0.7913669064748201\n",
    "\n",
    "The Regularization has been done to the Decision Tree Classifier where we have introduced the min_samples_leaf = 10, max_depth=5, the regularization is performed these regularization parameters will prevent it from overfitting.The Metrice scores after regularization are as below.\n",
    "\n",
    "- The Accuracy : 0.8738317757009346\n",
    "- The F1 Score : 0.7216494845360825\n",
    "- The Recall Score : 0.6730769230769231\n",
    "- The Precision Score : 0.7777777777777778\n",
    "\n",
    "The Hyperparameter Tuning has been performed to check and test the different set of parameters we have defined where i have Considered the maximum depth will range from 1 to 16 and the criterion will been considered  between the gini and the entropy  where both are used to evaluate the purity of a node.The DT algorithm uses these criterions inorder to determine the best split at each node in the process of growing the tree and the minimum samples leaf will be checked between 1 and 16 which specifies the minimumm number of samples that are required to be present in leaf node.\n",
    "The below are the best set of parameters and the metric scores that are evaluated from the GRid search of the decision tree Classifier\n",
    "\n",
    "{'criterion': 'entropy', 'max_depth': 4, 'min_samples_leaf': 4}\n",
    "\n",
    "- The Accuracy is  : 0.8582554517133957\n",
    "- The F1 Score is : 0.6872852233676975\n",
    "- The Recall is : 0.6410256410256411\n",
    "- The Precision is : 0.7407407407407407\n",
    "\n",
    "\n",
    "However,even The Accuracy of the DecisionTree classifier with only max_depth=5 hold the highest accuracy, there might be a sign of overfitting, once the reguularization has been done to the model by ingesting the min_samples_leaf = 10 the accuracy score has been reduced and eventually all the metrices like the F1score, Precision and the recall has been reduced which clearly shows that the normal Decision Tree classifer with only the max depth is 5 is overfitting.After Hyper parameter tuning the grid search has evaluated the best criterion as entropy and the Accuracy score has been reduced from 0.87 to 0.85 and the  F1 score has been reduced from 0.72 to 0.68, the scores of recall and precision have also reduced which can be sign of overfitting. \n",
    "\n",
    "When compared with the baseline model which is the simplifed model which makes predictions with the stratified as the strategy which predicts the class labels based on their distributions holds the accuracy of 0.75 which is quite lower when compared to that of the DecisionTree classifier with the Gridsearch(Hyper parameter tuning), the Gridsearched DecisionTree Classifier outperformed the Dummy classifier perfromance, we also know that the baseline is used to compare the complicated models,if the complicated models cannot outperform the baseline that means that the model is not learning from the data.In our case all the models outperfromed the baseline model and from them the Gridsearched Decision Tree classifier held as the best model when compared the metrices and by considering diferent parameters."
   ]
  },
  {
   "cell_type": "code",
   "execution_count": null,
   "id": "009913ac",
   "metadata": {},
   "outputs": [],
   "source": []
  }
 ],
 "metadata": {
  "kernelspec": {
   "display_name": "Python 3 (ipykernel)",
   "language": "python",
   "name": "python3"
  },
  "language_info": {
   "codemirror_mode": {
    "name": "ipython",
    "version": 3
   },
   "file_extension": ".py",
   "mimetype": "text/x-python",
   "name": "python",
   "nbconvert_exporter": "python",
   "pygments_lexer": "ipython3",
   "version": "3.11.4"
  }
 },
 "nbformat": 4,
 "nbformat_minor": 5
}
