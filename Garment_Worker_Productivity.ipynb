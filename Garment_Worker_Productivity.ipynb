{
 "cells": [
  {
   "cell_type": "markdown",
   "id": "61d53ad4",
   "metadata": {},
   "source": [
    "# Team “We Tried”\n",
    "                                                                                            \n",
    "                \n",
    "Bapuji Satyala (U61600601)                                                                                           \n",
    "                                                                                        \n",
    "\n"
   ]
  },
  {
   "cell_type": "markdown",
   "id": "bd3bd898",
   "metadata": {},
   "source": [
    "# Problem Statement - Addressing Workforce Productivity Challenges in the Apparel Industry\n"
   ]
  },
  {
   "cell_type": "markdown",
   "id": "c9941b28",
   "metadata": {},
   "source": [
    "In today's globalized industrial landscape, the apparel industry emerges as a prime aspect of modern manufacturing. With a multitude of manual operations and a substantial workforce, the performance of employees within the realm of clothing manufacturing holds the key to meeting the ever-expanding global demand for textile products. It is no wonder, then, that decision-makers in the apparel sector place great emphasis on the monitoring, assessment, and prediction of workforce productivity. This profound interest stems from the crucial role played by employee performance in the timely and efficient production and delivery of clothing, making it a linchpin of success in this dynamic industry.\n",
    "\n",
    "Our exploration of this intricate landscape seeks to unearth the myriad factors that exert their influence on worker productivity. This comprehensive endeavor takes into account every conceivable aspect that plays a role in determining the efficiency of factory teams. Through data analysis and careful examination, we aim to shed light on the critical factors that can significantly enhance workforce performance. In doing so, we endeavor to pave the way for improved profitability and lasting success for apparel companies, providing them with valuable insights to optimize their operations in a highly competitive market.\n",
    "\n",
    "\n",
    "\n",
    "\n"
   ]
  },
  {
   "cell_type": "markdown",
   "id": "b0568ee5",
   "metadata": {},
   "source": [
    "# Plan of Action"
   ]
  },
  {
   "cell_type": "markdown",
   "id": "8158aff3",
   "metadata": {},
   "source": [
    "0. Importing Required Libraries\n",
    "1. Data Exploration and Preprocessing\n",
    "2. Training and Standardization\n",
    "3. Modeling\n",
    "4. Hyperparameter Tuning\n",
    "5. Summary/Analysis"
   ]
  },
  {
   "cell_type": "markdown",
   "id": "a3465b45",
   "metadata": {},
   "source": [
    "### 0. Importing Required Libraries"
   ]
  },
  {
   "cell_type": "code",
   "execution_count": 644,
   "id": "6be1a675",
   "metadata": {},
   "outputs": [],
   "source": [
    "import pandas as pd\n",
    "import numpy as np\n",
    "\n",
    "from sklearn.model_selection import train_test_split,GridSearchCV,RandomizedSearchCV\n",
    "from sklearn.linear_model import LogisticRegression\n",
    "import matplotlib.pyplot as plt\n",
    "\n",
    "from sklearn.metrics import accuracy_score\n",
    "from sklearn.neural_network import MLPClassifier\n",
    "from sklearn.tree import DecisionTreeClassifier\n",
    "from sklearn.svm import SVC\n",
    "from xgboost import XGBClassifier\n",
    "from sklearn.ensemble import RandomForestClassifier\n",
    "from sklearn import preprocessing\n",
    "from imblearn.over_sampling import ADASYN\n",
    "\n"
   ]
  },
  {
   "cell_type": "markdown",
   "id": "d92023e5",
   "metadata": {},
   "source": [
    "\n",
    "\n",
    "* We import Pandas for data handling and NumPy for numerical operations.\n",
    "\n",
    "* We bring in tools from scikit-learn for machine learning, like model selection, data imputation, and metrics calculation.\n",
    "\n",
    "* For handling class imbalance in the data, we import methods from the \"imblearn\" library.\n",
    "\n",
    "* To prevent unnecessary warning messages from being displayed, we turn off warnings temporarily.\n",
    "\n",
    "* We choose to use three different machine learning models: Logistic Regression, Decision Tree Classifier, and Support Vector Classifier (SVC).\n",
    "\n",
    "* We import metrics like mean absolute error, mean squared error, R-squared, and accuracy score to assess how well our models perform.\n",
    "\n",
    "* To address the issue of class imbalance in our dataset, we import techniques like ADASYN from the \"imblearn\" library.\n",
    "\n",
    "\n",
    "\n",
    "\n",
    "\n",
    "\n",
    "\n"
   ]
  },
  {
   "cell_type": "markdown",
   "id": "6b0186b2",
   "metadata": {},
   "source": [
    "### 1. Data Exploration and Preprocessing"
   ]
  },
  {
   "cell_type": "markdown",
   "id": "1aee3ec7",
   "metadata": {},
   "source": [
    "### Loading the Data"
   ]
  },
  {
   "cell_type": "markdown",
   "id": "2a1d6218",
   "metadata": {},
   "source": [
    "The dataset is being loaded using pandas dataframe using the read csv funtion."
   ]
  },
  {
   "cell_type": "code",
   "execution_count": 645,
   "id": "a44272b5",
   "metadata": {},
   "outputs": [],
   "source": [
    "df=pd.read_csv(\"garments_worker_productivity.csv\")"
   ]
  },
  {
   "cell_type": "code",
   "execution_count": 646,
   "id": "47882069",
   "metadata": {},
   "outputs": [
    {
     "data": {
      "text/html": [
       "<div>\n",
       "<style scoped>\n",
       "    .dataframe tbody tr th:only-of-type {\n",
       "        vertical-align: middle;\n",
       "    }\n",
       "\n",
       "    .dataframe tbody tr th {\n",
       "        vertical-align: top;\n",
       "    }\n",
       "\n",
       "    .dataframe thead th {\n",
       "        text-align: right;\n",
       "    }\n",
       "</style>\n",
       "<table border=\"1\" class=\"dataframe\">\n",
       "  <thead>\n",
       "    <tr style=\"text-align: right;\">\n",
       "      <th></th>\n",
       "      <th>date</th>\n",
       "      <th>quarter</th>\n",
       "      <th>department</th>\n",
       "      <th>day</th>\n",
       "      <th>team</th>\n",
       "      <th>targeted_productivity</th>\n",
       "      <th>smv</th>\n",
       "      <th>wip</th>\n",
       "      <th>over_time</th>\n",
       "      <th>incentive</th>\n",
       "      <th>idle_time</th>\n",
       "      <th>idle_men</th>\n",
       "      <th>no_of_style_change</th>\n",
       "      <th>no_of_workers</th>\n",
       "      <th>actual_productivity</th>\n",
       "    </tr>\n",
       "  </thead>\n",
       "  <tbody>\n",
       "    <tr>\n",
       "      <th>0</th>\n",
       "      <td>1/1/2015</td>\n",
       "      <td>Quarter1</td>\n",
       "      <td>sweing</td>\n",
       "      <td>Thursday</td>\n",
       "      <td>8</td>\n",
       "      <td>0.80</td>\n",
       "      <td>26.16</td>\n",
       "      <td>1108.0</td>\n",
       "      <td>7080</td>\n",
       "      <td>98</td>\n",
       "      <td>0.0</td>\n",
       "      <td>0</td>\n",
       "      <td>0</td>\n",
       "      <td>59.0</td>\n",
       "      <td>0.940725</td>\n",
       "    </tr>\n",
       "    <tr>\n",
       "      <th>1</th>\n",
       "      <td>1/1/2015</td>\n",
       "      <td>Quarter1</td>\n",
       "      <td>finishing</td>\n",
       "      <td>Thursday</td>\n",
       "      <td>1</td>\n",
       "      <td>0.75</td>\n",
       "      <td>3.94</td>\n",
       "      <td>NaN</td>\n",
       "      <td>960</td>\n",
       "      <td>0</td>\n",
       "      <td>0.0</td>\n",
       "      <td>0</td>\n",
       "      <td>0</td>\n",
       "      <td>8.0</td>\n",
       "      <td>0.886500</td>\n",
       "    </tr>\n",
       "    <tr>\n",
       "      <th>2</th>\n",
       "      <td>1/1/2015</td>\n",
       "      <td>Quarter1</td>\n",
       "      <td>sweing</td>\n",
       "      <td>Thursday</td>\n",
       "      <td>11</td>\n",
       "      <td>0.80</td>\n",
       "      <td>11.41</td>\n",
       "      <td>968.0</td>\n",
       "      <td>3660</td>\n",
       "      <td>50</td>\n",
       "      <td>0.0</td>\n",
       "      <td>0</td>\n",
       "      <td>0</td>\n",
       "      <td>30.5</td>\n",
       "      <td>0.800570</td>\n",
       "    </tr>\n",
       "    <tr>\n",
       "      <th>3</th>\n",
       "      <td>1/1/2015</td>\n",
       "      <td>Quarter1</td>\n",
       "      <td>sweing</td>\n",
       "      <td>Thursday</td>\n",
       "      <td>12</td>\n",
       "      <td>0.80</td>\n",
       "      <td>11.41</td>\n",
       "      <td>968.0</td>\n",
       "      <td>3660</td>\n",
       "      <td>50</td>\n",
       "      <td>0.0</td>\n",
       "      <td>0</td>\n",
       "      <td>0</td>\n",
       "      <td>30.5</td>\n",
       "      <td>0.800570</td>\n",
       "    </tr>\n",
       "    <tr>\n",
       "      <th>4</th>\n",
       "      <td>1/1/2015</td>\n",
       "      <td>Quarter1</td>\n",
       "      <td>sweing</td>\n",
       "      <td>Thursday</td>\n",
       "      <td>6</td>\n",
       "      <td>0.80</td>\n",
       "      <td>25.90</td>\n",
       "      <td>1170.0</td>\n",
       "      <td>1920</td>\n",
       "      <td>50</td>\n",
       "      <td>0.0</td>\n",
       "      <td>0</td>\n",
       "      <td>0</td>\n",
       "      <td>56.0</td>\n",
       "      <td>0.800382</td>\n",
       "    </tr>\n",
       "  </tbody>\n",
       "</table>\n",
       "</div>"
      ],
      "text/plain": [
       "       date   quarter  department       day  team  targeted_productivity  \\\n",
       "0  1/1/2015  Quarter1      sweing  Thursday     8                   0.80   \n",
       "1  1/1/2015  Quarter1  finishing   Thursday     1                   0.75   \n",
       "2  1/1/2015  Quarter1      sweing  Thursday    11                   0.80   \n",
       "3  1/1/2015  Quarter1      sweing  Thursday    12                   0.80   \n",
       "4  1/1/2015  Quarter1      sweing  Thursday     6                   0.80   \n",
       "\n",
       "     smv     wip  over_time  incentive  idle_time  idle_men  \\\n",
       "0  26.16  1108.0       7080         98        0.0         0   \n",
       "1   3.94     NaN        960          0        0.0         0   \n",
       "2  11.41   968.0       3660         50        0.0         0   \n",
       "3  11.41   968.0       3660         50        0.0         0   \n",
       "4  25.90  1170.0       1920         50        0.0         0   \n",
       "\n",
       "   no_of_style_change  no_of_workers  actual_productivity  \n",
       "0                   0           59.0             0.940725  \n",
       "1                   0            8.0             0.886500  \n",
       "2                   0           30.5             0.800570  \n",
       "3                   0           30.5             0.800570  \n",
       "4                   0           56.0             0.800382  "
      ]
     },
     "execution_count": 646,
     "metadata": {},
     "output_type": "execute_result"
    }
   ],
   "source": [
    "df.head(5)"
   ]
  },
  {
   "cell_type": "markdown",
   "id": "af79bd2f",
   "metadata": {},
   "source": [
    "The df.head function is used to get a glance of the data set and to ensure that the data is properly loaded."
   ]
  },
  {
   "cell_type": "markdown",
   "id": "6d30f0b4",
   "metadata": {},
   "source": [
    "### Exploring Rows and Columns "
   ]
  },
  {
   "cell_type": "code",
   "execution_count": 647,
   "id": "6662b549",
   "metadata": {},
   "outputs": [
    {
     "data": {
      "text/plain": [
       "(1197, 15)"
      ]
     },
     "execution_count": 647,
     "metadata": {},
     "output_type": "execute_result"
    }
   ],
   "source": [
    "df.shape"
   ]
  },
  {
   "cell_type": "markdown",
   "id": "5631da80",
   "metadata": {},
   "source": [
    "the df.shape funciton is used to identify the total number of instances(rows) and columns in the dataframe. The DataFrame contains 1197 rows and 15 columns of data\n"
   ]
  },
  {
   "cell_type": "code",
   "execution_count": 648,
   "id": "b17c59b1",
   "metadata": {
    "scrolled": true
   },
   "outputs": [
    {
     "data": {
      "text/html": [
       "<div>\n",
       "<style scoped>\n",
       "    .dataframe tbody tr th:only-of-type {\n",
       "        vertical-align: middle;\n",
       "    }\n",
       "\n",
       "    .dataframe tbody tr th {\n",
       "        vertical-align: top;\n",
       "    }\n",
       "\n",
       "    .dataframe thead th {\n",
       "        text-align: right;\n",
       "    }\n",
       "</style>\n",
       "<table border=\"1\" class=\"dataframe\">\n",
       "  <thead>\n",
       "    <tr style=\"text-align: right;\">\n",
       "      <th></th>\n",
       "      <th>team</th>\n",
       "      <th>targeted_productivity</th>\n",
       "      <th>smv</th>\n",
       "      <th>wip</th>\n",
       "      <th>over_time</th>\n",
       "      <th>incentive</th>\n",
       "      <th>idle_time</th>\n",
       "      <th>idle_men</th>\n",
       "      <th>no_of_style_change</th>\n",
       "      <th>no_of_workers</th>\n",
       "      <th>actual_productivity</th>\n",
       "    </tr>\n",
       "  </thead>\n",
       "  <tbody>\n",
       "    <tr>\n",
       "      <th>count</th>\n",
       "      <td>1197.000000</td>\n",
       "      <td>1197.000000</td>\n",
       "      <td>1197.000000</td>\n",
       "      <td>691.000000</td>\n",
       "      <td>1197.000000</td>\n",
       "      <td>1197.000000</td>\n",
       "      <td>1197.000000</td>\n",
       "      <td>1197.000000</td>\n",
       "      <td>1197.000000</td>\n",
       "      <td>1197.000000</td>\n",
       "      <td>1197.000000</td>\n",
       "    </tr>\n",
       "    <tr>\n",
       "      <th>mean</th>\n",
       "      <td>6.426901</td>\n",
       "      <td>0.729632</td>\n",
       "      <td>15.062172</td>\n",
       "      <td>1190.465991</td>\n",
       "      <td>4567.460317</td>\n",
       "      <td>38.210526</td>\n",
       "      <td>0.730159</td>\n",
       "      <td>0.369256</td>\n",
       "      <td>0.150376</td>\n",
       "      <td>34.609858</td>\n",
       "      <td>0.735091</td>\n",
       "    </tr>\n",
       "    <tr>\n",
       "      <th>std</th>\n",
       "      <td>3.463963</td>\n",
       "      <td>0.097891</td>\n",
       "      <td>10.943219</td>\n",
       "      <td>1837.455001</td>\n",
       "      <td>3348.823563</td>\n",
       "      <td>160.182643</td>\n",
       "      <td>12.709757</td>\n",
       "      <td>3.268987</td>\n",
       "      <td>0.427848</td>\n",
       "      <td>22.197687</td>\n",
       "      <td>0.174488</td>\n",
       "    </tr>\n",
       "    <tr>\n",
       "      <th>min</th>\n",
       "      <td>1.000000</td>\n",
       "      <td>0.070000</td>\n",
       "      <td>2.900000</td>\n",
       "      <td>7.000000</td>\n",
       "      <td>0.000000</td>\n",
       "      <td>0.000000</td>\n",
       "      <td>0.000000</td>\n",
       "      <td>0.000000</td>\n",
       "      <td>0.000000</td>\n",
       "      <td>2.000000</td>\n",
       "      <td>0.233705</td>\n",
       "    </tr>\n",
       "    <tr>\n",
       "      <th>25%</th>\n",
       "      <td>3.000000</td>\n",
       "      <td>0.700000</td>\n",
       "      <td>3.940000</td>\n",
       "      <td>774.500000</td>\n",
       "      <td>1440.000000</td>\n",
       "      <td>0.000000</td>\n",
       "      <td>0.000000</td>\n",
       "      <td>0.000000</td>\n",
       "      <td>0.000000</td>\n",
       "      <td>9.000000</td>\n",
       "      <td>0.650307</td>\n",
       "    </tr>\n",
       "    <tr>\n",
       "      <th>50%</th>\n",
       "      <td>6.000000</td>\n",
       "      <td>0.750000</td>\n",
       "      <td>15.260000</td>\n",
       "      <td>1039.000000</td>\n",
       "      <td>3960.000000</td>\n",
       "      <td>0.000000</td>\n",
       "      <td>0.000000</td>\n",
       "      <td>0.000000</td>\n",
       "      <td>0.000000</td>\n",
       "      <td>34.000000</td>\n",
       "      <td>0.773333</td>\n",
       "    </tr>\n",
       "    <tr>\n",
       "      <th>75%</th>\n",
       "      <td>9.000000</td>\n",
       "      <td>0.800000</td>\n",
       "      <td>24.260000</td>\n",
       "      <td>1252.500000</td>\n",
       "      <td>6960.000000</td>\n",
       "      <td>50.000000</td>\n",
       "      <td>0.000000</td>\n",
       "      <td>0.000000</td>\n",
       "      <td>0.000000</td>\n",
       "      <td>57.000000</td>\n",
       "      <td>0.850253</td>\n",
       "    </tr>\n",
       "    <tr>\n",
       "      <th>max</th>\n",
       "      <td>12.000000</td>\n",
       "      <td>0.800000</td>\n",
       "      <td>54.560000</td>\n",
       "      <td>23122.000000</td>\n",
       "      <td>25920.000000</td>\n",
       "      <td>3600.000000</td>\n",
       "      <td>300.000000</td>\n",
       "      <td>45.000000</td>\n",
       "      <td>2.000000</td>\n",
       "      <td>89.000000</td>\n",
       "      <td>1.120437</td>\n",
       "    </tr>\n",
       "  </tbody>\n",
       "</table>\n",
       "</div>"
      ],
      "text/plain": [
       "              team  targeted_productivity          smv           wip  \\\n",
       "count  1197.000000            1197.000000  1197.000000    691.000000   \n",
       "mean      6.426901               0.729632    15.062172   1190.465991   \n",
       "std       3.463963               0.097891    10.943219   1837.455001   \n",
       "min       1.000000               0.070000     2.900000      7.000000   \n",
       "25%       3.000000               0.700000     3.940000    774.500000   \n",
       "50%       6.000000               0.750000    15.260000   1039.000000   \n",
       "75%       9.000000               0.800000    24.260000   1252.500000   \n",
       "max      12.000000               0.800000    54.560000  23122.000000   \n",
       "\n",
       "          over_time    incentive    idle_time     idle_men  \\\n",
       "count   1197.000000  1197.000000  1197.000000  1197.000000   \n",
       "mean    4567.460317    38.210526     0.730159     0.369256   \n",
       "std     3348.823563   160.182643    12.709757     3.268987   \n",
       "min        0.000000     0.000000     0.000000     0.000000   \n",
       "25%     1440.000000     0.000000     0.000000     0.000000   \n",
       "50%     3960.000000     0.000000     0.000000     0.000000   \n",
       "75%     6960.000000    50.000000     0.000000     0.000000   \n",
       "max    25920.000000  3600.000000   300.000000    45.000000   \n",
       "\n",
       "       no_of_style_change  no_of_workers  actual_productivity  \n",
       "count         1197.000000    1197.000000          1197.000000  \n",
       "mean             0.150376      34.609858             0.735091  \n",
       "std              0.427848      22.197687             0.174488  \n",
       "min              0.000000       2.000000             0.233705  \n",
       "25%              0.000000       9.000000             0.650307  \n",
       "50%              0.000000      34.000000             0.773333  \n",
       "75%              0.000000      57.000000             0.850253  \n",
       "max              2.000000      89.000000             1.120437  "
      ]
     },
     "execution_count": 648,
     "metadata": {},
     "output_type": "execute_result"
    }
   ],
   "source": [
    "df.describe()"
   ]
  },
  {
   "cell_type": "markdown",
   "id": "8f73cc58",
   "metadata": {},
   "source": [
    "\n",
    "The overall statistical information of the Dataset is derived using df.describe() function .\n",
    "\n",
    "- \"Count\" shows the number of non-empty entries in each column. Some columns have missing data.\n",
    "\n",
    "- \"Mean\" is the average value for each column, providing a central tendency measure.\n",
    "\n",
    "- \"Std\" is the standard deviation, indicating data variability in each column.\n",
    "\n",
    "- \"Min,\" \"25%,\" \"50%,\" \"75%,\" and \"Max\" describe the minimum, quartiles, median, and maximum values in each column, offering insights into data distribution and range."
   ]
  },
  {
   "cell_type": "code",
   "execution_count": 649,
   "id": "7718fc4e",
   "metadata": {
    "scrolled": true
   },
   "outputs": [
    {
     "name": "stdout",
     "output_type": "stream",
     "text": [
      "<class 'pandas.core.frame.DataFrame'>\n",
      "RangeIndex: 1197 entries, 0 to 1196\n",
      "Data columns (total 15 columns):\n",
      " #   Column                 Non-Null Count  Dtype  \n",
      "---  ------                 --------------  -----  \n",
      " 0   date                   1197 non-null   object \n",
      " 1   quarter                1197 non-null   object \n",
      " 2   department             1197 non-null   object \n",
      " 3   day                    1197 non-null   object \n",
      " 4   team                   1197 non-null   int64  \n",
      " 5   targeted_productivity  1197 non-null   float64\n",
      " 6   smv                    1197 non-null   float64\n",
      " 7   wip                    691 non-null    float64\n",
      " 8   over_time              1197 non-null   int64  \n",
      " 9   incentive              1197 non-null   int64  \n",
      " 10  idle_time              1197 non-null   float64\n",
      " 11  idle_men               1197 non-null   int64  \n",
      " 12  no_of_style_change     1197 non-null   int64  \n",
      " 13  no_of_workers          1197 non-null   float64\n",
      " 14  actual_productivity    1197 non-null   float64\n",
      "dtypes: float64(6), int64(5), object(4)\n",
      "memory usage: 140.4+ KB\n"
     ]
    }
   ],
   "source": [
    "df.info()"
   ]
  },
  {
   "cell_type": "markdown",
   "id": "8b730149",
   "metadata": {},
   "source": [
    "The info function defines the data types, total count values of the various features from the dataframe."
   ]
  },
  {
   "cell_type": "code",
   "execution_count": 650,
   "id": "b51bd414",
   "metadata": {},
   "outputs": [
    {
     "data": {
      "text/plain": [
       "date                      object\n",
       "quarter                   object\n",
       "department                object\n",
       "day                       object\n",
       "team                       int64\n",
       "targeted_productivity    float64\n",
       "smv                      float64\n",
       "wip                      float64\n",
       "over_time                  int64\n",
       "incentive                  int64\n",
       "idle_time                float64\n",
       "idle_men                   int64\n",
       "no_of_style_change         int64\n",
       "no_of_workers            float64\n",
       "actual_productivity      float64\n",
       "dtype: object"
      ]
     },
     "execution_count": 650,
     "metadata": {},
     "output_type": "execute_result"
    }
   ],
   "source": [
    "df.dtypes"
   ]
  },
  {
   "cell_type": "markdown",
   "id": "afb65836",
   "metadata": {},
   "source": [
    "\n",
    "df.dtypes provides information about the data types of each column in the DataFrame. \n",
    "\n",
    "\n",
    "* \"object\" data type represents columns with text or string values such as classification data types or specific formats such as Date format etc.\n",
    "\n",
    "* \"int64\" data type indicates columns storing integer values.\n",
    "\n",
    "* \"float64\" data type is used for columns containing decimal or floating-point numbers.\n",
    "\n"
   ]
  },
  {
   "cell_type": "markdown",
   "id": "c89b5277",
   "metadata": {},
   "source": [
    "### Identifying and Handling Any Missing Data"
   ]
  },
  {
   "cell_type": "markdown",
   "id": "16e4e2f2",
   "metadata": {},
   "source": [
    "\"Identifying and Handling Missing Data\" is the process of addressing and managing incomplete or missing information in a dataset.\n",
    "\n",
    " The objective is to improve data quality by implementing techniques such as imputing missing values or determining how to address them, which can include methods like filling in missing data with statistical averages, removing rows with missing data."
   ]
  },
  {
   "cell_type": "code",
   "execution_count": 651,
   "id": "153253a7",
   "metadata": {},
   "outputs": [
    {
     "data": {
      "text/plain": [
       "date                       0\n",
       "quarter                    0\n",
       "department                 0\n",
       "day                        0\n",
       "team                       0\n",
       "targeted_productivity      0\n",
       "smv                        0\n",
       "wip                      506\n",
       "over_time                  0\n",
       "incentive                  0\n",
       "idle_time                  0\n",
       "idle_men                   0\n",
       "no_of_style_change         0\n",
       "no_of_workers              0\n",
       "actual_productivity        0\n",
       "dtype: int64"
      ]
     },
     "execution_count": 651,
     "metadata": {},
     "output_type": "execute_result"
    }
   ],
   "source": [
    "df.isna().sum()"
   ]
  },
  {
   "cell_type": "markdown",
   "id": "19adf806",
   "metadata": {},
   "source": [
    "* This function helps identify columns with missing data, which is important for data quality assessment and addressing missing values in data analysis.\n",
    "As we can see there are null values in 'wip' column"
   ]
  },
  {
   "cell_type": "code",
   "execution_count": 652,
   "id": "877e249c",
   "metadata": {},
   "outputs": [
    {
     "data": {
      "text/plain": [
       "42.272347535505425"
      ]
     },
     "execution_count": 652,
     "metadata": {},
     "output_type": "execute_result"
    }
   ],
   "source": [
    "df['wip'].isna().mean()*100"
   ]
  },
  {
   "cell_type": "markdown",
   "id": "a7083cb3",
   "metadata": {},
   "source": [
    "We can see that the \"wip\" column has over 42% null values, which is a substantial amount of data that will have a significant impact on the model. Attempting to improve data quality by imputing missing values using mean or other approaches may not be suitable. In this scenario, dropping the column should be the best option.\n"
   ]
  },
  {
   "cell_type": "markdown",
   "id": "8d4ec554",
   "metadata": {},
   "source": [
    "### Continous features"
   ]
  },
  {
   "cell_type": "code",
   "execution_count": 653,
   "id": "ffba6fb5",
   "metadata": {},
   "outputs": [],
   "source": [
    "df_clean=df[['over_time','smv','incentive','targeted_productivity']]"
   ]
  },
  {
   "cell_type": "code",
   "execution_count": 654,
   "id": "6ccb90c1",
   "metadata": {},
   "outputs": [
    {
     "data": {
      "image/png": "[encoded data removed]",
      "text/plain": [
       "<Figure size 1200x800 with 4 Axes>"
      ]
     },
     "metadata": {},
     "output_type": "display_data"
    }
   ],
   "source": [
    "import matplotlib.pyplot as plt\n",
    "\n",
    "# Define the number of rows and columns for subplots\n",
    "num_rows = 2\n",
    "num_cols = 2\n",
    "\n",
    "# Define the continuous columns to be plotted\n",
    "cont_cols = ['over_time', 'smv', 'incentive', 'targeted_productivity']\n",
    "\n",
    "# Create a figure with subplots\n",
    "fig, axes = plt.subplots(nrows=num_rows, ncols=num_cols, figsize=(12, 8))\n",
    "\n",
    "# Customize histogram appearance\n",
    "hist_kwargs = {\n",
    "    'color': 'skyblue',\n",
    "    'edgecolor': 'black',\n",
    "    'alpha': 0.7\n",
    "}\n",
    "\n",
    "# Loop through the continuous columns and create histograms\n",
    "for i, col in enumerate(cont_cols):\n",
    "    row_idx = i // num_cols\n",
    "    col_idx = i % num_cols    \n",
    "    ax = axes[row_idx, col_idx]\n",
    "    ax.hist(df[col], bins=20, **hist_kwargs)\n",
    "    ax.set_title(f'Histogram of {col}')\n",
    "    ax.set_xlabel(col)\n",
    "    ax.set_ylabel('Frequency')\n",
    "    \n",
    "# Remove any empty subplots\n",
    "for i in range(len(cont_cols), num_rows * num_cols):\n",
    "    row_idx = i // num_cols\n",
    "    col_idx = i % num_cols\n",
    "    fig.delaxes(axes[row_idx, col_idx])\n",
    "\n",
    "# Adjust subplot layout\n",
    "fig.tight_layout()\n",
    "\n",
    "# Display the plots\n",
    "plt.show()\n"
   ]
  },
  {
   "cell_type": "markdown",
   "id": "e00bfae3",
   "metadata": {},
   "source": [
    "Based on the Histograms we can make the below predictions :-"
   ]
  },
  {
   "cell_type": "markdown",
   "id": "2cfda634",
   "metadata": {},
   "source": [
    "- 'over_time': \n",
    "\n",
    "According to the 'over_time' statistics, the most typical overtime duration ranges between (-25.92 to 1296.0] minutes, with 252 workers working up to 1296 minutes. In contrast, as evidenced by the lower frequencies in other duration intervals, fewer workers have prolonged their overtime beyond this range. Furthermore, no counts are shown in the final six intervals, meaning that none of the workers surpassed the specified overtime durations."
   ]
  },
  {
   "cell_type": "markdown",
   "id": "b88442f5",
   "metadata": {},
   "source": [
    "- 'smv':"
   ]
  },
  {
   "cell_type": "markdown",
   "id": "7e8c64b0",
   "metadata": {},
   "source": [
    "The most common SMV (Sewing Machine Workload) scores range from 2.847 to 5.483, with 506 workers having SMV ratings in this range. This means that the vast majority of the workers in the dataset have SMV scores in this range. In contrast, as demonstrated by the lower frequencies in other score intervals, fewer workers have SMV scores that fall outside of this range. The latter two periods had nil counts, indicating that none of the workers had SMV values that exceeded these limits."
   ]
  },
  {
   "cell_type": "markdown",
   "id": "70e6af8a",
   "metadata": {},
   "source": [
    "- 'incentive'"
   ]
  },
  {
   "cell_type": "markdown",
   "id": "9197cae1",
   "metadata": {},
   "source": [
    "With 1187 observations, the majority of the data is focused in the range of -3.601 to 180. This implies that the bulk of incentives are of little value. In comparison, there are only a few occurrences outside of this range, demonstrating that high-value incentives are uncommon in the dataset."
   ]
  },
  {
   "cell_type": "markdown",
   "id": "fd63eea1",
   "metadata": {},
   "source": [
    "### Categorical Features"
   ]
  },
  {
   "cell_type": "code",
   "execution_count": 655,
   "id": "5f023524",
   "metadata": {},
   "outputs": [],
   "source": [
    "df_clean1=df[['quarter', 'department', 'day', 'team']]"
   ]
  },
  {
   "cell_type": "code",
   "execution_count": 656,
   "id": "aba8f4cb",
   "metadata": {},
   "outputs": [
    {
     "data": {
      "image/png": "[encoded data removed]",
      "text/plain": [
       "<Figure size 1000x1000 with 4 Axes>"
      ]
     },
     "metadata": {},
     "output_type": "display_data"
    }
   ],
   "source": [
    "cat_cols = ['quarter', 'department', 'day', 'team']\n",
    "fig, axes = plt.subplots(3, 2, figsize=(10, 10))\n",
    "axes = axes.flatten()\n",
    "\n",
    "for i, col in enumerate(cat_cols):\n",
    "    if col in df_clean1:\n",
    "        df_clean1[col].value_counts().plot(kind='bar', ax=axes[i])\n",
    "        axes[i].set_title(col)\n",
    "        axes[i].tick_params(axis='x', labelrotation=0)\n",
    "    else:\n",
    "        print(f\"Column '{col}' not found in df_clean.\")\n",
    "\n",
    "# Remove unused axes\n",
    "for j in range(len(cat_cols), len(axes.flat)):\n",
    "    fig.delaxes(axes.flat[j])\n",
    "\n",
    "plt.tight_layout()\n",
    "plt.show()\n"
   ]
  },
  {
   "cell_type": "markdown",
   "id": "0124b158",
   "metadata": {},
   "source": [
    "- As we can see from the graph for quarter column has 5 unique values quarter1-5 in descending order.\n",
    "- department has more sewing values more than finishing values.\n",
    "- the records in days of the week seems to be evenly distributed but wednesday has a little edge over other days\n",
    "- for teams 8,2 have more more records and team 11 having the least"
   ]
  },
  {
   "cell_type": "markdown",
   "id": "6164540b",
   "metadata": {},
   "source": [
    "### Coverting the column names into Uppercase  "
   ]
  },
  {
   "cell_type": "code",
   "execution_count": 657,
   "id": "70fb3139",
   "metadata": {},
   "outputs": [],
   "source": [
    "df.columns=df.columns.str.upper()"
   ]
  },
  {
   "cell_type": "markdown",
   "id": "dead4365",
   "metadata": {},
   "source": [
    "* We are modifying the column names in the DataFrame df to uppercase letters to ensure uniformity in column naming and simplifies data operations."
   ]
  },
  {
   "cell_type": "code",
   "execution_count": 658,
   "id": "0af8ffa8",
   "metadata": {
    "scrolled": true
   },
   "outputs": [
    {
     "data": {
      "text/plain": [
       "Index(['DATE', 'QUARTER', 'DEPARTMENT', 'DAY', 'TEAM', 'TARGETED_PRODUCTIVITY',\n",
       "       'SMV', 'WIP', 'OVER_TIME', 'INCENTIVE', 'IDLE_TIME', 'IDLE_MEN',\n",
       "       'NO_OF_STYLE_CHANGE', 'NO_OF_WORKERS', 'ACTUAL_PRODUCTIVITY'],\n",
       "      dtype='object')"
      ]
     },
     "execution_count": 658,
     "metadata": {},
     "output_type": "execute_result"
    }
   ],
   "source": [
    "df.columns"
   ]
  },
  {
   "cell_type": "markdown",
   "id": "093a5820",
   "metadata": {},
   "source": [
    "* We are verifying the column names in the DataFrame after they have been changed to uppercase, ensuring the successful conversion.\n",
    "\n",
    "* It helps confirm that all column names are now in uppercase letters, maintaining consistency for further data processing or analysis."
   ]
  },
  {
   "cell_type": "markdown",
   "id": "dbfede4a",
   "metadata": {},
   "source": [
    "### Identifying any categorical data in the dataframe and Loading Correctly"
   ]
  },
  {
   "cell_type": "markdown",
   "id": "ab1d3025",
   "metadata": {},
   "source": [
    "* We identify and recognize columns or variables in the DataFrame that contain categorical data, such as text labels, categories, or nominal values.\n",
    "\n",
    "* It ensures that these categorical data are treated correctly and loaded in a way that machine learning algorithms or data analysis tools can effectively handle them. This may involve encoding categorical data into numerical format, as many algorithms require numerical input."
   ]
  },
  {
   "cell_type": "code",
   "execution_count": 659,
   "id": "bb645ba1",
   "metadata": {},
   "outputs": [
    {
     "data": {
      "text/plain": [
       "DATE                      59\n",
       "QUARTER                    5\n",
       "DEPARTMENT                 3\n",
       "DAY                        6\n",
       "TEAM                      12\n",
       "TARGETED_PRODUCTIVITY      9\n",
       "SMV                       70\n",
       "WIP                      548\n",
       "OVER_TIME                143\n",
       "INCENTIVE                 48\n",
       "IDLE_TIME                 12\n",
       "IDLE_MEN                  10\n",
       "NO_OF_STYLE_CHANGE         3\n",
       "NO_OF_WORKERS             61\n",
       "ACTUAL_PRODUCTIVITY      879\n",
       "dtype: int64"
      ]
     },
     "execution_count": 659,
     "metadata": {},
     "output_type": "execute_result"
    }
   ],
   "source": [
    "uniques=df.nunique()\n",
    "uniques"
   ]
  },
  {
   "cell_type": "markdown",
   "id": "ff40d765",
   "metadata": {},
   "source": [
    "This output represents the count of unique values in each column of the DataFrame.\n",
    "\n",
    "* \"DATE\" column has 59 unique values.\n",
    "* \"QUARTER\" column has 5 unique values.\n",
    "* \"DEPARTMENT\" column has 3 unique values.\n",
    "* \"DAY\" column has 6 unique values.\n",
    "* \"TEAM\" column has 12 unique values.\n",
    "* \"TARGETED_PRODUCTIVITY\" column has 9 unique values.\n",
    "* \"SMV\" column has 70 unique values.\n",
    "* \"WIP\" column has 548 unique values.\n",
    "* \"OVER_TIME\" column has 143 unique values.\n",
    "* \"INCENTIVE\" column has 48 unique values.\n",
    "* \"IDLE_TIME\" column has 12 unique values.\n",
    "* \"IDLE_MEN\" column has 10 unique values.\n",
    "* \"NO_OF_STYLE_CHANGE\" column has 3 unique values.\n",
    "* \"NO_OF_WORKERS\" column has 61 unique values\n"
   ]
  },
  {
   "cell_type": "code",
   "execution_count": 660,
   "id": "9b3dd47a",
   "metadata": {},
   "outputs": [
    {
     "data": {
      "text/plain": [
       "array(['Quarter1', 'Quarter2', 'Quarter3', 'Quarter4', 'Quarter5'],\n",
       "      dtype=object)"
      ]
     },
     "execution_count": 660,
     "metadata": {},
     "output_type": "execute_result"
    }
   ],
   "source": [
    "df['QUARTER'].unique()"
   ]
  },
  {
   "cell_type": "markdown",
   "id": "8dd7ac1c",
   "metadata": {},
   "source": [
    "* This output shows the distinct quarters or categories present in the \"QUARTER\" column, and it's useful for understanding the variety of data within that specific column.\n"
   ]
  },
  {
   "cell_type": "code",
   "execution_count": 661,
   "id": "538beac3",
   "metadata": {},
   "outputs": [
    {
     "data": {
      "text/plain": [
       "Quarter1    360\n",
       "Quarter2    335\n",
       "Quarter4    248\n",
       "Quarter3    210\n",
       "Quarter5     44\n",
       "Name: QUARTER, dtype: int64"
      ]
     },
     "execution_count": 661,
     "metadata": {},
     "output_type": "execute_result"
    }
   ],
   "source": [
    "df['QUARTER'].value_counts()"
   ]
  },
  {
   "cell_type": "code",
   "execution_count": 662,
   "id": "99b3681a",
   "metadata": {},
   "outputs": [
    {
     "data": {
      "text/plain": [
       "1/31/2015    24\n",
       "1/29/2015    20\n",
       "Name: DATE, dtype: int64"
      ]
     },
     "execution_count": 662,
     "metadata": {},
     "output_type": "execute_result"
    }
   ],
   "source": [
    "q_df = df.loc[df['QUARTER'] == 'Quarter5']\n",
    "q_df['DATE'].value_counts()"
   ]
  },
  {
   "cell_type": "markdown",
   "id": "d529eb13",
   "metadata": {},
   "source": [
    "Normally, a month has four quarters, but in January 2015, quarter 5 only has two days, the 29th and 31st of January, for a total value of 44. Because producing a separate column for just a handful of data would be inefficient when using get dummies on the quarter column, we will merge this quarter 5 into quarter 4.  "
   ]
  },
  {
   "cell_type": "code",
   "execution_count": 663,
   "id": "b3b40334",
   "metadata": {},
   "outputs": [
    {
     "data": {
      "text/plain": [
       "Quarter1    360\n",
       "Quarter2    335\n",
       "Quarter4    292\n",
       "Quarter3    210\n",
       "Name: QUARTER, dtype: int64"
      ]
     },
     "execution_count": 663,
     "metadata": {},
     "output_type": "execute_result"
    }
   ],
   "source": [
    "df['QUARTER']=df['QUARTER'].str.replace('Quarter5', 'Quarter4')\n",
    "df['QUARTER'].value_counts()"
   ]
  },
  {
   "cell_type": "markdown",
   "id": "24b21833",
   "metadata": {},
   "source": [
    "Now we can see that the quarter 5 has been merged with quarter 4 and sumed to 292 values rather than previous 248."
   ]
  },
  {
   "cell_type": "code",
   "execution_count": 664,
   "id": "38d7b6c6",
   "metadata": {},
   "outputs": [
    {
     "data": {
      "text/plain": [
       "array(['sweing', 'finishing ', 'finishing'], dtype=object)"
      ]
     },
     "execution_count": 664,
     "metadata": {},
     "output_type": "execute_result"
    }
   ],
   "source": [
    "df['DEPARTMENT'].unique()"
   ]
  },
  {
   "cell_type": "markdown",
   "id": "463cee98",
   "metadata": {},
   "source": [
    "* This reveals the distinct department classifications present in the \"DEPARTMENT\" column.\n",
    "* As there is  subtle differences in the spelling and formatting of \"finishing\" which needs Data Cleaning. Also the sewing is mispselled as sweing and should be corrected. \n"
   ]
  },
  {
   "cell_type": "code",
   "execution_count": 665,
   "id": "1fc6f1b9",
   "metadata": {},
   "outputs": [],
   "source": [
    "df=df.replace('sweing','sewing')"
   ]
  },
  {
   "cell_type": "code",
   "execution_count": 666,
   "id": "afedb930",
   "metadata": {},
   "outputs": [
    {
     "data": {
      "text/plain": [
       "array(['sewing', 'finishing ', 'finishing'], dtype=object)"
      ]
     },
     "execution_count": 666,
     "metadata": {},
     "output_type": "execute_result"
    }
   ],
   "source": [
    "df['DEPARTMENT'].unique()"
   ]
  },
  {
   "cell_type": "code",
   "execution_count": 667,
   "id": "de8ecca4",
   "metadata": {},
   "outputs": [],
   "source": [
    "df['DEPARTMENT']=df['DEPARTMENT'].str.strip()"
   ]
  },
  {
   "cell_type": "markdown",
   "id": "a86a02ee",
   "metadata": {},
   "source": [
    " As there is an extra space in the \"finishing\"\n",
    " * we are removing extra spaces or unwanted characters at the beginning or end of the department names using str.strip()"
   ]
  },
  {
   "cell_type": "code",
   "execution_count": 668,
   "id": "812e8835",
   "metadata": {},
   "outputs": [
    {
     "data": {
      "text/plain": [
       "sewing       691\n",
       "finishing    506\n",
       "Name: DEPARTMENT, dtype: int64"
      ]
     },
     "execution_count": 668,
     "metadata": {},
     "output_type": "execute_result"
    }
   ],
   "source": [
    "df['DEPARTMENT'].value_counts()"
   ]
  },
  {
   "cell_type": "markdown",
   "id": "0b83b0c0",
   "metadata": {},
   "source": [
    "Now the data is clear with 2 classifications in Deparment column - sewing and finishing."
   ]
  },
  {
   "cell_type": "code",
   "execution_count": 669,
   "id": "e16e504a",
   "metadata": {},
   "outputs": [
    {
     "data": {
      "text/plain": [
       "0       0.940725\n",
       "1       0.886500\n",
       "2       0.800570\n",
       "3       0.800570\n",
       "4       0.800382\n",
       "          ...   \n",
       "1192    0.628333\n",
       "1193    0.625625\n",
       "1194    0.625625\n",
       "1195    0.505889\n",
       "1196    0.394722\n",
       "Name: ACTUAL_PRODUCTIVITY, Length: 1197, dtype: float64"
      ]
     },
     "execution_count": 669,
     "metadata": {},
     "output_type": "execute_result"
    }
   ],
   "source": [
    "df['TARGETED_PRODUCTIVITY']=df['TARGETED_PRODUCTIVITY'].round(2)\n",
    "df['ACTUAL_PRODUCTIVITY']"
   ]
  },
  {
   "cell_type": "markdown",
   "id": "790d73bf",
   "metadata": {},
   "source": [
    "\n",
    "\n",
    "* The \"ACTUAL_PRODUCTIVITY\" column contains decimal numbers with varying precision.\n",
    "* The code rounds the numbers in the \"TARGETED_PRODUCTIVITY\" column to have exactly two decimal places.\n",
    "* This data adjustment makes the \"TARGETED_PRODUCTIVITY\" values more consistent and easier to work with in analysis."
   ]
  },
  {
   "cell_type": "code",
   "execution_count": 670,
   "id": "11791cf3",
   "metadata": {},
   "outputs": [
    {
     "data": {
      "image/png": "[encoded data removed]",
      "text/plain": [
       "<Figure size 640x480 with 1 Axes>"
      ]
     },
     "metadata": {},
     "output_type": "display_data"
    }
   ],
   "source": [
    "s=df['DEPARTMENT'].value_counts()\n",
    "plt.pie(s.values,labels=s.index,autopct='%1.1f%%')\n",
    "plt.title('more workload in sewing department')\n",
    "plt.show()"
   ]
  },
  {
   "cell_type": "markdown",
   "id": "e0c57b89",
   "metadata": {},
   "source": [
    "As we can see from the graph there is more workload on the sewing department than finishing deparment this can also have an impact on the productivity of the workers."
   ]
  },
  {
   "cell_type": "code",
   "execution_count": 671,
   "id": "2891b677",
   "metadata": {},
   "outputs": [
    {
     "data": {
      "text/html": [
       "<div>\n",
       "<style scoped>\n",
       "    .dataframe tbody tr th:only-of-type {\n",
       "        vertical-align: middle;\n",
       "    }\n",
       "\n",
       "    .dataframe tbody tr th {\n",
       "        vertical-align: top;\n",
       "    }\n",
       "\n",
       "    .dataframe thead th {\n",
       "        text-align: right;\n",
       "    }\n",
       "</style>\n",
       "<table border=\"1\" class=\"dataframe\">\n",
       "  <thead>\n",
       "    <tr style=\"text-align: right;\">\n",
       "      <th></th>\n",
       "      <th>TEAM</th>\n",
       "      <th>TARGETED_PRODUCTIVITY</th>\n",
       "      <th>SMV</th>\n",
       "      <th>WIP</th>\n",
       "      <th>OVER_TIME</th>\n",
       "      <th>INCENTIVE</th>\n",
       "      <th>IDLE_TIME</th>\n",
       "      <th>IDLE_MEN</th>\n",
       "      <th>NO_OF_STYLE_CHANGE</th>\n",
       "      <th>NO_OF_WORKERS</th>\n",
       "      <th>ACTUAL_PRODUCTIVITY</th>\n",
       "    </tr>\n",
       "  </thead>\n",
       "  <tbody>\n",
       "    <tr>\n",
       "      <th>count</th>\n",
       "      <td>1197.000000</td>\n",
       "      <td>1197.000000</td>\n",
       "      <td>1197.000000</td>\n",
       "      <td>691.000000</td>\n",
       "      <td>1197.000000</td>\n",
       "      <td>1197.000000</td>\n",
       "      <td>1197.000000</td>\n",
       "      <td>1197.000000</td>\n",
       "      <td>1197.000000</td>\n",
       "      <td>1197.000000</td>\n",
       "      <td>1197.000000</td>\n",
       "    </tr>\n",
       "    <tr>\n",
       "      <th>mean</th>\n",
       "      <td>6.426901</td>\n",
       "      <td>0.729632</td>\n",
       "      <td>15.062172</td>\n",
       "      <td>1190.465991</td>\n",
       "      <td>4567.460317</td>\n",
       "      <td>38.210526</td>\n",
       "      <td>0.730159</td>\n",
       "      <td>0.369256</td>\n",
       "      <td>0.150376</td>\n",
       "      <td>34.609858</td>\n",
       "      <td>0.735091</td>\n",
       "    </tr>\n",
       "    <tr>\n",
       "      <th>std</th>\n",
       "      <td>3.463963</td>\n",
       "      <td>0.097891</td>\n",
       "      <td>10.943219</td>\n",
       "      <td>1837.455001</td>\n",
       "      <td>3348.823563</td>\n",
       "      <td>160.182643</td>\n",
       "      <td>12.709757</td>\n",
       "      <td>3.268987</td>\n",
       "      <td>0.427848</td>\n",
       "      <td>22.197687</td>\n",
       "      <td>0.174488</td>\n",
       "    </tr>\n",
       "    <tr>\n",
       "      <th>min</th>\n",
       "      <td>1.000000</td>\n",
       "      <td>0.070000</td>\n",
       "      <td>2.900000</td>\n",
       "      <td>7.000000</td>\n",
       "      <td>0.000000</td>\n",
       "      <td>0.000000</td>\n",
       "      <td>0.000000</td>\n",
       "      <td>0.000000</td>\n",
       "      <td>0.000000</td>\n",
       "      <td>2.000000</td>\n",
       "      <td>0.233705</td>\n",
       "    </tr>\n",
       "    <tr>\n",
       "      <th>25%</th>\n",
       "      <td>3.000000</td>\n",
       "      <td>0.700000</td>\n",
       "      <td>3.940000</td>\n",
       "      <td>774.500000</td>\n",
       "      <td>1440.000000</td>\n",
       "      <td>0.000000</td>\n",
       "      <td>0.000000</td>\n",
       "      <td>0.000000</td>\n",
       "      <td>0.000000</td>\n",
       "      <td>9.000000</td>\n",
       "      <td>0.650307</td>\n",
       "    </tr>\n",
       "    <tr>\n",
       "      <th>50%</th>\n",
       "      <td>6.000000</td>\n",
       "      <td>0.750000</td>\n",
       "      <td>15.260000</td>\n",
       "      <td>1039.000000</td>\n",
       "      <td>3960.000000</td>\n",
       "      <td>0.000000</td>\n",
       "      <td>0.000000</td>\n",
       "      <td>0.000000</td>\n",
       "      <td>0.000000</td>\n",
       "      <td>34.000000</td>\n",
       "      <td>0.773333</td>\n",
       "    </tr>\n",
       "    <tr>\n",
       "      <th>75%</th>\n",
       "      <td>9.000000</td>\n",
       "      <td>0.800000</td>\n",
       "      <td>24.260000</td>\n",
       "      <td>1252.500000</td>\n",
       "      <td>6960.000000</td>\n",
       "      <td>50.000000</td>\n",
       "      <td>0.000000</td>\n",
       "      <td>0.000000</td>\n",
       "      <td>0.000000</td>\n",
       "      <td>57.000000</td>\n",
       "      <td>0.850253</td>\n",
       "    </tr>\n",
       "    <tr>\n",
       "      <th>max</th>\n",
       "      <td>12.000000</td>\n",
       "      <td>0.800000</td>\n",
       "      <td>54.560000</td>\n",
       "      <td>23122.000000</td>\n",
       "      <td>25920.000000</td>\n",
       "      <td>3600.000000</td>\n",
       "      <td>300.000000</td>\n",
       "      <td>45.000000</td>\n",
       "      <td>2.000000</td>\n",
       "      <td>89.000000</td>\n",
       "      <td>1.120437</td>\n",
       "    </tr>\n",
       "  </tbody>\n",
       "</table>\n",
       "</div>"
      ],
      "text/plain": [
       "              TEAM  TARGETED_PRODUCTIVITY          SMV           WIP  \\\n",
       "count  1197.000000            1197.000000  1197.000000    691.000000   \n",
       "mean      6.426901               0.729632    15.062172   1190.465991   \n",
       "std       3.463963               0.097891    10.943219   1837.455001   \n",
       "min       1.000000               0.070000     2.900000      7.000000   \n",
       "25%       3.000000               0.700000     3.940000    774.500000   \n",
       "50%       6.000000               0.750000    15.260000   1039.000000   \n",
       "75%       9.000000               0.800000    24.260000   1252.500000   \n",
       "max      12.000000               0.800000    54.560000  23122.000000   \n",
       "\n",
       "          OVER_TIME    INCENTIVE    IDLE_TIME     IDLE_MEN  \\\n",
       "count   1197.000000  1197.000000  1197.000000  1197.000000   \n",
       "mean    4567.460317    38.210526     0.730159     0.369256   \n",
       "std     3348.823563   160.182643    12.709757     3.268987   \n",
       "min        0.000000     0.000000     0.000000     0.000000   \n",
       "25%     1440.000000     0.000000     0.000000     0.000000   \n",
       "50%     3960.000000     0.000000     0.000000     0.000000   \n",
       "75%     6960.000000    50.000000     0.000000     0.000000   \n",
       "max    25920.000000  3600.000000   300.000000    45.000000   \n",
       "\n",
       "       NO_OF_STYLE_CHANGE  NO_OF_WORKERS  ACTUAL_PRODUCTIVITY  \n",
       "count         1197.000000    1197.000000          1197.000000  \n",
       "mean             0.150376      34.609858             0.735091  \n",
       "std              0.427848      22.197687             0.174488  \n",
       "min              0.000000       2.000000             0.233705  \n",
       "25%              0.000000       9.000000             0.650307  \n",
       "50%              0.000000      34.000000             0.773333  \n",
       "75%              0.000000      57.000000             0.850253  \n",
       "max              2.000000      89.000000             1.120437  "
      ]
     },
     "execution_count": 671,
     "metadata": {},
     "output_type": "execute_result"
    }
   ],
   "source": [
    "df. describe()"
   ]
  },
  {
   "cell_type": "markdown",
   "id": "e9dde3b1",
   "metadata": {},
   "source": [
    "* After checking for inconsistencies in the data, we are interpreting this output to understand the central tendency, spread, and distribution of the numerical data. \n",
    "* It helps in identifying patterns, outliers, or anomalies in the dataset, which may require further investigation or data cleaning."
   ]
  },
  {
   "cell_type": "markdown",
   "id": "6e34c6d1",
   "metadata": {},
   "source": [
    "### Feature Transformation"
   ]
  },
  {
   "cell_type": "markdown",
   "id": "00d77128",
   "metadata": {},
   "source": [
    "The method of producing new, significant variables from the available data to improve a machine learning model's performance is known as feature Transformation. "
   ]
  },
  {
   "cell_type": "code",
   "execution_count": 672,
   "id": "f5acdee4",
   "metadata": {},
   "outputs": [],
   "source": [
    "df['PRODUCTIVITY']=df['TARGETED_PRODUCTIVITY']-df['ACTUAL_PRODUCTIVITY']"
   ]
  },
  {
   "cell_type": "markdown",
   "id": "f283db95",
   "metadata": {},
   "source": [
    "* It creates a new column called \"PRODUCTIVITY\" in the DataFrame.\n",
    "* This new column measures the difference between the expected productivity (TARGETED_PRODUCTIVITY) and the actual productivity (ACTUAL_PRODUCTIVITY) for each row in the dataset.\n",
    "* It helps you see how much the actual productivity deviates from the target or goal."
   ]
  },
  {
   "cell_type": "code",
   "execution_count": 673,
   "id": "bebee555",
   "metadata": {},
   "outputs": [
    {
     "data": {
      "text/plain": [
       "0      -0.140725\n",
       "1      -0.136500\n",
       "2      -0.000570\n",
       "3      -0.000570\n",
       "4      -0.000382\n",
       "          ...   \n",
       "1192    0.121667\n",
       "1193    0.074375\n",
       "1194    0.024375\n",
       "1195    0.244111\n",
       "1196    0.305278\n",
       "Name: PRODUCTIVITY, Length: 1197, dtype: float64"
      ]
     },
     "execution_count": 673,
     "metadata": {},
     "output_type": "execute_result"
    }
   ],
   "source": [
    "df['PRODUCTIVITY']"
   ]
  },
  {
   "cell_type": "code",
   "execution_count": 674,
   "id": "16fdd844",
   "metadata": {
    "scrolled": true
   },
   "outputs": [
    {
     "data": {
      "text/plain": [
       "False    875\n",
       "True     322\n",
       "Name: PRODUCTIVITY, dtype: int64"
      ]
     },
     "execution_count": 674,
     "metadata": {},
     "output_type": "execute_result"
    }
   ],
   "source": [
    "(df['PRODUCTIVITY']>0).value_counts()"
   ]
  },
  {
   "cell_type": "code",
   "execution_count": 675,
   "id": "0091429e",
   "metadata": {},
   "outputs": [],
   "source": [
    "df['CLASSIFICATION'] = df['PRODUCTIVITY'].apply(lambda x: 1 if x > 0 else 0)"
   ]
  },
  {
   "cell_type": "markdown",
   "id": "06c63e55",
   "metadata": {},
   "source": [
    "We are classifying this as it will be useful for further analysis or modeling to categorize data points into meaningful groups based on their productivity performance.\n",
    "\n",
    "* If the \"PRODUCTIVITY\" value is greater than 0 (indicating that actual productivity is higher than the target),  assigning a value of 1. \n",
    "* If the \"PRODUCTIVITY\" value is not greater than 0 (indicating that actual productivity is at or below the target),  assigning a value of 0."
   ]
  },
  {
   "cell_type": "code",
   "execution_count": 676,
   "id": "60dd22c1",
   "metadata": {
    "scrolled": true
   },
   "outputs": [
    {
     "data": {
      "text/plain": [
       "0    875\n",
       "1    322\n",
       "Name: CLASSIFICATION, dtype: int64"
      ]
     },
     "execution_count": 676,
     "metadata": {},
     "output_type": "execute_result"
    }
   ],
   "source": [
    "df['CLASSIFICATION'].value_counts()"
   ]
  },
  {
   "cell_type": "markdown",
   "id": "ac5fa551",
   "metadata": {},
   "source": [
    "We are examining the distribution of values in the \"CLASSIFICATION\" column after categorizing the data. \n",
    "we can see that the data is unbalanced with more instances baised towards '0'."
   ]
  },
  {
   "cell_type": "markdown",
   "id": "eda0efdd",
   "metadata": {},
   "source": [
    "### Using Get Dummies "
   ]
  },
  {
   "cell_type": "code",
   "execution_count": 677,
   "id": "f4233351",
   "metadata": {
    "scrolled": true
   },
   "outputs": [
    {
     "data": {
      "text/html": [
       "<div>\n",
       "<style scoped>\n",
       "    .dataframe tbody tr th:only-of-type {\n",
       "        vertical-align: middle;\n",
       "    }\n",
       "\n",
       "    .dataframe tbody tr th {\n",
       "        vertical-align: top;\n",
       "    }\n",
       "\n",
       "    .dataframe thead th {\n",
       "        text-align: right;\n",
       "    }\n",
       "</style>\n",
       "<table border=\"1\" class=\"dataframe\">\n",
       "  <thead>\n",
       "    <tr style=\"text-align: right;\">\n",
       "      <th></th>\n",
       "      <th>DATE</th>\n",
       "      <th>TEAM</th>\n",
       "      <th>TARGETED_PRODUCTIVITY</th>\n",
       "      <th>SMV</th>\n",
       "      <th>WIP</th>\n",
       "      <th>OVER_TIME</th>\n",
       "      <th>INCENTIVE</th>\n",
       "      <th>IDLE_TIME</th>\n",
       "      <th>IDLE_MEN</th>\n",
       "      <th>NO_OF_STYLE_CHANGE</th>\n",
       "      <th>...</th>\n",
       "      <th>DAY_Monday</th>\n",
       "      <th>DAY_Saturday</th>\n",
       "      <th>DAY_Sunday</th>\n",
       "      <th>DAY_Thursday</th>\n",
       "      <th>DAY_Tuesday</th>\n",
       "      <th>DAY_Wednesday</th>\n",
       "      <th>QUARTER_Quarter1</th>\n",
       "      <th>QUARTER_Quarter2</th>\n",
       "      <th>QUARTER_Quarter3</th>\n",
       "      <th>QUARTER_Quarter4</th>\n",
       "    </tr>\n",
       "  </thead>\n",
       "  <tbody>\n",
       "    <tr>\n",
       "      <th>0</th>\n",
       "      <td>1/1/2015</td>\n",
       "      <td>8</td>\n",
       "      <td>0.80</td>\n",
       "      <td>26.16</td>\n",
       "      <td>1108.0</td>\n",
       "      <td>7080</td>\n",
       "      <td>98</td>\n",
       "      <td>0.0</td>\n",
       "      <td>0</td>\n",
       "      <td>0</td>\n",
       "      <td>...</td>\n",
       "      <td>0</td>\n",
       "      <td>0</td>\n",
       "      <td>0</td>\n",
       "      <td>1</td>\n",
       "      <td>0</td>\n",
       "      <td>0</td>\n",
       "      <td>1</td>\n",
       "      <td>0</td>\n",
       "      <td>0</td>\n",
       "      <td>0</td>\n",
       "    </tr>\n",
       "    <tr>\n",
       "      <th>1</th>\n",
       "      <td>1/1/2015</td>\n",
       "      <td>1</td>\n",
       "      <td>0.75</td>\n",
       "      <td>3.94</td>\n",
       "      <td>NaN</td>\n",
       "      <td>960</td>\n",
       "      <td>0</td>\n",
       "      <td>0.0</td>\n",
       "      <td>0</td>\n",
       "      <td>0</td>\n",
       "      <td>...</td>\n",
       "      <td>0</td>\n",
       "      <td>0</td>\n",
       "      <td>0</td>\n",
       "      <td>1</td>\n",
       "      <td>0</td>\n",
       "      <td>0</td>\n",
       "      <td>1</td>\n",
       "      <td>0</td>\n",
       "      <td>0</td>\n",
       "      <td>0</td>\n",
       "    </tr>\n",
       "    <tr>\n",
       "      <th>2</th>\n",
       "      <td>1/1/2015</td>\n",
       "      <td>11</td>\n",
       "      <td>0.80</td>\n",
       "      <td>11.41</td>\n",
       "      <td>968.0</td>\n",
       "      <td>3660</td>\n",
       "      <td>50</td>\n",
       "      <td>0.0</td>\n",
       "      <td>0</td>\n",
       "      <td>0</td>\n",
       "      <td>...</td>\n",
       "      <td>0</td>\n",
       "      <td>0</td>\n",
       "      <td>0</td>\n",
       "      <td>1</td>\n",
       "      <td>0</td>\n",
       "      <td>0</td>\n",
       "      <td>1</td>\n",
       "      <td>0</td>\n",
       "      <td>0</td>\n",
       "      <td>0</td>\n",
       "    </tr>\n",
       "    <tr>\n",
       "      <th>3</th>\n",
       "      <td>1/1/2015</td>\n",
       "      <td>12</td>\n",
       "      <td>0.80</td>\n",
       "      <td>11.41</td>\n",
       "      <td>968.0</td>\n",
       "      <td>3660</td>\n",
       "      <td>50</td>\n",
       "      <td>0.0</td>\n",
       "      <td>0</td>\n",
       "      <td>0</td>\n",
       "      <td>...</td>\n",
       "      <td>0</td>\n",
       "      <td>0</td>\n",
       "      <td>0</td>\n",
       "      <td>1</td>\n",
       "      <td>0</td>\n",
       "      <td>0</td>\n",
       "      <td>1</td>\n",
       "      <td>0</td>\n",
       "      <td>0</td>\n",
       "      <td>0</td>\n",
       "    </tr>\n",
       "    <tr>\n",
       "      <th>4</th>\n",
       "      <td>1/1/2015</td>\n",
       "      <td>6</td>\n",
       "      <td>0.80</td>\n",
       "      <td>25.90</td>\n",
       "      <td>1170.0</td>\n",
       "      <td>1920</td>\n",
       "      <td>50</td>\n",
       "      <td>0.0</td>\n",
       "      <td>0</td>\n",
       "      <td>0</td>\n",
       "      <td>...</td>\n",
       "      <td>0</td>\n",
       "      <td>0</td>\n",
       "      <td>0</td>\n",
       "      <td>1</td>\n",
       "      <td>0</td>\n",
       "      <td>0</td>\n",
       "      <td>1</td>\n",
       "      <td>0</td>\n",
       "      <td>0</td>\n",
       "      <td>0</td>\n",
       "    </tr>\n",
       "    <tr>\n",
       "      <th>...</th>\n",
       "      <td>...</td>\n",
       "      <td>...</td>\n",
       "      <td>...</td>\n",
       "      <td>...</td>\n",
       "      <td>...</td>\n",
       "      <td>...</td>\n",
       "      <td>...</td>\n",
       "      <td>...</td>\n",
       "      <td>...</td>\n",
       "      <td>...</td>\n",
       "      <td>...</td>\n",
       "      <td>...</td>\n",
       "      <td>...</td>\n",
       "      <td>...</td>\n",
       "      <td>...</td>\n",
       "      <td>...</td>\n",
       "      <td>...</td>\n",
       "      <td>...</td>\n",
       "      <td>...</td>\n",
       "      <td>...</td>\n",
       "      <td>...</td>\n",
       "    </tr>\n",
       "    <tr>\n",
       "      <th>1192</th>\n",
       "      <td>3/11/2015</td>\n",
       "      <td>10</td>\n",
       "      <td>0.75</td>\n",
       "      <td>2.90</td>\n",
       "      <td>NaN</td>\n",
       "      <td>960</td>\n",
       "      <td>0</td>\n",
       "      <td>0.0</td>\n",
       "      <td>0</td>\n",
       "      <td>0</td>\n",
       "      <td>...</td>\n",
       "      <td>0</td>\n",
       "      <td>0</td>\n",
       "      <td>0</td>\n",
       "      <td>0</td>\n",
       "      <td>0</td>\n",
       "      <td>1</td>\n",
       "      <td>0</td>\n",
       "      <td>1</td>\n",
       "      <td>0</td>\n",
       "      <td>0</td>\n",
       "    </tr>\n",
       "    <tr>\n",
       "      <th>1193</th>\n",
       "      <td>3/11/2015</td>\n",
       "      <td>8</td>\n",
       "      <td>0.70</td>\n",
       "      <td>3.90</td>\n",
       "      <td>NaN</td>\n",
       "      <td>960</td>\n",
       "      <td>0</td>\n",
       "      <td>0.0</td>\n",
       "      <td>0</td>\n",
       "      <td>0</td>\n",
       "      <td>...</td>\n",
       "      <td>0</td>\n",
       "      <td>0</td>\n",
       "      <td>0</td>\n",
       "      <td>0</td>\n",
       "      <td>0</td>\n",
       "      <td>1</td>\n",
       "      <td>0</td>\n",
       "      <td>1</td>\n",
       "      <td>0</td>\n",
       "      <td>0</td>\n",
       "    </tr>\n",
       "    <tr>\n",
       "      <th>1194</th>\n",
       "      <td>3/11/2015</td>\n",
       "      <td>7</td>\n",
       "      <td>0.65</td>\n",
       "      <td>3.90</td>\n",
       "      <td>NaN</td>\n",
       "      <td>960</td>\n",
       "      <td>0</td>\n",
       "      <td>0.0</td>\n",
       "      <td>0</td>\n",
       "      <td>0</td>\n",
       "      <td>...</td>\n",
       "      <td>0</td>\n",
       "      <td>0</td>\n",
       "      <td>0</td>\n",
       "      <td>0</td>\n",
       "      <td>0</td>\n",
       "      <td>1</td>\n",
       "      <td>0</td>\n",
       "      <td>1</td>\n",
       "      <td>0</td>\n",
       "      <td>0</td>\n",
       "    </tr>\n",
       "    <tr>\n",
       "      <th>1195</th>\n",
       "      <td>3/11/2015</td>\n",
       "      <td>9</td>\n",
       "      <td>0.75</td>\n",
       "      <td>2.90</td>\n",
       "      <td>NaN</td>\n",
       "      <td>1800</td>\n",
       "      <td>0</td>\n",
       "      <td>0.0</td>\n",
       "      <td>0</td>\n",
       "      <td>0</td>\n",
       "      <td>...</td>\n",
       "      <td>0</td>\n",
       "      <td>0</td>\n",
       "      <td>0</td>\n",
       "      <td>0</td>\n",
       "      <td>0</td>\n",
       "      <td>1</td>\n",
       "      <td>0</td>\n",
       "      <td>1</td>\n",
       "      <td>0</td>\n",
       "      <td>0</td>\n",
       "    </tr>\n",
       "    <tr>\n",
       "      <th>1196</th>\n",
       "      <td>3/11/2015</td>\n",
       "      <td>6</td>\n",
       "      <td>0.70</td>\n",
       "      <td>2.90</td>\n",
       "      <td>NaN</td>\n",
       "      <td>720</td>\n",
       "      <td>0</td>\n",
       "      <td>0.0</td>\n",
       "      <td>0</td>\n",
       "      <td>0</td>\n",
       "      <td>...</td>\n",
       "      <td>0</td>\n",
       "      <td>0</td>\n",
       "      <td>0</td>\n",
       "      <td>0</td>\n",
       "      <td>0</td>\n",
       "      <td>1</td>\n",
       "      <td>0</td>\n",
       "      <td>1</td>\n",
       "      <td>0</td>\n",
       "      <td>0</td>\n",
       "    </tr>\n",
       "  </tbody>\n",
       "</table>\n",
       "<p>1197 rows × 26 columns</p>\n",
       "</div>"
      ],
      "text/plain": [
       "           DATE  TEAM  TARGETED_PRODUCTIVITY    SMV     WIP  OVER_TIME  \\\n",
       "0      1/1/2015     8                   0.80  26.16  1108.0       7080   \n",
       "1      1/1/2015     1                   0.75   3.94     NaN        960   \n",
       "2      1/1/2015    11                   0.80  11.41   968.0       3660   \n",
       "3      1/1/2015    12                   0.80  11.41   968.0       3660   \n",
       "4      1/1/2015     6                   0.80  25.90  1170.0       1920   \n",
       "...         ...   ...                    ...    ...     ...        ...   \n",
       "1192  3/11/2015    10                   0.75   2.90     NaN        960   \n",
       "1193  3/11/2015     8                   0.70   3.90     NaN        960   \n",
       "1194  3/11/2015     7                   0.65   3.90     NaN        960   \n",
       "1195  3/11/2015     9                   0.75   2.90     NaN       1800   \n",
       "1196  3/11/2015     6                   0.70   2.90     NaN        720   \n",
       "\n",
       "      INCENTIVE  IDLE_TIME  IDLE_MEN  NO_OF_STYLE_CHANGE  ...  DAY_Monday  \\\n",
       "0            98        0.0         0                   0  ...           0   \n",
       "1             0        0.0         0                   0  ...           0   \n",
       "2            50        0.0         0                   0  ...           0   \n",
       "3            50        0.0         0                   0  ...           0   \n",
       "4            50        0.0         0                   0  ...           0   \n",
       "...         ...        ...       ...                 ...  ...         ...   \n",
       "1192          0        0.0         0                   0  ...           0   \n",
       "1193          0        0.0         0                   0  ...           0   \n",
       "1194          0        0.0         0                   0  ...           0   \n",
       "1195          0        0.0         0                   0  ...           0   \n",
       "1196          0        0.0         0                   0  ...           0   \n",
       "\n",
       "      DAY_Saturday  DAY_Sunday  DAY_Thursday  DAY_Tuesday  DAY_Wednesday  \\\n",
       "0                0           0             1            0              0   \n",
       "1                0           0             1            0              0   \n",
       "2                0           0             1            0              0   \n",
       "3                0           0             1            0              0   \n",
       "4                0           0             1            0              0   \n",
       "...            ...         ...           ...          ...            ...   \n",
       "1192             0           0             0            0              1   \n",
       "1193             0           0             0            0              1   \n",
       "1194             0           0             0            0              1   \n",
       "1195             0           0             0            0              1   \n",
       "1196             0           0             0            0              1   \n",
       "\n",
       "      QUARTER_Quarter1  QUARTER_Quarter2  QUARTER_Quarter3  QUARTER_Quarter4  \n",
       "0                    1                 0                 0                 0  \n",
       "1                    1                 0                 0                 0  \n",
       "2                    1                 0                 0                 0  \n",
       "3                    1                 0                 0                 0  \n",
       "4                    1                 0                 0                 0  \n",
       "...                ...               ...               ...               ...  \n",
       "1192                 0                 1                 0                 0  \n",
       "1193                 0                 1                 0                 0  \n",
       "1194                 0                 1                 0                 0  \n",
       "1195                 0                 1                 0                 0  \n",
       "1196                 0                 1                 0                 0  \n",
       "\n",
       "[1197 rows x 26 columns]"
      ]
     },
     "execution_count": 677,
     "metadata": {},
     "output_type": "execute_result"
    }
   ],
   "source": [
    "df_dummy=pd.get_dummies(\n",
    "    df,\n",
    "    prefix_sep='_',\n",
    "    dummy_na=False,\n",
    "    drop_first=False,\n",
    "    columns=['DEPARTMENT','DAY','QUARTER'],\n",
    "    dtype='int32'\n",
    "    \n",
    ")\n",
    "df_dummy"
   ]
  },
  {
   "cell_type": "markdown",
   "id": "993d6a47",
   "metadata": {},
   "source": [
    "We are creating a new dataframe by applying get dummies function on classification columns like day, department,quarter to create sub columns based on the classification as shown above. "
   ]
  },
  {
   "cell_type": "markdown",
   "id": "3e8f9484",
   "metadata": {},
   "source": [
    "### Feature Target Seperation"
   ]
  },
  {
   "cell_type": "code",
   "execution_count": 678,
   "id": "547cc754",
   "metadata": {},
   "outputs": [
    {
     "data": {
      "text/plain": [
       "0       0\n",
       "1       0\n",
       "2       0\n",
       "3       0\n",
       "4       0\n",
       "       ..\n",
       "1192    1\n",
       "1193    1\n",
       "1194    1\n",
       "1195    1\n",
       "1196    1\n",
       "Name: CLASSIFICATION, Length: 1197, dtype: int64"
      ]
     },
     "execution_count": 678,
     "metadata": {},
     "output_type": "execute_result"
    }
   ],
   "source": [
    "features=df_dummy.drop(['ACTUAL_PRODUCTIVITY','PRODUCTIVITY','CLASSIFICATION','WIP','DATE'],axis=1)\n",
    "features\n",
    "target=df_dummy['CLASSIFICATION']\n",
    "target"
   ]
  },
  {
   "cell_type": "markdown",
   "id": "97439d0c",
   "metadata": {},
   "source": [
    "* We are dropping the specific columns ('ACTUAL_PRODUCTIVITY', 'PRODUCTIVITY', 'CLASSIFICATION', 'WIP', 'DATE') because they are not  relevant for our analysis.We are isolating the remaining columns as our input features\n",
    "* We are creating target by selecting the 'CLASSIFICATION' column from the DataFrame df_dummy.\n",
    "* This column is representing the target that the model tries to predict."
   ]
  },
  {
   "cell_type": "markdown",
   "id": "62ee2211",
   "metadata": {},
   "source": [
    "## 2. Training and Standardization"
   ]
  },
  {
   "cell_type": "markdown",
   "id": "531b74d8",
   "metadata": {},
   "source": [
    "### Training the Dataset"
   ]
  },
  {
   "cell_type": "markdown",
   "id": "96912ba0",
   "metadata": {},
   "source": [
    "* It's the process of teaching a machine learning model using data to enable it to make predictions or classifications.\n"
   ]
  },
  {
   "cell_type": "code",
   "execution_count": 679,
   "id": "04bd0d82",
   "metadata": {},
   "outputs": [
    {
     "data": {
      "text/plain": [
       "(1197, 26)"
      ]
     },
     "execution_count": 679,
     "metadata": {},
     "output_type": "execute_result"
    }
   ],
   "source": [
    "df_dummy.shape"
   ]
  },
  {
   "cell_type": "code",
   "execution_count": 680,
   "id": "339a0fb4",
   "metadata": {},
   "outputs": [],
   "source": [
    "X_train,X_test,y_train,y_test=train_test_split(features,target,test_size=0.2,random_state=1)"
   ]
  },
  {
   "cell_type": "markdown",
   "id": "ba1df62c",
   "metadata": {},
   "source": [
    "* We can have split types of 70/30 , 80/20 or 60/40  train-test split but it depends on factors like data size, quality, model complexity, and domain knowledge.\n",
    "* We are using 80/20 split as the data set contains only 1197 instances we are prioritising train data is crucial for the model. Giving more data to the model will train the model to perform efficiently.\n",
    "\n",
    "\n",
    "\n",
    "\n"
   ]
  },
  {
   "cell_type": "code",
   "execution_count": 681,
   "id": "f2aa9e81",
   "metadata": {},
   "outputs": [
    {
     "data": {
      "text/html": [
       "<div>\n",
       "<style scoped>\n",
       "    .dataframe tbody tr th:only-of-type {\n",
       "        vertical-align: middle;\n",
       "    }\n",
       "\n",
       "    .dataframe tbody tr th {\n",
       "        vertical-align: top;\n",
       "    }\n",
       "\n",
       "    .dataframe thead th {\n",
       "        text-align: right;\n",
       "    }\n",
       "</style>\n",
       "<table border=\"1\" class=\"dataframe\">\n",
       "  <thead>\n",
       "    <tr style=\"text-align: right;\">\n",
       "      <th></th>\n",
       "      <th>TEAM</th>\n",
       "      <th>TARGETED_PRODUCTIVITY</th>\n",
       "      <th>SMV</th>\n",
       "      <th>OVER_TIME</th>\n",
       "      <th>INCENTIVE</th>\n",
       "      <th>IDLE_TIME</th>\n",
       "      <th>IDLE_MEN</th>\n",
       "      <th>NO_OF_STYLE_CHANGE</th>\n",
       "      <th>NO_OF_WORKERS</th>\n",
       "      <th>DEPARTMENT_finishing</th>\n",
       "      <th>...</th>\n",
       "      <th>DAY_Monday</th>\n",
       "      <th>DAY_Saturday</th>\n",
       "      <th>DAY_Sunday</th>\n",
       "      <th>DAY_Thursday</th>\n",
       "      <th>DAY_Tuesday</th>\n",
       "      <th>DAY_Wednesday</th>\n",
       "      <th>QUARTER_Quarter1</th>\n",
       "      <th>QUARTER_Quarter2</th>\n",
       "      <th>QUARTER_Quarter3</th>\n",
       "      <th>QUARTER_Quarter4</th>\n",
       "    </tr>\n",
       "  </thead>\n",
       "  <tbody>\n",
       "    <tr>\n",
       "      <th>994</th>\n",
       "      <td>1</td>\n",
       "      <td>0.60</td>\n",
       "      <td>26.66</td>\n",
       "      <td>6840</td>\n",
       "      <td>38</td>\n",
       "      <td>0.0</td>\n",
       "      <td>0</td>\n",
       "      <td>0</td>\n",
       "      <td>57.0</td>\n",
       "      <td>0</td>\n",
       "      <td>...</td>\n",
       "      <td>0</td>\n",
       "      <td>0</td>\n",
       "      <td>1</td>\n",
       "      <td>0</td>\n",
       "      <td>0</td>\n",
       "      <td>0</td>\n",
       "      <td>1</td>\n",
       "      <td>0</td>\n",
       "      <td>0</td>\n",
       "      <td>0</td>\n",
       "    </tr>\n",
       "    <tr>\n",
       "      <th>584</th>\n",
       "      <td>8</td>\n",
       "      <td>0.70</td>\n",
       "      <td>4.15</td>\n",
       "      <td>960</td>\n",
       "      <td>0</td>\n",
       "      <td>0.0</td>\n",
       "      <td>0</td>\n",
       "      <td>0</td>\n",
       "      <td>8.0</td>\n",
       "      <td>1</td>\n",
       "      <td>...</td>\n",
       "      <td>0</td>\n",
       "      <td>0</td>\n",
       "      <td>0</td>\n",
       "      <td>0</td>\n",
       "      <td>1</td>\n",
       "      <td>0</td>\n",
       "      <td>1</td>\n",
       "      <td>0</td>\n",
       "      <td>0</td>\n",
       "      <td>0</td>\n",
       "    </tr>\n",
       "    <tr>\n",
       "      <th>824</th>\n",
       "      <td>6</td>\n",
       "      <td>0.80</td>\n",
       "      <td>2.90</td>\n",
       "      <td>1440</td>\n",
       "      <td>0</td>\n",
       "      <td>0.0</td>\n",
       "      <td>0</td>\n",
       "      <td>0</td>\n",
       "      <td>12.0</td>\n",
       "      <td>1</td>\n",
       "      <td>...</td>\n",
       "      <td>0</td>\n",
       "      <td>0</td>\n",
       "      <td>0</td>\n",
       "      <td>0</td>\n",
       "      <td>0</td>\n",
       "      <td>1</td>\n",
       "      <td>0</td>\n",
       "      <td>0</td>\n",
       "      <td>1</td>\n",
       "      <td>0</td>\n",
       "    </tr>\n",
       "    <tr>\n",
       "      <th>323</th>\n",
       "      <td>9</td>\n",
       "      <td>0.80</td>\n",
       "      <td>26.16</td>\n",
       "      <td>10620</td>\n",
       "      <td>63</td>\n",
       "      <td>0.0</td>\n",
       "      <td>0</td>\n",
       "      <td>0</td>\n",
       "      <td>59.0</td>\n",
       "      <td>0</td>\n",
       "      <td>...</td>\n",
       "      <td>1</td>\n",
       "      <td>0</td>\n",
       "      <td>0</td>\n",
       "      <td>0</td>\n",
       "      <td>0</td>\n",
       "      <td>0</td>\n",
       "      <td>0</td>\n",
       "      <td>0</td>\n",
       "      <td>1</td>\n",
       "      <td>0</td>\n",
       "    </tr>\n",
       "    <tr>\n",
       "      <th>1106</th>\n",
       "      <td>3</td>\n",
       "      <td>0.80</td>\n",
       "      <td>4.60</td>\n",
       "      <td>1440</td>\n",
       "      <td>0</td>\n",
       "      <td>0.0</td>\n",
       "      <td>0</td>\n",
       "      <td>0</td>\n",
       "      <td>12.0</td>\n",
       "      <td>1</td>\n",
       "      <td>...</td>\n",
       "      <td>0</td>\n",
       "      <td>0</td>\n",
       "      <td>1</td>\n",
       "      <td>0</td>\n",
       "      <td>0</td>\n",
       "      <td>0</td>\n",
       "      <td>0</td>\n",
       "      <td>1</td>\n",
       "      <td>0</td>\n",
       "      <td>0</td>\n",
       "    </tr>\n",
       "    <tr>\n",
       "      <th>...</th>\n",
       "      <td>...</td>\n",
       "      <td>...</td>\n",
       "      <td>...</td>\n",
       "      <td>...</td>\n",
       "      <td>...</td>\n",
       "      <td>...</td>\n",
       "      <td>...</td>\n",
       "      <td>...</td>\n",
       "      <td>...</td>\n",
       "      <td>...</td>\n",
       "      <td>...</td>\n",
       "      <td>...</td>\n",
       "      <td>...</td>\n",
       "      <td>...</td>\n",
       "      <td>...</td>\n",
       "      <td>...</td>\n",
       "      <td>...</td>\n",
       "      <td>...</td>\n",
       "      <td>...</td>\n",
       "      <td>...</td>\n",
       "      <td>...</td>\n",
       "    </tr>\n",
       "    <tr>\n",
       "      <th>715</th>\n",
       "      <td>8</td>\n",
       "      <td>0.35</td>\n",
       "      <td>4.15</td>\n",
       "      <td>1440</td>\n",
       "      <td>0</td>\n",
       "      <td>0.0</td>\n",
       "      <td>0</td>\n",
       "      <td>0</td>\n",
       "      <td>12.0</td>\n",
       "      <td>1</td>\n",
       "      <td>...</td>\n",
       "      <td>0</td>\n",
       "      <td>0</td>\n",
       "      <td>0</td>\n",
       "      <td>0</td>\n",
       "      <td>0</td>\n",
       "      <td>1</td>\n",
       "      <td>0</td>\n",
       "      <td>1</td>\n",
       "      <td>0</td>\n",
       "      <td>0</td>\n",
       "    </tr>\n",
       "    <tr>\n",
       "      <th>905</th>\n",
       "      <td>12</td>\n",
       "      <td>0.80</td>\n",
       "      <td>15.26</td>\n",
       "      <td>4080</td>\n",
       "      <td>50</td>\n",
       "      <td>0.0</td>\n",
       "      <td>0</td>\n",
       "      <td>0</td>\n",
       "      <td>34.0</td>\n",
       "      <td>0</td>\n",
       "      <td>...</td>\n",
       "      <td>0</td>\n",
       "      <td>0</td>\n",
       "      <td>0</td>\n",
       "      <td>0</td>\n",
       "      <td>1</td>\n",
       "      <td>0</td>\n",
       "      <td>0</td>\n",
       "      <td>0</td>\n",
       "      <td>0</td>\n",
       "      <td>1</td>\n",
       "    </tr>\n",
       "    <tr>\n",
       "      <th>1096</th>\n",
       "      <td>9</td>\n",
       "      <td>0.75</td>\n",
       "      <td>18.79</td>\n",
       "      <td>3480</td>\n",
       "      <td>45</td>\n",
       "      <td>0.0</td>\n",
       "      <td>0</td>\n",
       "      <td>0</td>\n",
       "      <td>51.0</td>\n",
       "      <td>0</td>\n",
       "      <td>...</td>\n",
       "      <td>0</td>\n",
       "      <td>1</td>\n",
       "      <td>0</td>\n",
       "      <td>0</td>\n",
       "      <td>0</td>\n",
       "      <td>0</td>\n",
       "      <td>1</td>\n",
       "      <td>0</td>\n",
       "      <td>0</td>\n",
       "      <td>0</td>\n",
       "    </tr>\n",
       "    <tr>\n",
       "      <th>235</th>\n",
       "      <td>5</td>\n",
       "      <td>0.70</td>\n",
       "      <td>20.79</td>\n",
       "      <td>10440</td>\n",
       "      <td>0</td>\n",
       "      <td>0.0</td>\n",
       "      <td>0</td>\n",
       "      <td>0</td>\n",
       "      <td>58.0</td>\n",
       "      <td>0</td>\n",
       "      <td>...</td>\n",
       "      <td>0</td>\n",
       "      <td>0</td>\n",
       "      <td>0</td>\n",
       "      <td>0</td>\n",
       "      <td>1</td>\n",
       "      <td>0</td>\n",
       "      <td>0</td>\n",
       "      <td>1</td>\n",
       "      <td>0</td>\n",
       "      <td>0</td>\n",
       "    </tr>\n",
       "    <tr>\n",
       "      <th>1061</th>\n",
       "      <td>10</td>\n",
       "      <td>0.70</td>\n",
       "      <td>21.82</td>\n",
       "      <td>5760</td>\n",
       "      <td>30</td>\n",
       "      <td>0.0</td>\n",
       "      <td>0</td>\n",
       "      <td>0</td>\n",
       "      <td>53.0</td>\n",
       "      <td>0</td>\n",
       "      <td>...</td>\n",
       "      <td>0</td>\n",
       "      <td>0</td>\n",
       "      <td>0</td>\n",
       "      <td>0</td>\n",
       "      <td>0</td>\n",
       "      <td>1</td>\n",
       "      <td>1</td>\n",
       "      <td>0</td>\n",
       "      <td>0</td>\n",
       "      <td>0</td>\n",
       "    </tr>\n",
       "  </tbody>\n",
       "</table>\n",
       "<p>957 rows × 21 columns</p>\n",
       "</div>"
      ],
      "text/plain": [
       "      TEAM  TARGETED_PRODUCTIVITY    SMV  OVER_TIME  INCENTIVE  IDLE_TIME  \\\n",
       "994      1                   0.60  26.66       6840         38        0.0   \n",
       "584      8                   0.70   4.15        960          0        0.0   \n",
       "824      6                   0.80   2.90       1440          0        0.0   \n",
       "323      9                   0.80  26.16      10620         63        0.0   \n",
       "1106     3                   0.80   4.60       1440          0        0.0   \n",
       "...    ...                    ...    ...        ...        ...        ...   \n",
       "715      8                   0.35   4.15       1440          0        0.0   \n",
       "905     12                   0.80  15.26       4080         50        0.0   \n",
       "1096     9                   0.75  18.79       3480         45        0.0   \n",
       "235      5                   0.70  20.79      10440          0        0.0   \n",
       "1061    10                   0.70  21.82       5760         30        0.0   \n",
       "\n",
       "      IDLE_MEN  NO_OF_STYLE_CHANGE  NO_OF_WORKERS  DEPARTMENT_finishing  ...  \\\n",
       "994          0                   0           57.0                     0  ...   \n",
       "584          0                   0            8.0                     1  ...   \n",
       "824          0                   0           12.0                     1  ...   \n",
       "323          0                   0           59.0                     0  ...   \n",
       "1106         0                   0           12.0                     1  ...   \n",
       "...        ...                 ...            ...                   ...  ...   \n",
       "715          0                   0           12.0                     1  ...   \n",
       "905          0                   0           34.0                     0  ...   \n",
       "1096         0                   0           51.0                     0  ...   \n",
       "235          0                   0           58.0                     0  ...   \n",
       "1061         0                   0           53.0                     0  ...   \n",
       "\n",
       "      DAY_Monday  DAY_Saturday  DAY_Sunday  DAY_Thursday  DAY_Tuesday  \\\n",
       "994            0             0           1             0            0   \n",
       "584            0             0           0             0            1   \n",
       "824            0             0           0             0            0   \n",
       "323            1             0           0             0            0   \n",
       "1106           0             0           1             0            0   \n",
       "...          ...           ...         ...           ...          ...   \n",
       "715            0             0           0             0            0   \n",
       "905            0             0           0             0            1   \n",
       "1096           0             1           0             0            0   \n",
       "235            0             0           0             0            1   \n",
       "1061           0             0           0             0            0   \n",
       "\n",
       "      DAY_Wednesday  QUARTER_Quarter1  QUARTER_Quarter2  QUARTER_Quarter3  \\\n",
       "994               0                 1                 0                 0   \n",
       "584               0                 1                 0                 0   \n",
       "824               1                 0                 0                 1   \n",
       "323               0                 0                 0                 1   \n",
       "1106              0                 0                 1                 0   \n",
       "...             ...               ...               ...               ...   \n",
       "715               1                 0                 1                 0   \n",
       "905               0                 0                 0                 0   \n",
       "1096              0                 1                 0                 0   \n",
       "235               0                 0                 1                 0   \n",
       "1061              1                 1                 0                 0   \n",
       "\n",
       "      QUARTER_Quarter4  \n",
       "994                  0  \n",
       "584                  0  \n",
       "824                  0  \n",
       "323                  0  \n",
       "1106                 0  \n",
       "...                ...  \n",
       "715                  0  \n",
       "905                  1  \n",
       "1096                 0  \n",
       "235                  0  \n",
       "1061                 0  \n",
       "\n",
       "[957 rows x 21 columns]"
      ]
     },
     "execution_count": 681,
     "metadata": {},
     "output_type": "execute_result"
    }
   ],
   "source": [
    "X_train"
   ]
  },
  {
   "cell_type": "markdown",
   "id": "c6cbf2c0",
   "metadata": {},
   "source": [
    "### Standardization"
   ]
  },
  {
   "cell_type": "markdown",
   "id": "3b8d12fb",
   "metadata": {},
   "source": [
    "Because the models in this notebook are sensitive to scale differences, we should start by eliminating differences across predictors/features.To do so, we'll standardise the values of each variable.\n",
    "To accomplish this, we will use the popular sklearn library's'standard scaler'. This library offers many of the typical functions needed for analytics. Our variables will be standardised using the usual scaler function. To accomplish this, we must first train the scaler on training data and then apply the learned scaler to standardise both the training and validation sets."
   ]
  },
  {
   "cell_type": "code",
   "execution_count": 682,
   "id": "d7461567",
   "metadata": {},
   "outputs": [],
   "source": [
    "scaler = preprocessing.StandardScaler()\n",
    "scaler.fit(X_train)\n",
    "\n",
    "# Transform the predictors of training and validation sets\n",
    "X_train = scaler.transform(X_train) \n",
    "X_test = scaler.transform(X_test)"
   ]
  },
  {
   "cell_type": "markdown",
   "id": "db5061a4",
   "metadata": {},
   "source": [
    "### Data Imbalance"
   ]
  },
  {
   "cell_type": "markdown",
   "id": "9d0213f4",
   "metadata": {},
   "source": [
    "Data imbalance a common challenge in machine learning and data analysis when one class or category in the dataset significantly outnumbers the other.\n",
    "From our previous analysis we could see that there were imbalances in the target variable which we calculated."
   ]
  },
  {
   "cell_type": "code",
   "execution_count": 683,
   "id": "5fbc132f",
   "metadata": {},
   "outputs": [
    {
     "data": {
      "text/plain": [
       "0    875\n",
       "1    322\n",
       "Name: CLASSIFICATION, dtype: int64"
      ]
     },
     "execution_count": 683,
     "metadata": {},
     "output_type": "execute_result"
    }
   ],
   "source": [
    "df_dummy['CLASSIFICATION'].value_counts()"
   ]
  },
  {
   "cell_type": "markdown",
   "id": "64266f20",
   "metadata": {},
   "source": [
    "Since the target imbalance is not extremely skewed, we are planning to train the models on the unbalanced dataset using ADASYN resampling technique which adaptively generates synthetic samples on the training dataset."
   ]
  },
  {
   "cell_type": "code",
   "execution_count": 684,
   "id": "4142c333",
   "metadata": {},
   "outputs": [],
   "source": [
    "adasyn = ADASYN(sampling_strategy='auto', random_state=42, n_jobs=-1)"
   ]
  },
  {
   "cell_type": "code",
   "execution_count": 685,
   "id": "d03684a5",
   "metadata": {},
   "outputs": [],
   "source": [
    "X_res, y_res = adasyn.fit_resample(X_train, y_train)"
   ]
  },
  {
   "cell_type": "code",
   "execution_count": 686,
   "id": "8bd726cf",
   "metadata": {},
   "outputs": [
    {
     "data": {
      "text/plain": [
       "994     0\n",
       "584     0\n",
       "824     0\n",
       "323     0\n",
       "1106    0\n",
       "       ..\n",
       "715     0\n",
       "905     0\n",
       "1096    1\n",
       "235     1\n",
       "1061    0\n",
       "Name: CLASSIFICATION, Length: 957, dtype: int64"
      ]
     },
     "execution_count": 686,
     "metadata": {},
     "output_type": "execute_result"
    }
   ],
   "source": [
    "y_train"
   ]
  },
  {
   "cell_type": "markdown",
   "id": "8f4c976e",
   "metadata": {},
   "source": [
    "### Metric Selection"
   ]
  },
  {
   "cell_type": "markdown",
   "id": "00c8a4a5",
   "metadata": {},
   "source": [
    "Based on the above data exploration, cleaning and analysis we have balanced data classes hence we are considering accuracy as metric."
   ]
  },
  {
   "cell_type": "markdown",
   "id": "9703f098",
   "metadata": {},
   "source": [
    "\n",
    "\n",
    "## 3. Modelling"
   ]
  },
  {
   "cell_type": "markdown",
   "id": "e0fd4b35",
   "metadata": {},
   "source": [
    "The choice of machine learning algorithms in a garment worker productivity  dataset would be influenced by nature of the problem and the dataset.\n",
    "As We are categorizing garment worker productivity , which is a typical classification problem. Therefore, algorithms like Logistic Regression, Decision Trees, and Support Vector Machines (SVMs) are ideal choices. Logistic Regression, in particular, is well-suited for binary classification, making it a strong candidate for this task.\n",
    "\n",
    "we are using the classification models listed below.\n",
    "\n",
    "* Decision Trees\n",
    "* Support Vector Machines (SVC)\n",
    "* Logistic Regression\n",
    "* XG Boost\n",
    "* MLP Classifier\n",
    "* Random Forest\n",
    "\n"
   ]
  },
  {
   "cell_type": "markdown",
   "id": "5652a87d",
   "metadata": {},
   "source": [
    "### Decision Tree"
   ]
  },
  {
   "cell_type": "code",
   "execution_count": 687,
   "id": "0db83158",
   "metadata": {},
   "outputs": [],
   "source": [
    "clf=DecisionTreeClassifier(random_state=1)\n",
    "_=clf.fit(X_res,y_res)"
   ]
  },
  {
   "cell_type": "code",
   "execution_count": 688,
   "id": "c5aa09cb",
   "metadata": {},
   "outputs": [],
   "source": [
    "y_pred = clf.predict(X_test) "
   ]
  },
  {
   "cell_type": "code",
   "execution_count": 689,
   "id": "a08c8063",
   "metadata": {
    "scrolled": false
   },
   "outputs": [
    {
     "name": "stdout",
     "output_type": "stream",
     "text": [
      "Decision Tree Accuracy: 0.775\n"
     ]
    }
   ],
   "source": [
    "ac=accuracy_score(y_test,y_pred)\n",
    "print(\"Decision Tree Accuracy:\", ac)"
   ]
  },
  {
   "cell_type": "markdown",
   "id": "4e3c2266",
   "metadata": {},
   "source": [
    "### SVC"
   ]
  },
  {
   "cell_type": "code",
   "execution_count": 690,
   "id": "f8fb1ef5",
   "metadata": {},
   "outputs": [],
   "source": [
    "clf1=SVC(random_state=1)\n",
    "_=clf1.fit(X_res,y_res)"
   ]
  },
  {
   "cell_type": "code",
   "execution_count": 691,
   "id": "83cdd403",
   "metadata": {},
   "outputs": [],
   "source": [
    "y_pred = clf1.predict(X_test) "
   ]
  },
  {
   "cell_type": "code",
   "execution_count": 692,
   "id": "ddb226b2",
   "metadata": {},
   "outputs": [
    {
     "name": "stdout",
     "output_type": "stream",
     "text": [
      "SVC Accuracy: 0.6625\n"
     ]
    }
   ],
   "source": [
    "ac=accuracy_score(y_test,y_pred)\n",
    "print(\"SVC Accuracy:\", ac)"
   ]
  },
  {
   "cell_type": "markdown",
   "id": "8781207e",
   "metadata": {},
   "source": [
    "### Logistic Regression"
   ]
  },
  {
   "cell_type": "code",
   "execution_count": 693,
   "id": "932d5a95",
   "metadata": {},
   "outputs": [],
   "source": [
    "clf2=LogisticRegression(random_state=1)\n",
    "_=clf2.fit(X_res,y_res)"
   ]
  },
  {
   "cell_type": "code",
   "execution_count": 694,
   "id": "b08fb782",
   "metadata": {},
   "outputs": [],
   "source": [
    "y_pred=clf2.predict(X_test)"
   ]
  },
  {
   "cell_type": "code",
   "execution_count": 695,
   "id": "f2039261",
   "metadata": {},
   "outputs": [
    {
     "name": "stdout",
     "output_type": "stream",
     "text": [
      "Logistic Regression Accuracy: 0.6583333333333333\n"
     ]
    }
   ],
   "source": [
    "ac=accuracy_score(y_test,y_pred)\n",
    "print(\"Logistic Regression Accuracy:\", ac)"
   ]
  },
  {
   "cell_type": "markdown",
   "id": "704a52db",
   "metadata": {},
   "source": [
    "Decision Tree:\n",
    "\n",
    "* The Accuracy of the decision tree model is 77.5%\n",
    "    \n",
    "* Decision Tree achieved the highest accuracy among the models. It performed reasonably well in classifying or predicting garment worker productivity on the test dataset.\n",
    "\n",
    "SVC (Support Vector Classifier):\n",
    "\n",
    "* The Accuracy of the Support Vector Classifier  model is Accuracy: 66.25%\n",
    "    \n",
    "* SVC had a lower accuracy compared to the Decision Tree. It's essential to note that the default hyperparameters of SVC might not be optimal for this dataset, which is why hyperparameter tuning is necessary.\n",
    "\n",
    "Logistic Regression:\n",
    "\n",
    "* The Accuracy of the logistic Regression model is Accuracy: 65.83%\n",
    "    \n",
    "* Logistic Regression had the lowest accuracy. Like SVC, it's likely that the default hyperparameters are not ideal for this specific task.\n"
   ]
  },
  {
   "cell_type": "markdown",
   "id": "8214a5da",
   "metadata": {},
   "source": [
    "### XG Boost Classifier"
   ]
  },
  {
   "cell_type": "code",
   "execution_count": 696,
   "id": "666e7e50",
   "metadata": {},
   "outputs": [],
   "source": [
    "xgb_classifier = XGBClassifier(random_state=1)\n",
    "_= xgb_classifier.fit(X_res,y_res)"
   ]
  },
  {
   "cell_type": "code",
   "execution_count": 697,
   "id": "174eebd2",
   "metadata": {},
   "outputs": [],
   "source": [
    "y_pred=xgb_classifier.predict(X_test)"
   ]
  },
  {
   "cell_type": "code",
   "execution_count": 698,
   "id": "6b9d2235",
   "metadata": {},
   "outputs": [
    {
     "name": "stdout",
     "output_type": "stream",
     "text": [
      "XG Boost Accuracy: 0.7583333333333333\n"
     ]
    }
   ],
   "source": [
    "ac=accuracy_score(y_test,y_pred)\n",
    "print(\"XG Boost Accuracy:\", ac)"
   ]
  },
  {
   "cell_type": "markdown",
   "id": "83eaa236",
   "metadata": {},
   "source": [
    "### Neural network"
   ]
  },
  {
   "cell_type": "code",
   "execution_count": 699,
   "id": "ed5fa1da",
   "metadata": {},
   "outputs": [],
   "source": [
    "MLP=MLPClassifier(max_iter=10000,random_state=1)\n",
    "_=MLP.fit(X_res,y_res)"
   ]
  },
  {
   "cell_type": "code",
   "execution_count": 700,
   "id": "3acb1eaa",
   "metadata": {},
   "outputs": [],
   "source": [
    "y_pred=MLP.predict(X_test)"
   ]
  },
  {
   "cell_type": "code",
   "execution_count": 701,
   "id": "25d18704",
   "metadata": {},
   "outputs": [
    {
     "name": "stdout",
     "output_type": "stream",
     "text": [
      "Neural Network Accuracy: 0.7333333333333333\n"
     ]
    }
   ],
   "source": [
    "ac=accuracy_score(y_test,y_pred)\n",
    "print(\"Neural Network Accuracy:\", ac)"
   ]
  },
  {
   "cell_type": "markdown",
   "id": "ba13838b",
   "metadata": {},
   "source": [
    "### Random Forest Classifer"
   ]
  },
  {
   "cell_type": "code",
   "execution_count": 702,
   "id": "22f3ee65",
   "metadata": {},
   "outputs": [],
   "source": [
    "RFC=RandomForestClassifier(random_state=1)\n",
    "_=RFC.fit(X_res,y_res)"
   ]
  },
  {
   "cell_type": "code",
   "execution_count": 703,
   "id": "6215f4a9",
   "metadata": {},
   "outputs": [],
   "source": [
    "y_pred=RFC.predict(X_test)"
   ]
  },
  {
   "cell_type": "code",
   "execution_count": 704,
   "id": "ec24e003",
   "metadata": {},
   "outputs": [
    {
     "name": "stdout",
     "output_type": "stream",
     "text": [
      "Random Forest Classifer Accuracy: 0.8125\n"
     ]
    }
   ],
   "source": [
    "ac=accuracy_score(y_test,y_pred)\n",
    "print(\"Random Forest Classifer Accuracy:\", ac)"
   ]
  },
  {
   "cell_type": "markdown",
   "id": "71b3b9ac",
   "metadata": {},
   "source": [
    "Among the above other three classifier algorithms Random Forest Classifier has the Highest Accuracy 0.8125 over all other models befoe hyper parameter tuning, howver after hyperparameter tuning model accuracy comparatively increase or decrease based on Overfitting or Undefitting of the Model."
   ]
  },
  {
   "cell_type": "markdown",
   "id": "40242fb0",
   "metadata": {},
   "source": [
    "## 4. Hyperparamter Tuning"
   ]
  },
  {
   "cell_type": "markdown",
   "id": "9599390f",
   "metadata": {},
   "source": [
    "As lower accuracy  is observed in the above models. In order to enhance the performance of the models, we are planning to perform  hyperparameter tuning.\n",
    "This involves systematically searching for the best combination of hyperparameters, such as the depth of decision trees, the choice of kernel in SVC, or the regularization strength in logistic regression. By fine-tuning these hyperparameters, we can potentially increase the effectiveness of the models, making them more reliable for predicting garment worker productivity.\n",
    "\n"
   ]
  },
  {
   "cell_type": "markdown",
   "id": "4a8cfd33",
   "metadata": {},
   "source": [
    "## Grid and Randomized Search"
   ]
  },
  {
   "cell_type": "markdown",
   "id": "cd232f66",
   "metadata": {},
   "source": [
    "Grid Search and Randomized Search are techniques used for hyperparameter tuning in machine learning. These techniques help optimize the performance of a model by systematically searching and testing different combinations of hyperparameters. \n",
    "The Random search performs faster than Grid search for hyper perameter tuning as combinations of the hyper perameter combinations are randomly sampled from the specified search space. Additionally the random search evaluates multiple combinations in parallel and the random search will stop searching when it satisfies the correct combination which will reduce the processing time."
   ]
  },
  {
   "cell_type": "markdown",
   "id": "2adf2d44",
   "metadata": {},
   "source": [
    "### Grid and Randomized Search for Decision Tree"
   ]
  },
  {
   "cell_type": "code",
   "execution_count": 708,
   "id": "5dc40886",
   "metadata": {},
   "outputs": [
    {
     "name": "stdout",
     "output_type": "stream",
     "text": [
      "accuracy score:  0.837623614024573\n",
      "parameters:  {'criterion': 'gini', 'max_depth': 817, 'max_leaf_nodes': 70, 'min_impurity_decrease': 0.001, 'min_samples_split': 10}\n"
     ]
    }
   ],
   "source": [
    "score_measure = 'accuracy'\n",
    "k_fold = 10\n",
    "# Considering the Parameters\n",
    "param_grid = {\n",
    "    'criterion': ['gini', 'entropy', 'log_loss'],\n",
    "    'max_depth': [int(x) for x in np.linspace(1, 40000, 50)], \n",
    "    'max_leaf_nodes': [2, 5, 10, 20, 30,40,50,60,70],\n",
    "    'min_samples_split': [2, 5, 10, 20, 40, 60, 80, 100], \n",
    "    'min_impurity_decrease': [0, 0.0005, 0.001, 0.005, 0.01], \n",
    "}\n",
    "gridSearch = GridSearchCV(\n",
    "    DecisionTreeClassifier(random_state=1), \n",
    "    param_grid, cv=k_fold, \n",
    "    scoring=score_measure,\n",
    "    n_jobs=-1)  # n_jobs=-1 will utilize all available CPUs \n",
    "\n",
    "gridSearch.fit(X_res, y_res)\n",
    "print(score_measure, 'score: ', gridSearch.best_score_)\n",
    "print('parameters: ', gridSearch.best_params_)\n",
    "\n",
    "bestAccuracyTree = gridSearch.best_estimator_"
   ]
  },
  {
   "cell_type": "code",
   "execution_count": 709,
   "id": "d44c7dbd",
   "metadata": {},
   "outputs": [
    {
     "name": "stdout",
     "output_type": "stream",
     "text": [
      "accuracy score: 0.8213365298172011\n",
      "Best parameters: {'min_samples_split': 40, 'min_samples_leaf': 2, 'min_impurity_decrease': 0, 'max_leaf_nodes': 30, 'max_depth': 30, 'criterion': 'log_loss'}\n"
     ]
    }
   ],
   "source": [
    "k_fold=10\n",
    "param_dist = {\n",
    "     'criterion': ['gini', 'entropy', 'log_loss'],\n",
    "    'max_leaf_nodes': [None, 5, 10, 20, 30, 40],\n",
    "    'max_depth': [2, 5, 10, 20, 30, 40,50,60,70],\n",
    "    'min_samples_split': [2, 5, 10, 20, 40, 60, 80, 100],\n",
    "    'min_samples_leaf': [1, 2, 4],\n",
    "    'min_impurity_decrease': [0, 0.0005, 0.001, 0.005, 0.01]\n",
    "}\n",
    "\n",
    "model = DecisionTreeClassifier(random_state=1)\n",
    "\n",
    "\n",
    "randomSearch = RandomizedSearchCV(\n",
    "    model, param_distributions=param_dist, n_iter=10, cv=k_fold, scoring=score_measure, n_jobs=-1, random_state=1)\n",
    "\n",
    "randomSearch.fit(X_res, y_res)\n",
    "\n",
    "best_params = randomSearch.best_params_\n",
    "best_estimator = randomSearch.best_estimator_\n",
    "\n",
    "print(score_measure, 'score:', randomSearch.best_score_)\n",
    "print('Best parameters:', best_params)\n",
    "\n",
    "bestAccuracyTree = randomSearch.best_estimator_"
   ]
  },
  {
   "cell_type": "markdown",
   "id": "0e33598f",
   "metadata": {},
   "source": [
    "### Grid and Randomized Search for LOG GD"
   ]
  },
  {
   "cell_type": "code",
   "execution_count": 710,
   "id": "2cf82356",
   "metadata": {},
   "outputs": [
    {
     "name": "stdout",
     "output_type": "stream",
     "text": [
      "accuracy score: 0.6882479272799921\n",
      "Best parameters: {'C': 10, 'penalty': 'l1', 'solver': 'liblinear'}\n"
     ]
    }
   ],
   "source": [
    "score_measure = 'accuracy'\n",
    "k_fold = 10\n",
    "\n",
    "\n",
    "param_grid = {\n",
    "    'C': [0.001, 0.01, 0.1, 1, 10, 100, 1000,10000],  \n",
    "    'penalty': ['l1', 'l2'], \n",
    "    'solver': ['liblinear'], \n",
    "}\n",
    "\n",
    "# Initializing the  GridSearchCV for the Logistic Regression\n",
    "gridSearch = GridSearchCV(\n",
    "    LogisticRegression(random_state=1),\n",
    "    param_grid,\n",
    "    cv=k_fold,\n",
    "    scoring=score_measure,\n",
    "    n_jobs=-1 \n",
    ")\n",
    "\n",
    "gridSearch.fit(X_res, y_res)\n",
    "\n",
    "best_params = gridSearch.best_params_\n",
    "best_estimator = gridSearch.best_estimator_\n",
    "\n",
    "print(score_measure, 'score:', gridSearch.best_score_)\n",
    "print('Best parameters:', best_params)\n",
    "\n",
    "# storing the best Logistic Regression model:\n",
    "bestLogisticRegression = gridSearch.best_estimator_"
   ]
  },
  {
   "cell_type": "code",
   "execution_count": 714,
   "id": "05d40fe4",
   "metadata": {},
   "outputs": [
    {
     "name": "stdout",
     "output_type": "stream",
     "text": [
      "accuracy score: 0.6868244930576367\n",
      "Best parameters: {'solver': 'saga', 'penalty': 'l1', 'max_iter': 10000, 'C': 1}\n"
     ]
    }
   ],
   "source": [
    "# Defining the hyperparameter search space for Logistic Regression\n",
    "k_fold=10\n",
    "param_dist = {\n",
    "    'C': [0.001, 0.01, 0.1, 1],\n",
    "    'penalty': ['l1', 'l2'],\n",
    "    'solver': ['liblinear', 'saga'],\n",
    "    'max_iter': [10000, 200000, 300000, 400000, 500000],\n",
    "}\n",
    "\n",
    "# Creating a Logistic Regression model\n",
    "model = LogisticRegression(random_state=1)\n",
    "\n",
    "# Initializing RandomizedSearchCV\n",
    "randomSearch = RandomizedSearchCV(\n",
    "    model, param_distributions=param_dist, n_iter=10000, cv=k_fold, scoring=score_measure, n_jobs=-1, random_state=1)\n",
    "\n",
    "# Fitting the RandomizedSearchCV to  training data\n",
    "randomSearch.fit(X_res, y_res)\n",
    "\n",
    "# Get the best parameters and best estimator\n",
    "best_params = randomSearch.best_params_\n",
    "best_estimator = randomSearch.best_estimator_\n",
    "\n",
    "# Printing the best parameters and their corresponding performance\n",
    "print(score_measure, 'score:', randomSearch.best_score_)\n",
    "print('Best parameters:', best_params)\n",
    "\n",
    "bestAccuracyLogisticrand = randomSearch.best_estimator_"
   ]
  },
  {
   "cell_type": "markdown",
   "id": "bfa81dda",
   "metadata": {},
   "source": [
    "### Grid and Randomized Search for SVM"
   ]
  },
  {
   "cell_type": "code",
   "execution_count": 713,
   "id": "b7fc444b",
   "metadata": {},
   "outputs": [
    {
     "name": "stdout",
     "output_type": "stream",
     "text": [
      "accuracy score: 0.8573169513535112\n",
      "Best Parameters: {'C': 100, 'degree': 2, 'gamma': 'scale', 'kernel': 'rbf'}\n",
      "Test Accuracy: 0.6958333333333333\n"
     ]
    }
   ],
   "source": [
    "# Defining the hyperparameter for the SVM \n",
    "\n",
    "param_grid = {\n",
    "    'C': [0.1, 1, 10, 100],  # Regularization parameter\n",
    "    'kernel': ['rbf','poly','linear'],  # Kernel type\n",
    "    'degree': [2, 3, 4,'scale', 'auto'],  # Degree of the polynomial kernel (if 'poly' is chosen)\n",
    "    'gamma': ['scale', 'auto'] + [0.001, 0.01, 0.1, 1], # Kernel coefficient (if 'rbf' or 'poly' is chosen)\n",
    "    \n",
    "}\n",
    "\n",
    "# Defining the Model (SVC for classification)\n",
    "model = SVC(random_state=1)\n",
    "\n",
    "\n",
    "\n",
    "# Initializing the  GridSearchCV for SVM\n",
    "grid_search = GridSearchCV(\n",
    "    model, param_grid=param_grid, cv=k_fold, scoring=score_measure, n_jobs=-1\n",
    ")\n",
    "\n",
    "# Fitting the GridSearchCV the split data\n",
    "grid_search.fit(X_res, y_res)\n",
    "\n",
    "# Getting the best parameters and best estimator\n",
    "best_params = grid_search.best_params_\n",
    "best_estimator = grid_search.best_estimator_\n",
    "\n",
    "# Evaluate the best model on  test data\n",
    "test_accuracy = best_estimator.score(X_test, y_test)\n",
    "\n",
    "# Printing the best parameters and test accuracy\n",
    "print(score_measure, 'score:', grid_search.best_score_)\n",
    "print('Best Parameters:', best_params)\n",
    "print('Test Accuracy:', test_accuracy)"
   ]
  },
  {
   "cell_type": "code",
   "execution_count": 624,
   "id": "06e0a4be",
   "metadata": {},
   "outputs": [
    {
     "name": "stdout",
     "output_type": "stream",
     "text": [
      "accuracy score: 0.8269303765857557\n",
      "Best parameters: {'kernel': 'rbf', 'gamma': 'scale', 'degree': 3, 'C': 10}\n"
     ]
    }
   ],
   "source": [
    "# Defining the  hyperparameter search space for SVM\n",
    "k_fold=10\n",
    "param_dist = {\n",
    "    'C': [0.1, 1, 10],\n",
    "    'kernel': ['linear', 'poly', 'rbf', 'sigmoid'],\n",
    "    'gamma': [0.1, 1, 10, 'scale', 'auto'],\n",
    "    'degree': [2, 3, 4, 5],\n",
    "}\n",
    "\n",
    "# Create an SVM classifier\n",
    "model = SVC(random_state=1)\n",
    "\n",
    "\n",
    "randomSearch = RandomizedSearchCV(\n",
    "    model, param_distributions=param_dist, n_iter=10, cv=k_fold, scoring=score_measure, n_jobs=-1, random_state=1)\n",
    "\n",
    "randomSearch.fit(X_res, y_res)\n",
    "\n",
    "best_params = randomSearch.best_params_\n",
    "best_estimator = randomSearch.best_estimator_\n",
    "\n",
    "print(score_measure, 'score:', randomSearch.best_score_)\n",
    "print('Best parameters:', best_params)\n",
    "\n",
    "bestAccuracySVM = randomSearch.best_estimator_"
   ]
  },
  {
   "cell_type": "markdown",
   "id": "577a53d6",
   "metadata": {},
   "source": [
    "### Grid and Random Search XG Boost Classifer "
   ]
  },
  {
   "cell_type": "code",
   "execution_count": 633,
   "id": "c49c8702",
   "metadata": {},
   "outputs": [
    {
     "name": "stdout",
     "output_type": "stream",
     "text": [
      "Best hyperparameters from grid search: {'learning_rate': 0.1, 'max_depth': 4, 'n_estimators': 200, 'subsample': 0.8}\n",
      "Accuracy (Grid Search): 0.8125\n",
      "Best hyperparameters from random search: {'subsample': 0.9, 'n_estimators': 300, 'max_depth': 3, 'learning_rate': 0.2}\n",
      "Accuracy (Random Search): 0.8\n"
     ]
    }
   ],
   "source": [
    "# Define hyperparameters for grid search\n",
    "param_grid = {\n",
    "    'n_estimators': [100, 200, 300],\n",
    "    'max_depth': [3, 4, 5],\n",
    "    'learning_rate': [0.01, 0.1, 0.2],\n",
    "    'subsample': [0.8, 0.9, 1.0]\n",
    "}\n",
    "\n",
    "# Create an XGBoost classifier\n",
    "xgb_classifier = XGBClassifier()\n",
    "\n",
    "# Create a GridSearchCV object\n",
    "grid_search = GridSearchCV(xgb_classifier, param_grid=param_grid, cv=5, n_jobs=-1,)\n",
    "grid_search.fit(X_res, y_res)\n",
    "\n",
    "# Get the best hyperparameters from grid search\n",
    "best_params = grid_search.best_params_\n",
    "print(\"Best hyperparameters from grid search:\", best_params)\n",
    "\n",
    "# Evaluate the model with the best hyperparameters from grid search\n",
    "best_grid_model = grid_search.best_estimator_\n",
    "y_grid_pred = best_grid_model.predict(X_test)\n",
    "\n",
    "# Calculate the accuracy for grid search\n",
    "accuracy_grid = accuracy_score(y_test, y_grid_pred)\n",
    "print(\"Accuracy (Grid Search):\", accuracy_grid)\n",
    "\n",
    "# Define hyperparameters for random search\n",
    "param_dist = {\n",
    "    'n_estimators': [100, 200, 300],\n",
    "    'max_depth': [3, 4, 5],\n",
    "    'learning_rate': [0.01, 0.1, 0.2],\n",
    "    'subsample': [ 0.9, 1.0]\n",
    "}\n",
    "\n",
    "# Create a RandomizedSearchCV object\n",
    "random_search = RandomizedSearchCV(xgb_classifier, param_distributions=param_dist, n_iter=10, cv=5, n_jobs=-1, random_state=1)\n",
    "random_search.fit(X_res, y_res)\n",
    "\n",
    "# Get the best hyperparameters from random search\n",
    "best_random_params = random_search.best_params_\n",
    "print(\"Best hyperparameters from random search:\", best_random_params)\n",
    "\n",
    "# Evaluate the model with the best hyperparameters from random search\n",
    "best_random_model = random_search.best_estimator_\n",
    "y_random_pred = best_random_model.predict(X_test)\n",
    "\n",
    "# Calculate the accuracy for random search\n",
    "accuracy_random = accuracy_score(y_test, y_random_pred)\n",
    "print(\"Accuracy (Random Search):\", accuracy_random)\n"
   ]
  },
  {
   "cell_type": "markdown",
   "id": "03c161f0",
   "metadata": {},
   "source": [
    "### Grid and Random Search Neural Network Classifer "
   ]
  },
  {
   "cell_type": "code",
   "execution_count": 636,
   "id": "e64fb7dd",
   "metadata": {},
   "outputs": [
    {
     "name": "stdout",
     "output_type": "stream",
     "text": [
      "Best hyperparameters from grid search: {'activation': 'relu', 'alpha': 0.01, 'hidden_layer_sizes': (100, 50)}\n",
      "Accuracy (Grid Search): 0.7166666666666667\n",
      "Best hyperparameters from random search: {'hidden_layer_sizes': (50,), 'alpha': 0.0001, 'activation': 'relu'}\n",
      "Accuracy (Random Search): 0.725\n"
     ]
    }
   ],
   "source": [
    "# Define hyperparameters for grid search\n",
    "param_grid = {\n",
    "    'hidden_layer_sizes': [(50,), (100, 50), (100, 100, 50)],\n",
    "    'alpha': [ 0.001, 0.01],\n",
    "    'activation': ['logistic', 'tanh', 'relu']\n",
    "}\n",
    "\n",
    "# Create an MLPClassifier\n",
    "mlp_classifier = MLPClassifier(max_iter=10000,random_state=1)\n",
    "\n",
    "# Create a GridSearchCV object\n",
    "grid_search = GridSearchCV(mlp_classifier, param_grid=param_grid, cv=5, n_jobs=-1)\n",
    "grid_search.fit(X_res, y_res)\n",
    "\n",
    "\n",
    "# Get the best hyperparameters from grid search\n",
    "best_params = grid_search.best_params_\n",
    "print(\"Best hyperparameters from grid search:\", best_params)\n",
    "\n",
    "# Evaluate the model with the best hyperparameters from grid search\n",
    "best_grid_model = grid_search.best_estimator_\n",
    "y_grid_pred = best_grid_model.predict(X_test)\n",
    "\n",
    "# Calculate the accuracy for grid search\n",
    "accuracy_grid = accuracy_score(y_test, y_grid_pred)\n",
    "print(\"Accuracy (Grid Search):\", accuracy_grid)\n",
    "\n",
    "# Define hyperparameters for random search\n",
    "param_dist = {\n",
    "    'hidden_layer_sizes': [(50,), (100, 50), (100, 100, 50)],\n",
    "    'alpha': [0.0001, 0.01],\n",
    "    'activation': ['logistic', 'tanh', 'relu']\n",
    "}\n",
    "\n",
    "# Create a RandomizedSearchCV object\n",
    "random_search = RandomizedSearchCV(mlp_classifier, param_distributions=param_dist, n_iter=10, cv=5 ,n_jobs=-1)\n",
    "random_search.fit(X_res, y_res)\n",
    "\n",
    "# Get the best hyperparameters from random search\n",
    "best_random_params = random_search.best_params_\n",
    "print(\"Best hyperparameters from random search:\", best_random_params)\n",
    "\n",
    "# Evaluate the model with the best hyperparameters from random search\n",
    "best_random_model = random_search.best_estimator_\n",
    "y_random_pred = best_random_model.predict(X_test)\n",
    "\n",
    "# Calculate the accuracy for random search\n",
    "accuracy_random = accuracy_score(y_test, y_random_pred)\n",
    "print(\"Accuracy (Random Search):\", accuracy_random)\n"
   ]
  },
  {
   "cell_type": "markdown",
   "id": "a258d845",
   "metadata": {},
   "source": [
    "### Grid and Random Search Random Forest Classifer "
   ]
  },
  {
   "cell_type": "code",
   "execution_count": 643,
   "id": "5d711745",
   "metadata": {},
   "outputs": [
    {
     "name": "stdout",
     "output_type": "stream",
     "text": [
      "Best hyperparameters from grid search: {'bootstrap': False, 'max_depth': 20, 'min_samples_leaf': 1, 'min_samples_split': 5, 'n_estimators': 300}\n",
      "Accuracy (Grid Search): 0.8125\n",
      "Best hyperparameters from random search: {'n_estimators': 100, 'min_samples_split': 2, 'min_samples_leaf': 2, 'max_depth': 20, 'bootstrap': False}\n",
      "Accuracy (Random Search): 0.8041666666666667\n"
     ]
    }
   ],
   "source": [
    "# Define hyperparameters for grid search\n",
    "param_grid = {\n",
    "    'n_estimators': [100, 200, 300],\n",
    "    'max_depth': [None, 10, 20, 30],\n",
    "    'min_samples_split': [2, 5, 10],\n",
    "    'min_samples_leaf': [1, 2, 4],\n",
    "    'bootstrap': [True, False]\n",
    "}\n",
    "\n",
    "# Create a RandomForestClassifier\n",
    "rf_classifier = RandomForestClassifier()\n",
    "\n",
    "# Create a GridSearchCV object\n",
    "grid_search = GridSearchCV(rf_classifier, param_grid=param_grid, cv=5, n_jobs=-1)\n",
    "grid_search.fit(X_res, y_res)\n",
    "\n",
    "# Get the best hyperparameters from grid search\n",
    "best_params = grid_search.best_params_\n",
    "print(\"Best hyperparameters from grid search:\", best_params)\n",
    "\n",
    "# Evaluate the model with the best hyperparameters from grid search\n",
    "best_grid_model = grid_search.best_estimator_\n",
    "y_grid_pred = best_grid_model.predict(X_test)\n",
    "\n",
    "# Calculate the accuracy for grid search\n",
    "accuracy_grid = accuracy_score(y_test, y_grid_pred)\n",
    "print(\"Accuracy (Grid Search):\", accuracy_grid)\n",
    "\n",
    "# Define hyperparameters for random search\n",
    "param_dist = {\n",
    "    'n_estimators': [100, 200, 300],\n",
    "    'max_depth': [None, 10, 20, 30],\n",
    "    'min_samples_split': [2, 5, 10],\n",
    "    'min_samples_leaf': [ 2, 4],\n",
    "    'bootstrap': [True, False]\n",
    "}\n",
    "\n",
    "# Create a RandomizedSearchCV object\n",
    "random_search = RandomizedSearchCV(rf_classifier, param_distributions=param_dist, n_iter=10, cv=5, n_jobs=-1,random_state=1)\n",
    "random_search.fit(X_res, y_res)\n",
    "\n",
    "# Get the best hyperparameters from random search\n",
    "best_random_params = random_search.best_params_\n",
    "print(\"Best hyperparameters from random search:\", best_random_params)\n",
    "\n",
    "# Evaluate the model with the best hyperparameters from random search\n",
    "best_random_model = random_search.best_estimator_\n",
    "y_random_pred = best_random_model.predict(X_test)\n",
    "\n",
    "# Calculate the accuracy for random search\n",
    "accuracy_random = accuracy_score(y_test, y_random_pred)\n",
    "print(\"Accuracy (Random Search):\", accuracy_random)\n"
   ]
  },
  {
   "cell_type": "markdown",
   "id": "30d5ce35",
   "metadata": {},
   "source": [
    "For each case from the above models Grid search and Random search has been implemented to explore a range of hyperparameter combinations to yield out the best combination of parameters with their respective model accuracies."
   ]
  },
  {
   "cell_type": "markdown",
   "id": "1499cd90",
   "metadata": {},
   "source": [
    "## 5. Summary"
   ]
  },
  {
   "cell_type": "markdown",
   "id": "f244974e",
   "metadata": {},
   "source": [
    "One key insight is that feature selection and data preprocessing play a significant role in calculating and improving model performance.\n",
    "\n",
    "We've implemented Decision Tree, SVM,Logistic Regression, XG Boost, Neural network and Random forest on our dataset and We've got the following conclusions:\n",
    "\n",
    "The Accuracies that Each Model Generated are ..\n",
    "\n",
    "- Decision Tree : 0.7750\n",
    "- SVM : 0.6625\n",
    "- Logistic Regression : 0.6583\n",
    "- XG boost : 0.75833\n",
    "- Neural Networks : 0.73333\n",
    "- Random forest : 0.8125\n",
    "\n",
    "Decision Tree:\n",
    "the accuracy scores of Grid search and Random search for decision tree are 0.83762 and 0.82133.\n",
    "\n",
    "SVM:\n",
    "the accuracy scores of Grid search and Random search Support Vector Machine  are 0.85731 and 0.82693\n",
    "\n",
    "Logistic Regression:\n",
    "the accuracy scores of Grid search and Random search for Logistic Regression are 0.68824 and 0.68682\n",
    "\n",
    "XG Boost :\n",
    "the accuracy scores of Grid search and Random search for XG Boost are 0.8125 and 0.80.\n",
    "\n",
    "Neural network :\n",
    "the accuracy scores of Grid search and Random search for Neural network are 0.71666 and 0.725\n",
    "\n",
    "Random forest :\n",
    "the accuracy scores of Grid search and Random search for Random Forest are 0.81250 and 0.80416."
   ]
  },
  {
   "cell_type": "markdown",
   "id": "3922c19a",
   "metadata": {},
   "source": [
    "Based on the metric \"accuracy\" SVM Grid search has the best accuracy among all the models.The productivity of the Garment Workers is best predicted when SVM Grid Search has been used."
   ]
  }
 ],
 "metadata": {
  "kernelspec": {
   "display_name": "Python 3 (ipykernel)",
   "language": "python",
   "name": "python3"
  },
  "language_info": {
   "codemirror_mode": {
    "name": "ipython",
    "version": 3
   },
   "file_extension": ".py",
   "mimetype": "text/x-python",
   "name": "python",
   "nbconvert_exporter": "python",
   "pygments_lexer": "ipython3",
   "version": "3.11.4"
  }
 },
 "nbformat": 4,
 "nbformat_minor": 5
}
